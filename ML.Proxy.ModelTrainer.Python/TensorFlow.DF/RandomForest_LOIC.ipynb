{
 "metadata": {
  "language_info": {
   "codemirror_mode": {
    "name": "ipython",
    "version": 3
   },
   "file_extension": ".py",
   "mimetype": "text/x-python",
   "name": "python",
   "nbconvert_exporter": "python",
   "pygments_lexer": "ipython3",
   "version": "3.8.5"
  },
  "orig_nbformat": 4,
  "kernelspec": {
   "name": "python3",
   "display_name": "Python 3.8.5 64-bit"
  },
  "interpreter": {
   "hash": "31f2aee4e71d21fbe5cf8b01ff0e069b9275f58929596ceb00d14d90e3e16cd6"
  }
 },
 "nbformat": 4,
 "nbformat_minor": 2,
 "cells": [
  {
   "cell_type": "code",
   "execution_count": 1,
   "metadata": {},
   "outputs": [],
   "source": [
    "\n",
    "###############################################################################\n",
    "# Random Forest Classification Model (TensorFlow)                             #\n",
    "# For LOIC Dataset                                                            #\n",
    "# Based on the Implementation of:                                             #\n",
    "# https://www.tensorflow.org/decision_forests/tutorials/beginner_colab        #\n",
    "###############################################################################\n"
   ]
  },
  {
   "cell_type": "code",
   "execution_count": 2,
   "metadata": {},
   "outputs": [
    {
     "output_type": "stream",
     "name": "stdout",
     "text": [
      "Requirement already satisfied: pandas in /home/julianbuecher/Projects/Bachelor-Thesis/ML.Proxy.ModelTrainer.Python/lib/python3.8/site-packages (1.2.5)\n",
      "Requirement already satisfied: numpy>=1.16.5 in /home/julianbuecher/Projects/Bachelor-Thesis/ML.Proxy.ModelTrainer.Python/lib/python3.8/site-packages (from pandas) (1.19.2)\n",
      "Requirement already satisfied: pytz>=2017.3 in /home/julianbuecher/Projects/Bachelor-Thesis/ML.Proxy.ModelTrainer.Python/lib/python3.8/site-packages (from pandas) (2021.1)\n",
      "Requirement already satisfied: python-dateutil>=2.7.3 in /home/julianbuecher/Projects/Bachelor-Thesis/ML.Proxy.ModelTrainer.Python/lib/python3.8/site-packages (from pandas) (2.8.1)\n",
      "Requirement already satisfied: six>=1.5 in /home/julianbuecher/Projects/Bachelor-Thesis/ML.Proxy.ModelTrainer.Python/lib/python3.8/site-packages (from python-dateutil>=2.7.3->pandas) (1.15.0)\n",
      "Requirement already satisfied: tensorflow_decision_forests in /home/julianbuecher/Projects/Bachelor-Thesis/ML.Proxy.ModelTrainer.Python/lib/python3.8/site-packages (0.1.7)\n",
      "Requirement already satisfied: tensorflow~=2.5 in /home/julianbuecher/Projects/Bachelor-Thesis/ML.Proxy.ModelTrainer.Python/lib/python3.8/site-packages (from tensorflow_decision_forests) (2.5.0)\n",
      "Requirement already satisfied: numpy in /home/julianbuecher/Projects/Bachelor-Thesis/ML.Proxy.ModelTrainer.Python/lib/python3.8/site-packages (from tensorflow_decision_forests) (1.19.2)\n",
      "Requirement already satisfied: absl-py in /home/julianbuecher/Projects/Bachelor-Thesis/ML.Proxy.ModelTrainer.Python/lib/python3.8/site-packages (from tensorflow_decision_forests) (0.13.0)\n",
      "Requirement already satisfied: wheel in /home/julianbuecher/Projects/Bachelor-Thesis/ML.Proxy.ModelTrainer.Python/lib/python3.8/site-packages (from tensorflow_decision_forests) (0.36.2)\n",
      "Requirement already satisfied: pandas in /home/julianbuecher/Projects/Bachelor-Thesis/ML.Proxy.ModelTrainer.Python/lib/python3.8/site-packages (from tensorflow_decision_forests) (1.2.5)\n",
      "Requirement already satisfied: six in /home/julianbuecher/Projects/Bachelor-Thesis/ML.Proxy.ModelTrainer.Python/lib/python3.8/site-packages (from tensorflow_decision_forests) (1.15.0)\n",
      "Requirement already satisfied: termcolor~=1.1.0 in /home/julianbuecher/Projects/Bachelor-Thesis/ML.Proxy.ModelTrainer.Python/lib/python3.8/site-packages (from tensorflow~=2.5->tensorflow_decision_forests) (1.1.0)\n",
      "Requirement already satisfied: tensorboard~=2.5 in /home/julianbuecher/Projects/Bachelor-Thesis/ML.Proxy.ModelTrainer.Python/lib/python3.8/site-packages (from tensorflow~=2.5->tensorflow_decision_forests) (2.5.0)\n",
      "Requirement already satisfied: h5py~=3.1.0 in /home/julianbuecher/Projects/Bachelor-Thesis/ML.Proxy.ModelTrainer.Python/lib/python3.8/site-packages (from tensorflow~=2.5->tensorflow_decision_forests) (3.1.0)\n",
      "Requirement already satisfied: keras-preprocessing~=1.1.2 in /home/julianbuecher/Projects/Bachelor-Thesis/ML.Proxy.ModelTrainer.Python/lib/python3.8/site-packages (from tensorflow~=2.5->tensorflow_decision_forests) (1.1.2)\n",
      "Requirement already satisfied: typing-extensions~=3.7.4 in /home/julianbuecher/Projects/Bachelor-Thesis/ML.Proxy.ModelTrainer.Python/lib/python3.8/site-packages (from tensorflow~=2.5->tensorflow_decision_forests) (3.7.4.3)\n",
      "Requirement already satisfied: keras-nightly~=2.5.0.dev in /home/julianbuecher/Projects/Bachelor-Thesis/ML.Proxy.ModelTrainer.Python/lib/python3.8/site-packages (from tensorflow~=2.5->tensorflow_decision_forests) (2.5.0.dev2021032900)\n",
      "Requirement already satisfied: tensorflow-estimator<2.6.0,>=2.5.0rc0 in /home/julianbuecher/Projects/Bachelor-Thesis/ML.Proxy.ModelTrainer.Python/lib/python3.8/site-packages (from tensorflow~=2.5->tensorflow_decision_forests) (2.5.0)\n",
      "Requirement already satisfied: wrapt~=1.12.1 in /home/julianbuecher/Projects/Bachelor-Thesis/ML.Proxy.ModelTrainer.Python/lib/python3.8/site-packages (from tensorflow~=2.5->tensorflow_decision_forests) (1.12.1)\n",
      "Requirement already satisfied: gast==0.4.0 in /home/julianbuecher/Projects/Bachelor-Thesis/ML.Proxy.ModelTrainer.Python/lib/python3.8/site-packages (from tensorflow~=2.5->tensorflow_decision_forests) (0.4.0)\n",
      "Requirement already satisfied: protobuf>=3.9.2 in /home/julianbuecher/Projects/Bachelor-Thesis/ML.Proxy.ModelTrainer.Python/lib/python3.8/site-packages (from tensorflow~=2.5->tensorflow_decision_forests) (3.17.3)\n",
      "Requirement already satisfied: astunparse~=1.6.3 in /home/julianbuecher/Projects/Bachelor-Thesis/ML.Proxy.ModelTrainer.Python/lib/python3.8/site-packages (from tensorflow~=2.5->tensorflow_decision_forests) (1.6.3)\n",
      "Requirement already satisfied: grpcio~=1.34.0 in /home/julianbuecher/Projects/Bachelor-Thesis/ML.Proxy.ModelTrainer.Python/lib/python3.8/site-packages (from tensorflow~=2.5->tensorflow_decision_forests) (1.34.1)\n",
      "Requirement already satisfied: flatbuffers~=1.12.0 in /home/julianbuecher/Projects/Bachelor-Thesis/ML.Proxy.ModelTrainer.Python/lib/python3.8/site-packages (from tensorflow~=2.5->tensorflow_decision_forests) (1.12)\n",
      "Requirement already satisfied: opt-einsum~=3.3.0 in /home/julianbuecher/Projects/Bachelor-Thesis/ML.Proxy.ModelTrainer.Python/lib/python3.8/site-packages (from tensorflow~=2.5->tensorflow_decision_forests) (3.3.0)\n",
      "Requirement already satisfied: google-pasta~=0.2 in /home/julianbuecher/Projects/Bachelor-Thesis/ML.Proxy.ModelTrainer.Python/lib/python3.8/site-packages (from tensorflow~=2.5->tensorflow_decision_forests) (0.2.0)\n",
      "Requirement already satisfied: python-dateutil>=2.7.3 in /home/julianbuecher/Projects/Bachelor-Thesis/ML.Proxy.ModelTrainer.Python/lib/python3.8/site-packages (from pandas->tensorflow_decision_forests) (2.8.1)\n",
      "Requirement already satisfied: pytz>=2017.3 in /home/julianbuecher/Projects/Bachelor-Thesis/ML.Proxy.ModelTrainer.Python/lib/python3.8/site-packages (from pandas->tensorflow_decision_forests) (2021.1)\n",
      "Requirement already satisfied: markdown>=2.6.8 in /home/julianbuecher/Projects/Bachelor-Thesis/ML.Proxy.ModelTrainer.Python/lib/python3.8/site-packages (from tensorboard~=2.5->tensorflow~=2.5->tensorflow_decision_forests) (3.3.4)\n",
      "Requirement already satisfied: werkzeug>=0.11.15 in /home/julianbuecher/Projects/Bachelor-Thesis/ML.Proxy.ModelTrainer.Python/lib/python3.8/site-packages (from tensorboard~=2.5->tensorflow~=2.5->tensorflow_decision_forests) (2.0.1)\n",
      "Requirement already satisfied: setuptools>=41.0.0 in /home/julianbuecher/Projects/Bachelor-Thesis/ML.Proxy.ModelTrainer.Python/lib/python3.8/site-packages (from tensorboard~=2.5->tensorflow~=2.5->tensorflow_decision_forests) (44.0.0)\n",
      "Requirement already satisfied: tensorboard-data-server<0.7.0,>=0.6.0 in /home/julianbuecher/Projects/Bachelor-Thesis/ML.Proxy.ModelTrainer.Python/lib/python3.8/site-packages (from tensorboard~=2.5->tensorflow~=2.5->tensorflow_decision_forests) (0.6.1)\n",
      "Requirement already satisfied: requests<3,>=2.21.0 in /home/julianbuecher/Projects/Bachelor-Thesis/ML.Proxy.ModelTrainer.Python/lib/python3.8/site-packages (from tensorboard~=2.5->tensorflow~=2.5->tensorflow_decision_forests) (2.25.1)\n",
      "Requirement already satisfied: google-auth<2,>=1.6.3 in /home/julianbuecher/Projects/Bachelor-Thesis/ML.Proxy.ModelTrainer.Python/lib/python3.8/site-packages (from tensorboard~=2.5->tensorflow~=2.5->tensorflow_decision_forests) (1.32.0)\n",
      "Requirement already satisfied: tensorboard-plugin-wit>=1.6.0 in /home/julianbuecher/Projects/Bachelor-Thesis/ML.Proxy.ModelTrainer.Python/lib/python3.8/site-packages (from tensorboard~=2.5->tensorflow~=2.5->tensorflow_decision_forests) (1.8.0)\n",
      "Requirement already satisfied: google-auth-oauthlib<0.5,>=0.4.1 in /home/julianbuecher/Projects/Bachelor-Thesis/ML.Proxy.ModelTrainer.Python/lib/python3.8/site-packages (from tensorboard~=2.5->tensorflow~=2.5->tensorflow_decision_forests) (0.4.4)\n",
      "Requirement already satisfied: certifi>=2017.4.17 in /home/julianbuecher/Projects/Bachelor-Thesis/ML.Proxy.ModelTrainer.Python/lib/python3.8/site-packages (from requests<3,>=2.21.0->tensorboard~=2.5->tensorflow~=2.5->tensorflow_decision_forests) (2021.5.30)\n",
      "Requirement already satisfied: chardet<5,>=3.0.2 in /home/julianbuecher/Projects/Bachelor-Thesis/ML.Proxy.ModelTrainer.Python/lib/python3.8/site-packages (from requests<3,>=2.21.0->tensorboard~=2.5->tensorflow~=2.5->tensorflow_decision_forests) (4.0.0)\n",
      "Requirement already satisfied: idna<3,>=2.5 in /home/julianbuecher/Projects/Bachelor-Thesis/ML.Proxy.ModelTrainer.Python/lib/python3.8/site-packages (from requests<3,>=2.21.0->tensorboard~=2.5->tensorflow~=2.5->tensorflow_decision_forests) (2.10)\n",
      "Requirement already satisfied: urllib3<1.27,>=1.21.1 in /home/julianbuecher/Projects/Bachelor-Thesis/ML.Proxy.ModelTrainer.Python/lib/python3.8/site-packages (from requests<3,>=2.21.0->tensorboard~=2.5->tensorflow~=2.5->tensorflow_decision_forests) (1.26.5)\n",
      "Requirement already satisfied: pyasn1-modules>=0.2.1 in /home/julianbuecher/Projects/Bachelor-Thesis/ML.Proxy.ModelTrainer.Python/lib/python3.8/site-packages (from google-auth<2,>=1.6.3->tensorboard~=2.5->tensorflow~=2.5->tensorflow_decision_forests) (0.2.8)\n",
      "Requirement already satisfied: rsa<5,>=3.1.4; python_version >= \"3.6\" in /home/julianbuecher/Projects/Bachelor-Thesis/ML.Proxy.ModelTrainer.Python/lib/python3.8/site-packages (from google-auth<2,>=1.6.3->tensorboard~=2.5->tensorflow~=2.5->tensorflow_decision_forests) (4.7.2)\n",
      "Requirement already satisfied: cachetools<5.0,>=2.0.0 in /home/julianbuecher/Projects/Bachelor-Thesis/ML.Proxy.ModelTrainer.Python/lib/python3.8/site-packages (from google-auth<2,>=1.6.3->tensorboard~=2.5->tensorflow~=2.5->tensorflow_decision_forests) (4.2.2)\n",
      "Requirement already satisfied: requests-oauthlib>=0.7.0 in /home/julianbuecher/Projects/Bachelor-Thesis/ML.Proxy.ModelTrainer.Python/lib/python3.8/site-packages (from google-auth-oauthlib<0.5,>=0.4.1->tensorboard~=2.5->tensorflow~=2.5->tensorflow_decision_forests) (1.3.0)\n",
      "Requirement already satisfied: pyasn1<0.5.0,>=0.4.6 in /home/julianbuecher/Projects/Bachelor-Thesis/ML.Proxy.ModelTrainer.Python/lib/python3.8/site-packages (from pyasn1-modules>=0.2.1->google-auth<2,>=1.6.3->tensorboard~=2.5->tensorflow~=2.5->tensorflow_decision_forests) (0.4.8)\n",
      "Requirement already satisfied: oauthlib>=3.0.0 in /home/julianbuecher/Projects/Bachelor-Thesis/ML.Proxy.ModelTrainer.Python/lib/python3.8/site-packages (from requests-oauthlib>=0.7.0->google-auth-oauthlib<0.5,>=0.4.1->tensorboard~=2.5->tensorflow~=2.5->tensorflow_decision_forests) (3.1.1)\n",
      "Requirement already satisfied: wurlitzer in /home/julianbuecher/Projects/Bachelor-Thesis/ML.Proxy.ModelTrainer.Python/lib/python3.8/site-packages (2.1.0)\n",
      "Requirement already satisfied: matplotlib in /home/julianbuecher/Projects/Bachelor-Thesis/ML.Proxy.ModelTrainer.Python/lib/python3.8/site-packages (3.4.2)\n",
      "Requirement already satisfied: cycler>=0.10 in /home/julianbuecher/Projects/Bachelor-Thesis/ML.Proxy.ModelTrainer.Python/lib/python3.8/site-packages (from matplotlib) (0.10.0)\n",
      "Requirement already satisfied: pyparsing>=2.2.1 in /home/julianbuecher/Projects/Bachelor-Thesis/ML.Proxy.ModelTrainer.Python/lib/python3.8/site-packages (from matplotlib) (2.4.7)\n",
      "Requirement already satisfied: kiwisolver>=1.0.1 in /home/julianbuecher/Projects/Bachelor-Thesis/ML.Proxy.ModelTrainer.Python/lib/python3.8/site-packages (from matplotlib) (1.3.1)\n",
      "Requirement already satisfied: python-dateutil>=2.7 in /home/julianbuecher/Projects/Bachelor-Thesis/ML.Proxy.ModelTrainer.Python/lib/python3.8/site-packages (from matplotlib) (2.8.1)\n",
      "Requirement already satisfied: pillow>=6.2.0 in /home/julianbuecher/Projects/Bachelor-Thesis/ML.Proxy.ModelTrainer.Python/lib/python3.8/site-packages (from matplotlib) (8.2.0)\n",
      "Requirement already satisfied: numpy>=1.16 in /home/julianbuecher/Projects/Bachelor-Thesis/ML.Proxy.ModelTrainer.Python/lib/python3.8/site-packages (from matplotlib) (1.19.2)\n",
      "Requirement already satisfied: six in /home/julianbuecher/Projects/Bachelor-Thesis/ML.Proxy.ModelTrainer.Python/lib/python3.8/site-packages (from cycler>=0.10->matplotlib) (1.15.0)\n",
      "Requirement already satisfied: ipython in /home/julianbuecher/Projects/Bachelor-Thesis/ML.Proxy.ModelTrainer.Python/lib/python3.8/site-packages (7.24.1)\n",
      "Requirement already satisfied: prompt-toolkit!=3.0.0,!=3.0.1,<3.1.0,>=2.0.0 in /home/julianbuecher/Projects/Bachelor-Thesis/ML.Proxy.ModelTrainer.Python/lib/python3.8/site-packages (from ipython) (3.0.19)\n",
      "Requirement already satisfied: pickleshare in /home/julianbuecher/Projects/Bachelor-Thesis/ML.Proxy.ModelTrainer.Python/lib/python3.8/site-packages (from ipython) (0.7.5)\n",
      "Requirement already satisfied: backcall in /home/julianbuecher/Projects/Bachelor-Thesis/ML.Proxy.ModelTrainer.Python/lib/python3.8/site-packages (from ipython) (0.2.0)\n",
      "Requirement already satisfied: pexpect>4.3; sys_platform != \"win32\" in /home/julianbuecher/Projects/Bachelor-Thesis/ML.Proxy.ModelTrainer.Python/lib/python3.8/site-packages (from ipython) (4.8.0)\n",
      "Requirement already satisfied: traitlets>=4.2 in /home/julianbuecher/Projects/Bachelor-Thesis/ML.Proxy.ModelTrainer.Python/lib/python3.8/site-packages (from ipython) (5.0.5)\n",
      "Requirement already satisfied: matplotlib-inline in /home/julianbuecher/Projects/Bachelor-Thesis/ML.Proxy.ModelTrainer.Python/lib/python3.8/site-packages (from ipython) (0.1.2)\n",
      "Requirement already satisfied: decorator in /home/julianbuecher/Projects/Bachelor-Thesis/ML.Proxy.ModelTrainer.Python/lib/python3.8/site-packages (from ipython) (5.0.9)\n",
      "Requirement already satisfied: pygments in /home/julianbuecher/Projects/Bachelor-Thesis/ML.Proxy.ModelTrainer.Python/lib/python3.8/site-packages (from ipython) (2.9.0)\n",
      "Requirement already satisfied: jedi>=0.16 in /home/julianbuecher/Projects/Bachelor-Thesis/ML.Proxy.ModelTrainer.Python/lib/python3.8/site-packages (from ipython) (0.18.0)\n",
      "Requirement already satisfied: setuptools>=18.5 in /home/julianbuecher/Projects/Bachelor-Thesis/ML.Proxy.ModelTrainer.Python/lib/python3.8/site-packages (from ipython) (44.0.0)\n",
      "Requirement already satisfied: wcwidth in /home/julianbuecher/Projects/Bachelor-Thesis/ML.Proxy.ModelTrainer.Python/lib/python3.8/site-packages (from prompt-toolkit!=3.0.0,!=3.0.1,<3.1.0,>=2.0.0->ipython) (0.2.5)\n",
      "Requirement already satisfied: ptyprocess>=0.5 in /home/julianbuecher/Projects/Bachelor-Thesis/ML.Proxy.ModelTrainer.Python/lib/python3.8/site-packages (from pexpect>4.3; sys_platform != \"win32\"->ipython) (0.7.0)\n",
      "Requirement already satisfied: ipython-genutils in /home/julianbuecher/Projects/Bachelor-Thesis/ML.Proxy.ModelTrainer.Python/lib/python3.8/site-packages (from traitlets>=4.2->ipython) (0.2.0)\n",
      "Requirement already satisfied: parso<0.9.0,>=0.8.0 in /home/julianbuecher/Projects/Bachelor-Thesis/ML.Proxy.ModelTrainer.Python/lib/python3.8/site-packages (from jedi>=0.16->ipython) (0.8.2)\n"
     ]
    }
   ],
   "source": [
    "# Installieren der benötigten Python Pakete\n",
    "!pip install pandas\n",
    "!pip install tensorflow_decision_forests\n",
    "!pip install wurlitzer\n",
    "!pip install matplotlib\n",
    "!pip install ipython"
   ]
  },
  {
   "cell_type": "code",
   "execution_count": 3,
   "metadata": {},
   "outputs": [],
   "source": [
    "# Importieren der benötigten Python Pakete\n",
    "import pandas as pd\n",
    "import numpy as np\n",
    "import tensorflow_decision_forests as tfdf\n",
    "from wurlitzer import sys_pipes\n",
    "import matplotlib.pyplot as plt"
   ]
  },
  {
   "cell_type": "code",
   "execution_count": 4,
   "metadata": {},
   "outputs": [],
   "source": [
    "# Laden der Netzwerk Traffic Daten für den LOIC Angriff\n",
    "data_LOIC = pd.read_csv('../Data/Tuesday-20-02-2018_LOIC-Attack.csv')\n",
    "# Umbenennen der Spalten für bessere Kompatibiltät mit TensorFlow\n",
    "data_LOIC.rename(columns={\n",
    "    'Bwd Pkt Len Std':'bwd_pkt_len_std',\n",
    "    'Pkt Size Avg':'pkt_size_avg',\n",
    "    'Flow Duration':'flow_duration',\n",
    "    'Flow IAT Std':'flow_iat_std',\n",
    "    'Label':'label'}, \n",
    "    inplace=True)"
   ]
  },
  {
   "cell_type": "code",
   "execution_count": 5,
   "metadata": {},
   "outputs": [],
   "source": [
    "# Festlegen der Label-Spalte innerhalb des Datasets\n",
    "label = 'label'"
   ]
  },
  {
   "cell_type": "code",
   "execution_count": 6,
   "metadata": {},
   "outputs": [
    {
     "output_type": "stream",
     "name": "stdout",
     "text": [
      "5562652 examples in training, 2386096 examples for testing.\n"
     ]
    }
   ],
   "source": [
    "# Aufteilen des Datasets in Training- und Test-Daten\n",
    "def split_dataset(dataset,  test_ratio=0.30):\n",
    "    \"\"\"Splits a panda dataframe in two dataframes.\"\"\"\n",
    "    test_indices = np.random.rand(len(dataset)) < test_ratio\n",
    "    return dataset[~test_indices], dataset[test_indices]\n",
    "\n",
    "training_data_LOIC, testing_data_LOIC = split_dataset(data_LOIC)\n",
    "\n",
    "print(\"{} examples in training, {} examples for testing.\".format(\n",
    "    len(training_data_LOIC), len(testing_data_LOIC)))"
   ]
  },
  {
   "cell_type": "code",
   "execution_count": 7,
   "metadata": {},
   "outputs": [
    {
     "output_type": "stream",
     "name": "stdout",
     "text": [
      "Converting Panda Dataframe into TensorFlow Dataset...\n"
     ]
    }
   ],
   "source": [
    "# Konvertieren des Panda Dataframes in ein TensorFlow Dataset\n",
    "print(\"Converting Panda Dataframe into TensorFlow Dataset...\")\n",
    "training_dataset_LOIC = tfdf.keras.pd_dataframe_to_tf_dataset(training_data_LOIC, label=label)\n",
    "testing_dataset_LOIC = tfdf.keras.pd_dataframe_to_tf_dataset(testing_data_LOIC, label=label)"
   ]
  },
  {
   "cell_type": "code",
   "execution_count": 8,
   "metadata": {},
   "outputs": [],
   "source": [
    "# Erstellen des Random Forest Modells\n",
    "model = tfdf.keras.RandomForestModel()\n",
    "model.compile(metrics=[\"accuracy\"])"
   ]
  },
  {
   "cell_type": "code",
   "execution_count": 9,
   "metadata": {},
   "outputs": [
    {
     "output_type": "stream",
     "name": "stdout",
     "text": [
      "Training the Model...\n",
      "2021-06-28 10:23:10.569070: I tensorflow/compiler/mlir/mlir_graph_optimization_pass.cc:176] None of the MLIR Optimization Passes are enabled (registered 2)\n",
      "2021-06-28 10:23:10.586959: I tensorflow/core/platform/profile_utils/cpu_utils.cc:114] CPU Frequency: 2199995000 Hz\n",
      "86917/86917 [==============================] - 73s 815us/step\n",
      "[INFO kernel.cc:746] Start Yggdrasil model training\n",
      "[INFO kernel.cc:747] Collect training examples\n",
      "[INFO kernel.cc:392] Number of batches: 86917\n",
      "[INFO kernel.cc:393] Number of examples: 5562652\n",
      "[INFO kernel.cc:769] Dataset:\n",
      "Number of records: 5562652\n",
      "Number of columns: 5\n",
      "\n",
      "Number of columns by type:\n",
      "\tNUMERICAL: 4 (80%)\n",
      "\tCATEGORICAL: 1 (20%)\n",
      "\n",
      "Columns:\n",
      "\n",
      "NUMERICAL: 4 (80%)\n",
      "\t0: \"bwd_pkt_len_std\" NUMERICAL mean:142.283 min:0 max:22448.4 sd:217.872\n",
      "\t1: \"flow_duration\" NUMERICAL mean:1.35138e+07 min:0 max:1.2e+08 sd:3.24093e+07\n",
      "\t2: \"flow_iat_std\" NUMERICAL mean:1.13273e+06 min:0 max:8.48081e+07 sd:3.79651e+06\n",
      "\t3: \"pkt_size_avg\" NUMERICAL mean:94.1014 min:0 max:16801.1 sd:106.464\n",
      "\n",
      "CATEGORICAL: 1 (20%)\n",
      "\t4: \"__LABEL\" CATEGORICAL integerized vocab-size:3 no-ood-item\n",
      "\n",
      "Terminology:\n",
      "\tnas: Number of non-available (i.e. missing) values.\n",
      "\tood: Out of dictionary.\n",
      "\tmanually-defined: Attribute which type is manually defined by the user i.e. the type was not automatically inferred.\n",
      "\ttokenized: The attribute value is obtained through tokenization.\n",
      "\thas-dict: The attribute is attached to a string dictionary e.g. a categorical attribute stored as a string.\n",
      "\tvocab-size: Number of unique values.\n",
      "\n",
      "[INFO kernel.cc:772] Configure learner\n",
      "[INFO kernel.cc:797] Training config:\n",
      "learner: \"RANDOM_FOREST\"\n",
      "features: \"bwd_pkt_len_std\"\n",
      "features: \"flow_duration\"\n",
      "features: \"flow_iat_std\"\n",
      "features: \"pkt_size_avg\"\n",
      "label: \"__LABEL\"\n",
      "task: CLASSIFICATION\n",
      "[yggdrasil_decision_forests.model.random_forest.proto.random_forest_config] {\n",
      "  num_trees: 300\n",
      "  decision_tree {\n",
      "    max_depth: 16\n",
      "    min_examples: 5\n",
      "    in_split_min_examples_check: true\n",
      "    missing_value_policy: GLOBAL_IMPUTATION\n",
      "    allow_na_conditions: false\n",
      "    categorical_set_greedy_forward {\n",
      "      sampling: 0.1\n",
      "      max_num_items: -1\n",
      "      min_item_frequency: 1\n",
      "    }\n",
      "    growing_strategy_local {\n",
      "    }\n",
      "    categorical {\n",
      "      cart {\n",
      "      }\n",
      "    }\n",
      "    num_candidate_attributes_ratio: -1\n",
      "    axis_aligned_split {\n",
      "    }\n",
      "    internal {\n",
      "      sorting_strategy: PRESORTED\n",
      "    }\n",
      "  }\n",
      "  winner_take_all_inference: true\n",
      "  compute_oob_performances: true\n",
      "  compute_oob_variable_importances: false\n",
      "  adapt_bootstrap_size_ratio_for_maximum_training_duration: false\n",
      "}\n",
      "\n",
      "[INFO kernel.cc:800] Deployment config:\n",
      "\n",
      "[INFO kernel.cc:837] Train model\n",
      "[INFO random_forest.cc:303] Training random forest on 5562652 example(s) and 4 feature(s).\n",
      "[INFO random_forest.cc:578] Training of tree  1/300 (tree index:2) done accuracy:0.996916 logloss:0.111175\n",
      "[INFO random_forest.cc:578] Training of tree  11/300 (tree index:9) done accuracy:0.997061 logloss:0.0915596\n",
      "[INFO random_forest.cc:578] Training of tree  19/300 (tree index:18) done accuracy:0.997071 logloss:0.0864679\n",
      "[INFO random_forest.cc:578] Training of tree  29/300 (tree index:29) done accuracy:0.997077 logloss:0.0823157\n",
      "[INFO random_forest.cc:578] Training of tree  37/300 (tree index:37) done accuracy:0.997077 logloss:0.0801673\n",
      "[INFO random_forest.cc:578] Training of tree  46/300 (tree index:45) done accuracy:0.997074 logloss:0.0784875\n",
      "[INFO random_forest.cc:578] Training of tree  55/300 (tree index:54) done accuracy:0.997077 logloss:0.077249\n",
      "[INFO random_forest.cc:578] Training of tree  64/300 (tree index:63) done accuracy:0.997076 logloss:0.0758527\n",
      "[INFO random_forest.cc:578] Training of tree  73/300 (tree index:72) done accuracy:0.997079 logloss:0.0749765\n",
      "[INFO random_forest.cc:578] Training of tree  82/300 (tree index:81) done accuracy:0.99708 logloss:0.0739202\n",
      "[INFO random_forest.cc:578] Training of tree  92/300 (tree index:91) done accuracy:0.997079 logloss:0.0729222\n",
      "[INFO random_forest.cc:578] Training of tree  100/300 (tree index:99) done accuracy:0.997078 logloss:0.0722975\n",
      "[INFO random_forest.cc:578] Training of tree  110/300 (tree index:108) done accuracy:0.997077 logloss:0.071147\n",
      "[INFO random_forest.cc:578] Training of tree  118/300 (tree index:117) done accuracy:0.997079 logloss:0.0704528\n",
      "[INFO random_forest.cc:578] Training of tree  128/300 (tree index:127) done accuracy:0.997078 logloss:0.0699579\n",
      "[INFO random_forest.cc:578] Training of tree  136/300 (tree index:135) done accuracy:0.997079 logloss:0.069492\n",
      "[INFO random_forest.cc:578] Training of tree  146/300 (tree index:145) done accuracy:0.997077 logloss:0.0691201\n",
      "[INFO random_forest.cc:578] Training of tree  154/300 (tree index:153) done accuracy:0.99708 logloss:0.0688133\n",
      "[INFO random_forest.cc:578] Training of tree  164/300 (tree index:162) done accuracy:0.99708 logloss:0.0682948\n",
      "[INFO random_forest.cc:578] Training of tree  172/300 (tree index:171) done accuracy:0.997084 logloss:0.0679231\n",
      "[INFO random_forest.cc:578] Training of tree  182/300 (tree index:181) done accuracy:0.997083 logloss:0.0674336\n",
      "[INFO random_forest.cc:578] Training of tree  189/300 (tree index:188) done accuracy:0.997082 logloss:0.0670745\n",
      "[INFO random_forest.cc:578] Training of tree  198/300 (tree index:197) done accuracy:0.997084 logloss:0.0666515\n",
      "[INFO random_forest.cc:578] Training of tree  207/300 (tree index:206) done accuracy:0.997086 logloss:0.0663793\n",
      "[INFO random_forest.cc:578] Training of tree  216/300 (tree index:215) done accuracy:0.997086 logloss:0.0660264\n",
      "[INFO random_forest.cc:578] Training of tree  225/300 (tree index:224) done accuracy:0.997086 logloss:0.065734\n",
      "[INFO random_forest.cc:578] Training of tree  234/300 (tree index:233) done accuracy:0.997084 logloss:0.065519\n",
      "[INFO random_forest.cc:578] Training of tree  243/300 (tree index:242) done accuracy:0.997085 logloss:0.0652194\n",
      "[INFO random_forest.cc:578] Training of tree  252/300 (tree index:251) done accuracy:0.997084 logloss:0.0648374\n",
      "[INFO random_forest.cc:578] Training of tree  261/300 (tree index:260) done accuracy:0.997085 logloss:0.0645471\n",
      "[INFO random_forest.cc:578] Training of tree  270/300 (tree index:269) done accuracy:0.997085 logloss:0.0643201\n",
      "[INFO random_forest.cc:578] Training of tree  279/300 (tree index:278) done accuracy:0.997084 logloss:0.064112\n",
      "[INFO random_forest.cc:578] Training of tree  288/300 (tree index:287) done accuracy:0.997084 logloss:0.0639578\n",
      "[INFO random_forest.cc:578] Training of tree  296/300 (tree index:295) done accuracy:0.997084 logloss:0.0637881\n",
      "[INFO random_forest.cc:578] Training of tree  300/300 (tree index:299) done accuracy:0.997083 logloss:0.0636705\n",
      "[INFO random_forest.cc:645] Final OOB metrics: accuracy:0.997083 logloss:0.0636705\n",
      "[INFO kernel.cc:856] Export model in log directory: /tmp/tmpd_qdw3ku\n",
      "[INFO kernel.cc:864] Save model in resources\n",
      "[INFO kernel.cc:960] Loading model from path\n",
      "[INFO decision_forest.cc:590] Model loaded with 300 root(s), 589742 node(s), and 4 input feature(s).\n",
      "[INFO abstract_model.cc:973] Engine \"RandomForestOptPred\" built\n",
      "[INFO kernel.cc:820] Use fast generic engine\n"
     ]
    }
   ],
   "source": [
    "# Trainieren des Modells\n",
    "print(\"Training the Model...\")\n",
    "with sys_pipes():\n",
    "    model.fit(x=training_dataset_LOIC)"
   ]
  },
  {
   "cell_type": "code",
   "execution_count": 10,
   "metadata": {},
   "outputs": [
    {
     "output_type": "stream",
     "name": "stdout",
     "text": [
      "Evaluating the Model...\n",
      "37283/37283 [==============================] - 90s 2ms/step - loss: 0.0000e+00 - accuracy: 0.9972\n",
      "\n",
      "loss: 0.0000\n",
      "accuracy: 0.9972\n"
     ]
    }
   ],
   "source": [
    "# Evaluieren des trainierten Modells\n",
    "print(\"Evaluating the Model...\")\n",
    "evaluation = model.evaluate(testing_dataset_LOIC, return_dict=True)\n",
    "print()\n",
    "for name, value in evaluation.items():\n",
    "    print(f\"{name}: {value:.4f}\")\n"
   ]
  },
  {
   "cell_type": "code",
   "execution_count": 11,
   "metadata": {},
   "outputs": [
    {
     "output_type": "stream",
     "name": "stdout",
     "text": [
      "INFO:tensorflow:Assets written to: ../Data/Models/loic_model/assets\n",
      "INFO:tensorflow:Assets written to: ../Data/Models/loic_model/assets\n"
     ]
    }
   ],
   "source": [
    "# Abspeichern des Modells für spätere Verwendung\n",
    "model.save(\"../Data/Models/loic_model\")"
   ]
  },
  {
   "cell_type": "code",
   "execution_count": 12,
   "metadata": {},
   "outputs": [
    {
     "output_type": "execute_result",
     "data": {
      "text/plain": [
       "'\\n<script src=\"https://d3js.org/d3.v6.min.js\"></script>\\n<div id=\"tree_plot_7da3ef096da540e8b79ac5a4d014a1b8\"></div>\\n<script>\\n/*\\n * Copyright 2021 Google LLC.\\n * Licensed under the Apache License, Version 2.0 (the \"License\");\\n * you may not use this file except in compliance with the License.\\n * You may obtain a copy of the License at\\n *\\n *     https://www.apache.org/licenses/LICENSE-2.0\\n *\\n * Unless required by applicable law or agreed to in writing, software\\n * distributed under the License is distributed on an \"AS IS\" BASIS,\\n * WITHOUT WARRANTIES OR CONDITIONS OF ANY KIND, either express or implied.\\n * See the License for the specific language governing permissions and\\n * limitations under the License.\\n */\\n\\n/**\\n *  Plotting of decision trees generated by TF-DF.\\n *\\n *  A tree is a recursive structure of node objects.\\n *  A node contains one or more of the following components:\\n *\\n *    - A value: Representing the output of the node. If the node is not a leaf,\\n *      the value is only present for analysis i.e. it is not used for\\n *      predictions.\\n *\\n *    - A condition : For non-leaf nodes, the condition (also known as split)\\n *      defines a binary test to branch to the positive or negative child.\\n *\\n *    - An explanation: Generally a plot showing the relation between the label\\n *      and the condition to give insights about the effect of the condition.\\n *\\n *    - Two children : For non-leaf nodes, the children nodes. The first\\n *      children (i.e. \"node.children[0]\") is the negative children (drawn in\\n *      red). The second children is the positive one (drawn in green).\\n *\\n */\\n\\n/**\\n * Plots a single decision tree into a DOM element.\\n * @param {!options} options Dictionary of configurations.\\n * @param {!tree} raw_tree Recursive tree structure.\\n * @param {string} canvas_id Id of the output dom element.\\n */\\nfunction display_tree(options, raw_tree, canvas_id) {\\n  console.log(options);\\n\\n  // Determine the node placement.\\n  const tree_struct = d3.tree().nodeSize(\\n      [options.node_y_offset, options.node_x_offset])(d3.hierarchy(raw_tree));\\n\\n  // Boundaries of the node placement.\\n  let x_min = Infinity;\\n  let x_max = -x_min;\\n  let y_min = Infinity;\\n  let y_max = -x_min;\\n\\n  tree_struct.each(d => {\\n    if (d.x > x_max) x_max = d.x;\\n    if (d.x < x_min) x_min = d.x;\\n    if (d.y > y_max) y_max = d.y;\\n    if (d.y < y_min) y_min = d.y;\\n  });\\n\\n  // Size of the plot.\\n  const width = y_max - y_min + options.node_x_size + options.margin * 2;\\n  const height = x_max - x_min + options.node_y_size + options.margin * 2 +\\n      options.node_y_offset - options.node_y_size;\\n\\n  const plot = d3.select(canvas_id);\\n\\n  // Tool tip\\n  options.tooltip = plot.append(\\'div\\')\\n                        .attr(\\'width\\', 100)\\n                        .attr(\\'height\\', 100)\\n                        .style(\\'padding\\', \\'4px\\')\\n                        .style(\\'background\\', \\'#fff\\')\\n                        .style(\\'box-shadow\\', \\'4px 4px 0px rgba(0,0,0,0.1)\\')\\n                        .style(\\'border\\', \\'1px solid black\\')\\n                        .style(\\'font-family\\', \\'sans-serif\\')\\n                        .style(\\'font-size\\', options.font_size)\\n                        .style(\\'position\\', \\'absolute\\')\\n                        .style(\\'z-index\\', \\'10\\')\\n                        .attr(\\'pointer-events\\', \\'none\\')\\n                        .style(\\'display\\', \\'none\\');\\n\\n  // Create canvas\\n  const svg = plot.append(\\'svg\\').attr(\\'width\\', width).attr(\\'height\\', height);\\n  const graph =\\n      svg.style(\\'overflow\\', \\'visible\\')\\n          .append(\\'g\\')\\n          .attr(\\'font-family\\', \\'sans-serif\\')\\n          .attr(\\'font-size\\', options.font_size)\\n          .attr(\\n              \\'transform\\',\\n              () => `translate(${options.margin},${\\n                  - x_min + options.node_y_offset / 2 + options.margin})`);\\n\\n  // Plot bounding box.\\n  if (options.show_plot_bounding_box) {\\n    svg.append(\\'rect\\')\\n        .attr(\\'width\\', width)\\n        .attr(\\'height\\', height)\\n        .attr(\\'fill\\', \\'none\\')\\n        .attr(\\'stroke-width\\', 1.0)\\n        .attr(\\'stroke\\', \\'black\\');\\n  }\\n\\n  // Draw the edges.\\n  display_edges(options, graph, tree_struct);\\n\\n  // Draw the nodes.\\n  display_nodes(options, graph, tree_struct);\\n}\\n\\n/**\\n * Draw the nodes of the tree.\\n * @param {!options} options Dictionary of configurations.\\n * @param {!graph} graph D3 search handle containing the graph.\\n * @param {!tree_struct} tree_struct Structure of the tree (node placement,\\n *     data, etc.).\\n */\\nfunction display_nodes(options, graph, tree_struct) {\\n  const nodes = graph.append(\\'g\\')\\n                    .selectAll(\\'g\\')\\n                    .data(tree_struct.descendants())\\n                    .join(\\'g\\')\\n                    .attr(\\'transform\\', d => `translate(${d.y},${d.x})`);\\n\\n  nodes.append(\\'rect\\')\\n      .attr(\\'x\\', 0.5)\\n      .attr(\\'y\\', 0.5)\\n      .attr(\\'width\\', options.node_x_size)\\n      .attr(\\'height\\', options.node_y_size)\\n      .attr(\\'stroke\\', \\'lightgrey\\')\\n      .attr(\\'stroke-width\\', 1)\\n      .attr(\\'fill\\', \\'white\\')\\n      .attr(\\'y\\', -options.node_y_size / 2);\\n\\n  // Brackets on the right of condition nodes without children.\\n  non_leaf_node_without_children =\\n      nodes.filter(node => node.data.condition != null && node.children == null)\\n          .append(\\'g\\')\\n          .attr(\\'transform\\', `translate(${options.node_x_size},0)`);\\n\\n  non_leaf_node_without_children.append(\\'path\\')\\n      .attr(\\'d\\', \\'M0,0 C 10,0 0,10 10,10\\')\\n      .attr(\\'fill\\', \\'none\\')\\n      .attr(\\'stroke-width\\', 1.0)\\n      .attr(\\'stroke\\', \\'#F00\\');\\n\\n  non_leaf_node_without_children.append(\\'path\\')\\n      .attr(\\'d\\', \\'M0,0 C 10,0 0,-10 10,-10\\')\\n      .attr(\\'fill\\', \\'none\\')\\n      .attr(\\'stroke-width\\', 1.0)\\n      .attr(\\'stroke\\', \\'#0F0\\');\\n\\n  const node_content = nodes.append(\\'g\\').attr(\\n      \\'transform\\',\\n      `translate(0,${options.node_padding - options.node_y_size / 2})`);\\n\\n  node_content.append(node => create_node_element(options, node));\\n}\\n\\n/**\\n * Creates the D3 content for a single node.\\n * @param {!options} options Dictionary of configurations.\\n * @param {!node} node Node to draw.\\n * @return {!d3} D3 content.\\n */\\nfunction create_node_element(options, node) {\\n  // Output accumulator.\\n  let output = {\\n    // Content to draw.\\n    content: d3.create(\\'svg:g\\'),\\n    // Vertical offset to the next element to draw.\\n    vertical_offset: 0\\n  };\\n\\n  // Conditions.\\n  if (node.data.condition != null) {\\n    display_condition(options, node.data.condition, output);\\n  }\\n\\n  // Values.\\n  if (node.data.value != null) {\\n    display_value(options, node.data.value, output);\\n  }\\n\\n  // Explanations.\\n  if (node.data.explanation != null) {\\n    display_explanation(options, node.data.explanation, output);\\n  }\\n\\n  return output.content.node();\\n}\\n\\n\\n/**\\n * Adds a single line of text inside of a node.\\n * @param {!options} options Dictionary of configurations.\\n * @param {string} text Text to display.\\n * @param {!output} output Output display accumulator.\\n */\\nfunction display_node_text(options, text, output) {\\n  output.content.append(\\'text\\')\\n      .attr(\\'x\\', options.node_padding)\\n      .attr(\\'y\\', output.vertical_offset)\\n      .attr(\\'alignment-baseline\\', \\'hanging\\')\\n      .text(text);\\n  output.vertical_offset += 10;\\n}\\n\\n/**\\n * Adds a single line of text inside of a node with a tooltip.\\n * @param {!options} options Dictionary of configurations.\\n * @param {string} text Text to display.\\n * @param {string} tooltip Text in the Tooltip.\\n * @param {!output} output Output display accumulator.\\n */\\nfunction display_node_text_with_tooltip(options, text, tooltip, output) {\\n  const item = output.content.append(\\'text\\')\\n                   .attr(\\'x\\', options.node_padding)\\n                   .attr(\\'alignment-baseline\\', \\'hanging\\')\\n                   .text(text);\\n\\n  add_tooltip(options, item, () => tooltip);\\n  output.vertical_offset += 10;\\n}\\n\\n/**\\n * Adds a tooltip to a dom element.\\n * @param {!options} options Dictionary of configurations.\\n * @param {!dom} target Dom element to equip with a tooltip.\\n * @param {!func} get_content Generates the html content of the tooltip.\\n */\\nfunction add_tooltip(options, target, get_content) {\\n  function show(d) {\\n    options.tooltip.style(\\'display\\', \\'block\\');\\n    options.tooltip.html(get_content());\\n  }\\n\\n  function hide(d) {\\n    options.tooltip.style(\\'display\\', \\'none\\');\\n  }\\n\\n  function move(d) {\\n    options.tooltip.style(\\'display\\', \\'block\\');\\n    options.tooltip.style(\\'left\\', (d.pageX + 5) + \\'px\\');\\n    options.tooltip.style(\\'top\\', d.pageY + \\'px\\');\\n  }\\n\\n  target.on(\\'mouseover\\', show);\\n  target.on(\\'mouseout\\', hide);\\n  target.on(\\'mousemove\\', move);\\n}\\n\\n/**\\n * Adds a condition inside of a node.\\n * @param {!options} options Dictionary of configurations.\\n * @param {!condition} condition Condition to display.\\n * @param {!output} output Output display accumulator.\\n */\\nfunction display_condition(options, condition, output) {\\n  threshold_format = d3.format(\\'r\\');\\n\\n  if (condition.type === \\'IS_MISSING\\') {\\n    display_node_text(options, `${condition.attribute} is missing`, output);\\n    return;\\n  }\\n\\n  if (condition.type === \\'IS_TRUE\\') {\\n    display_node_text(options, `${condition.attribute} is true`, output);\\n    return;\\n  }\\n\\n  if (condition.type === \\'NUMERICAL_IS_HIGHER_THAN\\') {\\n    format = d3.format(\\'r\\');\\n    display_node_text(\\n        options,\\n        `${condition.attribute} >= ${threshold_format(condition.threshold)}`,\\n        output);\\n    return;\\n  }\\n\\n  if (condition.type === \\'CATEGORICAL_IS_IN\\') {\\n    display_node_text_with_tooltip(\\n        options, `${condition.attribute} in [...]`,\\n        `${condition.attribute} in [${condition.mask}]`, output);\\n    return;\\n  }\\n\\n  if (condition.type === \\'CATEGORICAL_SET_CONTAINS\\') {\\n    display_node_text_with_tooltip(\\n        options, `${condition.attribute} intersect [...]`,\\n        `${condition.attribute} intersect [${condition.mask}]`, output);\\n    return;\\n  }\\n\\n  if (condition.type === \\'NUMERICAL_SPARSE_OBLIQUE\\') {\\n    display_node_text_with_tooltip(\\n        options, `Sparse oblique split...`,\\n        `[${condition.attributes}]*[${condition.weights}]>=${\\n            threshold_format(condition.threshold)}`,\\n        output);\\n    return;\\n  }\\n\\n  display_node_text(\\n      options, `Non supported condition ${condition.type}`, output);\\n}\\n\\n/**\\n * Adds a value inside of a node.\\n * @param {!options} options Dictionary of configurations.\\n * @param {!value} value Value to display.\\n * @param {!output} output Output display accumulator.\\n */\\nfunction display_value(options, value, output) {\\n  if (value.type === \\'PROBABILITY\\') {\\n    const left_margin = 0;\\n    const right_margin = 50;\\n    const plot_width = options.node_x_size - options.node_padding * 2 -\\n        left_margin - right_margin;\\n\\n    let cusum = Array.from(d3.cumsum(value.distribution));\\n    cusum.unshift(0);\\n    const distribution_plot = output.content.append(\\'g\\').attr(\\n        \\'transform\\', `translate(0,${output.vertical_offset + 0.5})`);\\n\\n    distribution_plot.selectAll(\\'rect\\')\\n        .data(value.distribution)\\n        .join(\\'rect\\')\\n        .attr(\\'height\\', 10)\\n        .attr(\\n            \\'x\\',\\n            (d, i) =>\\n                (cusum[i] * plot_width + left_margin + options.node_padding))\\n        .attr(\\'width\\', (d, i) => d * plot_width)\\n        .style(\\'fill\\', (d, i) => d3.schemeSet1[i]);\\n\\n    const num_examples =\\n        output.content.append(\\'g\\')\\n            .attr(\\'transform\\', `translate(0,${output.vertical_offset})`)\\n            .append(\\'text\\')\\n            .attr(\\'x\\', options.node_x_size - options.node_padding)\\n            .attr(\\'alignment-baseline\\', \\'hanging\\')\\n            .attr(\\'text-anchor\\', \\'end\\')\\n            .text(`(${value.num_examples})`);\\n\\n    const distribution_details = d3.create(\\'ul\\');\\n    distribution_details.selectAll(\\'li\\')\\n        .data(value.distribution)\\n        .join(\\'li\\')\\n        .append(\\'span\\')\\n        .text(\\n            (d, i) =>\\n                \\'class \\' + i + \\': \\' + d3.format(\\'.3%\\')(value.distribution[i]));\\n\\n    add_tooltip(options, distribution_plot, () => distribution_details.html());\\n    add_tooltip(options, num_examples, () => \\'Number of examples\\');\\n\\n    output.vertical_offset += 10;\\n    return;\\n  }\\n\\n  if (value.type === \\'REGRESSION\\') {\\n    display_node_text(\\n        options,\\n        \\'value: \\' + d3.format(\\'r\\')(value.value) + ` (` +\\n            d3.format(\\'.6\\')(value.num_examples) + `)`,\\n        output);\\n    return;\\n  }\\n\\n  display_node_text(options, `Non supported value ${value.type}`, output);\\n}\\n\\n/**\\n * Adds an explanation inside of a node.\\n * @param {!options} options Dictionary of configurations.\\n * @param {!explanation} explanation Explanation to display.\\n * @param {!output} output Output display accumulator.\\n */\\nfunction display_explanation(options, explanation, output) {\\n  // Margin before the explanation.\\n  output.vertical_offset += 10;\\n\\n  display_node_text(\\n      options, `Non supported explanation ${explanation.type}`, output);\\n}\\n\\n\\n/**\\n * Draw the edges of the tree.\\n * @param {!options} options Dictionary of configurations.\\n * @param {!graph} graph D3 search handle containing the graph.\\n * @param {!tree_struct} tree_struct Structure of the tree (node placement,\\n *     data, etc.).\\n */\\nfunction display_edges(options, graph, tree_struct) {\\n  // Draw an edge between a parent and a child node with a bezier.\\n  function draw_single_edge(d) {\\n    return \\'M\\' + (d.source.y + options.node_x_size) + \\',\\' + d.source.x + \\' C\\' +\\n        (d.source.y + options.node_x_size + options.edge_rounding) + \\',\\' +\\n        d.source.x + \\' \\' + (d.target.y - options.edge_rounding) + \\',\\' +\\n        d.target.x + \\' \\' + d.target.y + \\',\\' + d.target.x;\\n  }\\n\\n  graph.append(\\'g\\')\\n      .attr(\\'fill\\', \\'none\\')\\n      .attr(\\'stroke-width\\', 1.2)\\n      .selectAll(\\'path\\')\\n      .data(tree_struct.links())\\n      .join(\\'path\\')\\n      .attr(\\'d\\', draw_single_edge)\\n      .attr(\\n          \\'stroke\\', d => (d.target === d.source.children[0]) ? \\'#0F0\\' : \\'#F00\\');\\n}\\n\\ndisplay_tree({\"margin\": 10, \"node_x_size\": 160, \"node_y_size\": 28, \"node_x_offset\": 180, \"node_y_offset\": 33, \"font_size\": 10, \"edge_rounding\": 20, \"node_padding\": 2, \"show_plot_bounding_box\": false}, {\"value\": {\"type\": \"PROBABILITY\", \"distribution\": [0.9275647658706675, 0.07243523412933256], \"num_examples\": 5562652.0}, \"condition\": {\"type\": \"NUMERICAL_IS_HIGHER_THAN\", \"attribute\": \"flow_duration\", \"threshold\": 523772.5}, \"children\": [{\"value\": {\"type\": \"PROBABILITY\", \"distribution\": [0.824880847269261, 0.175119152730739], \"num_examples\": 2276490.0}, \"condition\": {\"type\": \"NUMERICAL_IS_HIGHER_THAN\", \"attribute\": \"pkt_size_avg\", \"threshold\": 140.57321166992188}, \"children\": [{\"value\": {\"type\": \"PROBABILITY\", \"distribution\": [1.0, 0.0], \"num_examples\": 1088224.0}}, {\"value\": {\"type\": \"PROBABILITY\", \"distribution\": [0.6645052538741325, 0.33549474612586744], \"num_examples\": 1188266.0}, \"condition\": {\"type\": \"NUMERICAL_IS_HIGHER_THAN\", \"attribute\": \"pkt_size_avg\", \"threshold\": 140.56594848632812}, \"children\": [{\"value\": {\"type\": \"PROBABILITY\", \"distribution\": [0.00023374479047514845, 0.9997662552095249], \"num_examples\": 201074.0}, \"condition\": {\"type\": \"NUMERICAL_IS_HIGHER_THAN\", \"attribute\": \"bwd_pkt_len_std\", \"threshold\": 460.4410095214844}}, {\"value\": {\"type\": \"PROBABILITY\", \"distribution\": [0.7998059141484128, 0.20019408585158713], \"num_examples\": 987192.0}, \"condition\": {\"type\": \"NUMERICAL_IS_HIGHER_THAN\", \"attribute\": \"flow_iat_std\", \"threshold\": 2.1014931201934814}}]}]}, {\"value\": {\"type\": \"PROBABILITY\", \"distribution\": [0.9986990903065643, 0.0013009096934356857], \"num_examples\": 3286162.0}, \"condition\": {\"type\": \"NUMERICAL_IS_HIGHER_THAN\", \"attribute\": \"flow_duration\", \"threshold\": 2664.5}, \"children\": [{\"value\": {\"type\": \"PROBABILITY\", \"distribution\": [0.9956577646600075, 0.0043422353399924455], \"num_examples\": 982213.0}, \"condition\": {\"type\": \"NUMERICAL_IS_HIGHER_THAN\", \"attribute\": \"flow_duration\", \"threshold\": 335267.5}, \"children\": [{\"value\": {\"type\": \"PROBABILITY\", \"distribution\": [0.9774840415242763, 0.022515958475723772], \"num_examples\": 77545.0}, \"condition\": {\"type\": \"NUMERICAL_IS_HIGHER_THAN\", \"attribute\": \"pkt_size_avg\", \"threshold\": 0.3333333432674408}}, {\"value\": {\"type\": \"PROBABILITY\", \"distribution\": [0.9972155531089858, 0.002784446891014162], \"num_examples\": 904668.0}, \"condition\": {\"type\": \"NUMERICAL_IS_HIGHER_THAN\", \"attribute\": \"pkt_size_avg\", \"threshold\": 1.183333396911621}}]}, {\"value\": {\"type\": \"PROBABILITY\", \"distribution\": [0.9999956596261462, 4.34037385376152e-06], \"num_examples\": 2303949.0}, \"condition\": {\"type\": \"NUMERICAL_IS_HIGHER_THAN\", \"attribute\": \"pkt_size_avg\", \"threshold\": 139.99107360839844}, \"children\": [{\"value\": {\"type\": \"PROBABILITY\", \"distribution\": [0.9998274165990715, 0.0001725834009284987], \"num_examples\": 57943.0}, \"condition\": {\"type\": \"NUMERICAL_IS_HIGHER_THAN\", \"attribute\": \"flow_iat_std\", \"threshold\": 128.68118286132812}}, {\"value\": {\"type\": \"PROBABILITY\", \"distribution\": [1.0, 0.0], \"num_examples\": 2246006.0}}]}]}]}, \"#tree_plot_7da3ef096da540e8b79ac5a4d014a1b8\")\\n</script>\\n'"
      ]
     },
     "metadata": {},
     "execution_count": 12
    }
   ],
   "source": [
    "# Plotten des ersten Baumes innerhalb des Decision Forests\n",
    "with open('../Data/Models/GoldenEye_Model_Tree.html', 'w') as f:\n",
    "    f.write(tfdf.model_plotter.plot_model(model, tree_idx=0, max_depth=3))\n",
    "tfdf.model_plotter.plot_model(model, tree_idx=0, max_depth=3)\n"
   ]
  },
  {
   "cell_type": "code",
   "execution_count": 13,
   "metadata": {},
   "outputs": [
    {
     "output_type": "stream",
     "name": "stdout",
     "text": [
      "Model: \"random_forest_model\"\n_________________________________________________________________\nLayer (type)                 Output Shape              Param #   \n=================================================================\nTotal params: 1\nTrainable params: 0\nNon-trainable params: 1\n_________________________________________________________________\nType: \"RANDOM_FOREST\"\nTask: CLASSIFICATION\nLabel: \"__LABEL\"\n\nInput Features (4):\n\tbwd_pkt_len_std\n\tflow_duration\n\tflow_iat_std\n\tpkt_size_avg\n\nNo weights\n\nVariable Importance: NUM_NODES:\n    1.   \"flow_duration\" 287401.000000 ################\n    2.    \"pkt_size_avg\" 3367.000000 \n    3.    \"flow_iat_std\" 2832.000000 \n    4. \"bwd_pkt_len_std\" 1121.000000 \n\nVariable Importance: NUM_AS_ROOT:\n    1.   \"flow_duration\" 211.000000 ################\n    2. \"bwd_pkt_len_std\" 89.000000 \n\nVariable Importance: SUM_SCORE:\n    1.   \"flow_duration\" 156924348.584383 ################\n    2.    \"pkt_size_avg\" 131792410.712506 ###########\n    3. \"bwd_pkt_len_std\" 66087031.562824 \n    4.    \"flow_iat_std\" 65541936.751925 \n\nVariable Importance: MEAN_MIN_DEPTH:\n    1.         \"__LABEL\" 14.024722 ################\n    2. \"bwd_pkt_len_std\"  6.817804 #######\n    3.    \"flow_iat_std\"  3.297449 ###\n    4.    \"pkt_size_avg\"  2.032544 #\n    5.   \"flow_duration\"  0.511099 \n\n\n\nWinner take all: true\nOut-of-bag evaluation: accuracy:0.997083 logloss:0.0636705\nNumber of trees: 300\nTotal number of nodes: 589742\n\nNumber of nodes by tree:\nCount: 300 Average: 1965.81 StdDev: 303.325\nMin: 1037 Max: 2799 Ignored: 0\n----------------------------------------------\n[ 1037, 1125)  1   0.33%   0.33%\n[ 1125, 1213)  1   0.33%   0.67%\n[ 1213, 1301)  6   2.00%   2.67% #\n[ 1301, 1389)  4   1.33%   4.00% #\n[ 1389, 1477) 11   3.67%   7.67% ##\n[ 1477, 1565)  6   2.00%   9.67% #\n[ 1565, 1654) 22   7.33%  17.00% #####\n[ 1654, 1742) 17   5.67%  22.67% ####\n[ 1742, 1830) 24   8.00%  30.67% #####\n[ 1830, 1918) 21   7.00%  37.67% #####\n[ 1918, 2006) 36  12.00%  49.67% ########\n[ 2006, 2094) 45  15.00%  64.67% ##########\n[ 2094, 2182) 41  13.67%  78.33% #########\n[ 2182, 2271) 33  11.00%  89.33% #######\n[ 2271, 2359) 11   3.67%  93.00% ##\n[ 2359, 2447)  4   1.33%  94.33% #\n[ 2447, 2535)  4   1.33%  95.67% #\n[ 2535, 2623)  7   2.33%  98.00% ##\n[ 2623, 2711)  3   1.00%  99.00% #\n[ 2711, 2799]  3   1.00% 100.00% #\n\nDepth by leafs:\nCount: 295021 Average: 14.0263 StdDev: 1.83693\nMin: 2 Max: 15 Ignored: 0\n----------------------------------------------\n[  2,  3)    254   0.09%   0.09%\n[  3,  4)    508   0.17%   0.26%\n[  4,  5)    965   0.33%   0.59%\n[  5,  6)   1477   0.50%   1.09%\n[  6,  7)   1293   0.44%   1.52%\n[  7,  8)   1584   0.54%   2.06%\n[  8,  9)   1587   0.54%   2.60%\n[  9, 10)   2163   0.73%   3.33%\n[ 10, 11)   3717   1.26%   4.59%\n[ 11, 12)   8332   2.82%   7.42%\n[ 12, 13)  16176   5.48%  12.90% #\n[ 13, 14)  28729   9.74%  22.64% ##\n[ 14, 15)  46192  15.66%  38.29% ###\n[ 15, 15] 182044  61.71% 100.00% ##########\n\nNumber of training obs by leaf:\nCount: 295021 Average: 5656.53 StdDev: 90749\nMin: 5 Max: 3304625 Ignored: 0\n----------------------------------------------\n[       5,  165236) 293422  99.46%  99.46% ##########\n[  165236,  330467)    446   0.15%  99.61%\n[  330467,  495698)    188   0.06%  99.67%\n[  495698,  660929)    205   0.07%  99.74%\n[  660929,  826160)    285   0.10%  99.84%\n[  826160,  991391)     11   0.00%  99.84%\n[  991391, 1156622)    164   0.06%  99.90%\n[ 1156622, 1321853)      0   0.00%  99.90%\n[ 1321853, 1487084)      0   0.00%  99.90%\n[ 1487084, 1652315)      4   0.00%  99.90%\n[ 1652315, 1817546)      0   0.00%  99.90%\n[ 1817546, 1982777)      0   0.00%  99.90%\n[ 1982777, 2148008)      1   0.00%  99.90%\n[ 2148008, 2313239)    150   0.05%  99.95%\n[ 2313239, 2478470)     67   0.02%  99.97%\n[ 2478470, 2643701)      2   0.00%  99.97%\n[ 2643701, 2808932)      0   0.00%  99.97%\n[ 2808932, 2974163)     20   0.01%  99.98%\n[ 2974163, 3139394)      2   0.00%  99.98%\n[ 3139394, 3304625]     54   0.02% 100.00%\n\nAttribute in nodes:\n\t287401 : flow_duration [NUMERICAL]\n\t3367 : pkt_size_avg [NUMERICAL]\n\t2832 : flow_iat_std [NUMERICAL]\n\t1121 : bwd_pkt_len_std [NUMERICAL]\n\nAttribute in nodes with depth <= 0:\n\t211 : flow_duration [NUMERICAL]\n\t89 : bwd_pkt_len_std [NUMERICAL]\n\nAttribute in nodes with depth <= 1:\n\t389 : flow_duration [NUMERICAL]\n\t253 : pkt_size_avg [NUMERICAL]\n\t211 : bwd_pkt_len_std [NUMERICAL]\n\t47 : flow_iat_std [NUMERICAL]\n\nAttribute in nodes with depth <= 2:\n\t648 : pkt_size_avg [NUMERICAL]\n\t632 : flow_duration [NUMERICAL]\n\t438 : bwd_pkt_len_std [NUMERICAL]\n\t128 : flow_iat_std [NUMERICAL]\n\nAttribute in nodes with depth <= 3:\n\t975 : pkt_size_avg [NUMERICAL]\n\t929 : flow_duration [NUMERICAL]\n\t769 : bwd_pkt_len_std [NUMERICAL]\n\t557 : flow_iat_std [NUMERICAL]\n\nAttribute in nodes with depth <= 5:\n\t2780 : flow_duration [NUMERICAL]\n\t1674 : flow_iat_std [NUMERICAL]\n\t1645 : pkt_size_avg [NUMERICAL]\n\t1063 : bwd_pkt_len_std [NUMERICAL]\n\nCondition type in nodes:\n\t294721 : HigherCondition\nCondition type in nodes with depth <= 0:\n\t300 : HigherCondition\nCondition type in nodes with depth <= 1:\n\t900 : HigherCondition\nCondition type in nodes with depth <= 2:\n\t1846 : HigherCondition\nCondition type in nodes with depth <= 3:\n\t3230 : HigherCondition\nCondition type in nodes with depth <= 5:\n\t7162 : HigherCondition\nNode format: NOT_SET\n\nTraining OOB:\n\ttrees: 1, Out-of-bag evaluation: accuracy:0.996916 logloss:0.111175\n\ttrees: 11, Out-of-bag evaluation: accuracy:0.997061 logloss:0.0915596\n\ttrees: 19, Out-of-bag evaluation: accuracy:0.997071 logloss:0.0864679\n\ttrees: 29, Out-of-bag evaluation: accuracy:0.997077 logloss:0.0823157\n\ttrees: 37, Out-of-bag evaluation: accuracy:0.997077 logloss:0.0801673\n\ttrees: 46, Out-of-bag evaluation: accuracy:0.997074 logloss:0.0784875\n\ttrees: 55, Out-of-bag evaluation: accuracy:0.997077 logloss:0.077249\n\ttrees: 64, Out-of-bag evaluation: accuracy:0.997076 logloss:0.0758527\n\ttrees: 73, Out-of-bag evaluation: accuracy:0.997079 logloss:0.0749765\n\ttrees: 82, Out-of-bag evaluation: accuracy:0.99708 logloss:0.0739202\n\ttrees: 92, Out-of-bag evaluation: accuracy:0.997079 logloss:0.0729222\n\ttrees: 100, Out-of-bag evaluation: accuracy:0.997078 logloss:0.0722975\n\ttrees: 110, Out-of-bag evaluation: accuracy:0.997077 logloss:0.071147\n\ttrees: 118, Out-of-bag evaluation: accuracy:0.997079 logloss:0.0704528\n\ttrees: 128, Out-of-bag evaluation: accuracy:0.997078 logloss:0.0699579\n\ttrees: 136, Out-of-bag evaluation: accuracy:0.997079 logloss:0.069492\n\ttrees: 146, Out-of-bag evaluation: accuracy:0.997077 logloss:0.0691201\n\ttrees: 154, Out-of-bag evaluation: accuracy:0.99708 logloss:0.0688133\n\ttrees: 164, Out-of-bag evaluation: accuracy:0.99708 logloss:0.0682948\n\ttrees: 172, Out-of-bag evaluation: accuracy:0.997084 logloss:0.0679231\n\ttrees: 182, Out-of-bag evaluation: accuracy:0.997083 logloss:0.0674336\n\ttrees: 189, Out-of-bag evaluation: accuracy:0.997082 logloss:0.0670745\n\ttrees: 198, Out-of-bag evaluation: accuracy:0.997084 logloss:0.0666515\n\ttrees: 207, Out-of-bag evaluation: accuracy:0.997086 logloss:0.0663793\n\ttrees: 216, Out-of-bag evaluation: accuracy:0.997086 logloss:0.0660264\n\ttrees: 225, Out-of-bag evaluation: accuracy:0.997086 logloss:0.065734\n\ttrees: 234, Out-of-bag evaluation: accuracy:0.997084 logloss:0.065519\n\ttrees: 243, Out-of-bag evaluation: accuracy:0.997085 logloss:0.0652194\n\ttrees: 252, Out-of-bag evaluation: accuracy:0.997084 logloss:0.0648374\n\ttrees: 261, Out-of-bag evaluation: accuracy:0.997085 logloss:0.0645471\n\ttrees: 270, Out-of-bag evaluation: accuracy:0.997085 logloss:0.0643201\n\ttrees: 279, Out-of-bag evaluation: accuracy:0.997084 logloss:0.064112\n\ttrees: 288, Out-of-bag evaluation: accuracy:0.997084 logloss:0.0639578\n\ttrees: 296, Out-of-bag evaluation: accuracy:0.997084 logloss:0.0637881\n\ttrees: 300, Out-of-bag evaluation: accuracy:0.997083 logloss:0.0636705\n\n"
     ]
    }
   ],
   "source": [
    "# Erstellen einer Bilanz für das trainierte Modell\n",
    "model.summary()"
   ]
  },
  {
   "cell_type": "code",
   "execution_count": 15,
   "metadata": {},
   "outputs": [
    {
     "output_type": "display_data",
     "data": {
      "text/plain": "<Figure size 864x288 with 0 Axes>"
     },
     "metadata": {}
    }
   ],
   "source": [
    "# Erstellen von Grafiken für die Effizienz des Trainings\n",
    "logs = model.make_inspector().training_logs()\n",
    "plt.figure(figsize=(12,4))\n",
    "\n",
    "plt.subplot(1,2,1)\n",
    "plt.plot([log.num_trees for log in logs], [log.evaluation.accuracy for log in logs])\n",
    "plt.xlabel(\"Number of trees\")\n",
    "plt.ylabel(\"Accuracy (out-of-bag)\")\n",
    "\n",
    "plt.subplot(1,2,2)\n",
    "plt.plot([log.num_trees for log in logs], [log.evaluation.loss for log in logs])\n",
    "plt.xlabel(\"Number of trees\")\n",
    "plt.ylabel(\"Logloss (out-of-bag)\")\n",
    "\n",
    "plt.savefig('../Data/Visualized/LOIC_Model.png')\n",
    "plt.clf()"
   ]
  }
 ]
}