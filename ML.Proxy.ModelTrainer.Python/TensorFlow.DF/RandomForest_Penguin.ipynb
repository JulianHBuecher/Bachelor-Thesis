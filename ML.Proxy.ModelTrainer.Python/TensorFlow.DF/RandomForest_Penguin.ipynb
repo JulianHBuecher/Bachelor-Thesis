{
 "metadata": {
  "language_info": {
   "codemirror_mode": {
    "name": "ipython",
    "version": 3
   },
   "file_extension": ".py",
   "mimetype": "text/x-python",
   "name": "python",
   "nbconvert_exporter": "python",
   "pygments_lexer": "ipython3",
   "version": "3.8.5"
  },
  "orig_nbformat": 4,
  "kernelspec": {
   "name": "python3",
   "display_name": "Python 3.8.5 64-bit"
  },
  "interpreter": {
   "hash": "31f2aee4e71d21fbe5cf8b01ff0e069b9275f58929596ceb00d14d90e3e16cd6"
  }
 },
 "nbformat": 4,
 "nbformat_minor": 2,
 "cells": [
  {
   "cell_type": "code",
   "execution_count": 2,
   "metadata": {},
   "outputs": [
    {
     "output_type": "stream",
     "name": "stdout",
     "text": [
      "Requirement already satisfied: tensorflow_decision_forests in /home/julianbuecher/Projects/Bachelor-Thesis/ML.Proxy.ModelTrainer.Python/lib/python3.8/site-packages (0.1.7)\n",
      "Requirement already satisfied: six in /home/julianbuecher/Projects/Bachelor-Thesis/ML.Proxy.ModelTrainer.Python/lib/python3.8/site-packages (from tensorflow_decision_forests) (1.15.0)\n",
      "Requirement already satisfied: tensorflow~=2.5 in /home/julianbuecher/Projects/Bachelor-Thesis/ML.Proxy.ModelTrainer.Python/lib/python3.8/site-packages (from tensorflow_decision_forests) (2.5.0)\n",
      "Requirement already satisfied: wheel in /home/julianbuecher/Projects/Bachelor-Thesis/ML.Proxy.ModelTrainer.Python/lib/python3.8/site-packages (from tensorflow_decision_forests) (0.36.2)\n",
      "Requirement already satisfied: pandas in /home/julianbuecher/Projects/Bachelor-Thesis/ML.Proxy.ModelTrainer.Python/lib/python3.8/site-packages (from tensorflow_decision_forests) (1.2.5)\n",
      "Requirement already satisfied: numpy in /home/julianbuecher/Projects/Bachelor-Thesis/ML.Proxy.ModelTrainer.Python/lib/python3.8/site-packages (from tensorflow_decision_forests) (1.19.2)\n",
      "Requirement already satisfied: absl-py in /home/julianbuecher/Projects/Bachelor-Thesis/ML.Proxy.ModelTrainer.Python/lib/python3.8/site-packages (from tensorflow_decision_forests) (0.13.0)\n",
      "Requirement already satisfied: gast==0.4.0 in /home/julianbuecher/Projects/Bachelor-Thesis/ML.Proxy.ModelTrainer.Python/lib/python3.8/site-packages (from tensorflow~=2.5->tensorflow_decision_forests) (0.4.0)\n",
      "Requirement already satisfied: h5py~=3.1.0 in /home/julianbuecher/Projects/Bachelor-Thesis/ML.Proxy.ModelTrainer.Python/lib/python3.8/site-packages (from tensorflow~=2.5->tensorflow_decision_forests) (3.1.0)\n",
      "Requirement already satisfied: protobuf>=3.9.2 in /home/julianbuecher/Projects/Bachelor-Thesis/ML.Proxy.ModelTrainer.Python/lib/python3.8/site-packages (from tensorflow~=2.5->tensorflow_decision_forests) (3.17.3)\n",
      "Requirement already satisfied: tensorboard~=2.5 in /home/julianbuecher/Projects/Bachelor-Thesis/ML.Proxy.ModelTrainer.Python/lib/python3.8/site-packages (from tensorflow~=2.5->tensorflow_decision_forests) (2.5.0)\n",
      "Requirement already satisfied: grpcio~=1.34.0 in /home/julianbuecher/Projects/Bachelor-Thesis/ML.Proxy.ModelTrainer.Python/lib/python3.8/site-packages (from tensorflow~=2.5->tensorflow_decision_forests) (1.34.1)\n",
      "Requirement already satisfied: termcolor~=1.1.0 in /home/julianbuecher/Projects/Bachelor-Thesis/ML.Proxy.ModelTrainer.Python/lib/python3.8/site-packages (from tensorflow~=2.5->tensorflow_decision_forests) (1.1.0)\n",
      "Requirement already satisfied: wrapt~=1.12.1 in /home/julianbuecher/Projects/Bachelor-Thesis/ML.Proxy.ModelTrainer.Python/lib/python3.8/site-packages (from tensorflow~=2.5->tensorflow_decision_forests) (1.12.1)\n",
      "Requirement already satisfied: google-pasta~=0.2 in /home/julianbuecher/Projects/Bachelor-Thesis/ML.Proxy.ModelTrainer.Python/lib/python3.8/site-packages (from tensorflow~=2.5->tensorflow_decision_forests) (0.2.0)\n",
      "Requirement already satisfied: astunparse~=1.6.3 in /home/julianbuecher/Projects/Bachelor-Thesis/ML.Proxy.ModelTrainer.Python/lib/python3.8/site-packages (from tensorflow~=2.5->tensorflow_decision_forests) (1.6.3)\n",
      "Requirement already satisfied: tensorflow-estimator<2.6.0,>=2.5.0rc0 in /home/julianbuecher/Projects/Bachelor-Thesis/ML.Proxy.ModelTrainer.Python/lib/python3.8/site-packages (from tensorflow~=2.5->tensorflow_decision_forests) (2.5.0)\n",
      "Requirement already satisfied: typing-extensions~=3.7.4 in /home/julianbuecher/Projects/Bachelor-Thesis/ML.Proxy.ModelTrainer.Python/lib/python3.8/site-packages (from tensorflow~=2.5->tensorflow_decision_forests) (3.7.4.3)\n",
      "Requirement already satisfied: flatbuffers~=1.12.0 in /home/julianbuecher/Projects/Bachelor-Thesis/ML.Proxy.ModelTrainer.Python/lib/python3.8/site-packages (from tensorflow~=2.5->tensorflow_decision_forests) (1.12)\n",
      "Requirement already satisfied: keras-nightly~=2.5.0.dev in /home/julianbuecher/Projects/Bachelor-Thesis/ML.Proxy.ModelTrainer.Python/lib/python3.8/site-packages (from tensorflow~=2.5->tensorflow_decision_forests) (2.5.0.dev2021032900)\n",
      "Requirement already satisfied: opt-einsum~=3.3.0 in /home/julianbuecher/Projects/Bachelor-Thesis/ML.Proxy.ModelTrainer.Python/lib/python3.8/site-packages (from tensorflow~=2.5->tensorflow_decision_forests) (3.3.0)\n",
      "Requirement already satisfied: keras-preprocessing~=1.1.2 in /home/julianbuecher/Projects/Bachelor-Thesis/ML.Proxy.ModelTrainer.Python/lib/python3.8/site-packages (from tensorflow~=2.5->tensorflow_decision_forests) (1.1.2)\n",
      "Requirement already satisfied: python-dateutil>=2.7.3 in /home/julianbuecher/Projects/Bachelor-Thesis/ML.Proxy.ModelTrainer.Python/lib/python3.8/site-packages (from pandas->tensorflow_decision_forests) (2.8.1)\n",
      "Requirement already satisfied: pytz>=2017.3 in /home/julianbuecher/Projects/Bachelor-Thesis/ML.Proxy.ModelTrainer.Python/lib/python3.8/site-packages (from pandas->tensorflow_decision_forests) (2021.1)\n",
      "Requirement already satisfied: tensorboard-data-server<0.7.0,>=0.6.0 in /home/julianbuecher/Projects/Bachelor-Thesis/ML.Proxy.ModelTrainer.Python/lib/python3.8/site-packages (from tensorboard~=2.5->tensorflow~=2.5->tensorflow_decision_forests) (0.6.1)\n",
      "Requirement already satisfied: setuptools>=41.0.0 in /home/julianbuecher/Projects/Bachelor-Thesis/ML.Proxy.ModelTrainer.Python/lib/python3.8/site-packages (from tensorboard~=2.5->tensorflow~=2.5->tensorflow_decision_forests) (44.0.0)\n",
      "Requirement already satisfied: google-auth<2,>=1.6.3 in /home/julianbuecher/Projects/Bachelor-Thesis/ML.Proxy.ModelTrainer.Python/lib/python3.8/site-packages (from tensorboard~=2.5->tensorflow~=2.5->tensorflow_decision_forests) (1.32.0)\n",
      "Requirement already satisfied: werkzeug>=0.11.15 in /home/julianbuecher/Projects/Bachelor-Thesis/ML.Proxy.ModelTrainer.Python/lib/python3.8/site-packages (from tensorboard~=2.5->tensorflow~=2.5->tensorflow_decision_forests) (2.0.1)\n",
      "Requirement already satisfied: requests<3,>=2.21.0 in /home/julianbuecher/Projects/Bachelor-Thesis/ML.Proxy.ModelTrainer.Python/lib/python3.8/site-packages (from tensorboard~=2.5->tensorflow~=2.5->tensorflow_decision_forests) (2.25.1)\n",
      "Requirement already satisfied: tensorboard-plugin-wit>=1.6.0 in /home/julianbuecher/Projects/Bachelor-Thesis/ML.Proxy.ModelTrainer.Python/lib/python3.8/site-packages (from tensorboard~=2.5->tensorflow~=2.5->tensorflow_decision_forests) (1.8.0)\n",
      "Requirement already satisfied: markdown>=2.6.8 in /home/julianbuecher/Projects/Bachelor-Thesis/ML.Proxy.ModelTrainer.Python/lib/python3.8/site-packages (from tensorboard~=2.5->tensorflow~=2.5->tensorflow_decision_forests) (3.3.4)\n",
      "Requirement already satisfied: google-auth-oauthlib<0.5,>=0.4.1 in /home/julianbuecher/Projects/Bachelor-Thesis/ML.Proxy.ModelTrainer.Python/lib/python3.8/site-packages (from tensorboard~=2.5->tensorflow~=2.5->tensorflow_decision_forests) (0.4.4)\n",
      "Requirement already satisfied: pyasn1-modules>=0.2.1 in /home/julianbuecher/Projects/Bachelor-Thesis/ML.Proxy.ModelTrainer.Python/lib/python3.8/site-packages (from google-auth<2,>=1.6.3->tensorboard~=2.5->tensorflow~=2.5->tensorflow_decision_forests) (0.2.8)\n",
      "Requirement already satisfied: cachetools<5.0,>=2.0.0 in /home/julianbuecher/Projects/Bachelor-Thesis/ML.Proxy.ModelTrainer.Python/lib/python3.8/site-packages (from google-auth<2,>=1.6.3->tensorboard~=2.5->tensorflow~=2.5->tensorflow_decision_forests) (4.2.2)\n",
      "Requirement already satisfied: rsa<5,>=3.1.4; python_version >= \"3.6\" in /home/julianbuecher/Projects/Bachelor-Thesis/ML.Proxy.ModelTrainer.Python/lib/python3.8/site-packages (from google-auth<2,>=1.6.3->tensorboard~=2.5->tensorflow~=2.5->tensorflow_decision_forests) (4.7.2)\n",
      "Requirement already satisfied: urllib3<1.27,>=1.21.1 in /home/julianbuecher/Projects/Bachelor-Thesis/ML.Proxy.ModelTrainer.Python/lib/python3.8/site-packages (from requests<3,>=2.21.0->tensorboard~=2.5->tensorflow~=2.5->tensorflow_decision_forests) (1.26.5)\n",
      "Requirement already satisfied: idna<3,>=2.5 in /home/julianbuecher/Projects/Bachelor-Thesis/ML.Proxy.ModelTrainer.Python/lib/python3.8/site-packages (from requests<3,>=2.21.0->tensorboard~=2.5->tensorflow~=2.5->tensorflow_decision_forests) (2.10)\n",
      "Requirement already satisfied: chardet<5,>=3.0.2 in /home/julianbuecher/Projects/Bachelor-Thesis/ML.Proxy.ModelTrainer.Python/lib/python3.8/site-packages (from requests<3,>=2.21.0->tensorboard~=2.5->tensorflow~=2.5->tensorflow_decision_forests) (4.0.0)\n",
      "Requirement already satisfied: certifi>=2017.4.17 in /home/julianbuecher/Projects/Bachelor-Thesis/ML.Proxy.ModelTrainer.Python/lib/python3.8/site-packages (from requests<3,>=2.21.0->tensorboard~=2.5->tensorflow~=2.5->tensorflow_decision_forests) (2021.5.30)\n",
      "Requirement already satisfied: requests-oauthlib>=0.7.0 in /home/julianbuecher/Projects/Bachelor-Thesis/ML.Proxy.ModelTrainer.Python/lib/python3.8/site-packages (from google-auth-oauthlib<0.5,>=0.4.1->tensorboard~=2.5->tensorflow~=2.5->tensorflow_decision_forests) (1.3.0)\n",
      "Requirement already satisfied: pyasn1<0.5.0,>=0.4.6 in /home/julianbuecher/Projects/Bachelor-Thesis/ML.Proxy.ModelTrainer.Python/lib/python3.8/site-packages (from pyasn1-modules>=0.2.1->google-auth<2,>=1.6.3->tensorboard~=2.5->tensorflow~=2.5->tensorflow_decision_forests) (0.4.8)\n",
      "Requirement already satisfied: oauthlib>=3.0.0 in /home/julianbuecher/Projects/Bachelor-Thesis/ML.Proxy.ModelTrainer.Python/lib/python3.8/site-packages (from requests-oauthlib>=0.7.0->google-auth-oauthlib<0.5,>=0.4.1->tensorboard~=2.5->tensorflow~=2.5->tensorflow_decision_forests) (3.1.1)\n",
      "Requirement already satisfied: wurlitzer in /home/julianbuecher/Projects/Bachelor-Thesis/ML.Proxy.ModelTrainer.Python/lib/python3.8/site-packages (2.1.0)\n",
      "Requirement already satisfied: pandas in /home/julianbuecher/Projects/Bachelor-Thesis/ML.Proxy.ModelTrainer.Python/lib/python3.8/site-packages (1.2.5)\n",
      "Requirement already satisfied: python-dateutil>=2.7.3 in /home/julianbuecher/Projects/Bachelor-Thesis/ML.Proxy.ModelTrainer.Python/lib/python3.8/site-packages (from pandas) (2.8.1)\n",
      "Requirement already satisfied: numpy>=1.16.5 in /home/julianbuecher/Projects/Bachelor-Thesis/ML.Proxy.ModelTrainer.Python/lib/python3.8/site-packages (from pandas) (1.19.2)\n",
      "Requirement already satisfied: pytz>=2017.3 in /home/julianbuecher/Projects/Bachelor-Thesis/ML.Proxy.ModelTrainer.Python/lib/python3.8/site-packages (from pandas) (2021.1)\n",
      "Requirement already satisfied: six>=1.5 in /home/julianbuecher/Projects/Bachelor-Thesis/ML.Proxy.ModelTrainer.Python/lib/python3.8/site-packages (from python-dateutil>=2.7.3->pandas) (1.15.0)\n",
      "Requirement already satisfied: matplotlib in /home/julianbuecher/Projects/Bachelor-Thesis/ML.Proxy.ModelTrainer.Python/lib/python3.8/site-packages (3.4.2)\n",
      "Requirement already satisfied: python-dateutil>=2.7 in /home/julianbuecher/Projects/Bachelor-Thesis/ML.Proxy.ModelTrainer.Python/lib/python3.8/site-packages (from matplotlib) (2.8.1)\n",
      "Requirement already satisfied: cycler>=0.10 in /home/julianbuecher/Projects/Bachelor-Thesis/ML.Proxy.ModelTrainer.Python/lib/python3.8/site-packages (from matplotlib) (0.10.0)\n",
      "Requirement already satisfied: kiwisolver>=1.0.1 in /home/julianbuecher/Projects/Bachelor-Thesis/ML.Proxy.ModelTrainer.Python/lib/python3.8/site-packages (from matplotlib) (1.3.1)\n",
      "Requirement already satisfied: pillow>=6.2.0 in /home/julianbuecher/Projects/Bachelor-Thesis/ML.Proxy.ModelTrainer.Python/lib/python3.8/site-packages (from matplotlib) (8.2.0)\n",
      "Requirement already satisfied: numpy>=1.16 in /home/julianbuecher/Projects/Bachelor-Thesis/ML.Proxy.ModelTrainer.Python/lib/python3.8/site-packages (from matplotlib) (1.19.2)\n",
      "Requirement already satisfied: pyparsing>=2.2.1 in /home/julianbuecher/Projects/Bachelor-Thesis/ML.Proxy.ModelTrainer.Python/lib/python3.8/site-packages (from matplotlib) (2.4.7)\n",
      "Requirement already satisfied: six>=1.5 in /home/julianbuecher/Projects/Bachelor-Thesis/ML.Proxy.ModelTrainer.Python/lib/python3.8/site-packages (from python-dateutil>=2.7->matplotlib) (1.15.0)\n",
      "Requirement already satisfied: ipython in /home/julianbuecher/Projects/Bachelor-Thesis/ML.Proxy.ModelTrainer.Python/lib/python3.8/site-packages (7.24.1)\n",
      "Requirement already satisfied: matplotlib-inline in /home/julianbuecher/Projects/Bachelor-Thesis/ML.Proxy.ModelTrainer.Python/lib/python3.8/site-packages (from ipython) (0.1.2)\n",
      "Requirement already satisfied: setuptools>=18.5 in /home/julianbuecher/Projects/Bachelor-Thesis/ML.Proxy.ModelTrainer.Python/lib/python3.8/site-packages (from ipython) (44.0.0)\n",
      "Requirement already satisfied: traitlets>=4.2 in /home/julianbuecher/Projects/Bachelor-Thesis/ML.Proxy.ModelTrainer.Python/lib/python3.8/site-packages (from ipython) (5.0.5)\n",
      "Requirement already satisfied: pickleshare in /home/julianbuecher/Projects/Bachelor-Thesis/ML.Proxy.ModelTrainer.Python/lib/python3.8/site-packages (from ipython) (0.7.5)\n",
      "Requirement already satisfied: pygments in /home/julianbuecher/Projects/Bachelor-Thesis/ML.Proxy.ModelTrainer.Python/lib/python3.8/site-packages (from ipython) (2.9.0)\n",
      "Requirement already satisfied: backcall in /home/julianbuecher/Projects/Bachelor-Thesis/ML.Proxy.ModelTrainer.Python/lib/python3.8/site-packages (from ipython) (0.2.0)\n",
      "Requirement already satisfied: jedi>=0.16 in /home/julianbuecher/Projects/Bachelor-Thesis/ML.Proxy.ModelTrainer.Python/lib/python3.8/site-packages (from ipython) (0.18.0)\n",
      "Requirement already satisfied: decorator in /home/julianbuecher/Projects/Bachelor-Thesis/ML.Proxy.ModelTrainer.Python/lib/python3.8/site-packages (from ipython) (5.0.9)\n",
      "Requirement already satisfied: pexpect>4.3; sys_platform != \"win32\" in /home/julianbuecher/Projects/Bachelor-Thesis/ML.Proxy.ModelTrainer.Python/lib/python3.8/site-packages (from ipython) (4.8.0)\n",
      "Requirement already satisfied: prompt-toolkit!=3.0.0,!=3.0.1,<3.1.0,>=2.0.0 in /home/julianbuecher/Projects/Bachelor-Thesis/ML.Proxy.ModelTrainer.Python/lib/python3.8/site-packages (from ipython) (3.0.19)\n",
      "Requirement already satisfied: ipython-genutils in /home/julianbuecher/Projects/Bachelor-Thesis/ML.Proxy.ModelTrainer.Python/lib/python3.8/site-packages (from traitlets>=4.2->ipython) (0.2.0)\n",
      "Requirement already satisfied: parso<0.9.0,>=0.8.0 in /home/julianbuecher/Projects/Bachelor-Thesis/ML.Proxy.ModelTrainer.Python/lib/python3.8/site-packages (from jedi>=0.16->ipython) (0.8.2)\n",
      "Requirement already satisfied: ptyprocess>=0.5 in /home/julianbuecher/Projects/Bachelor-Thesis/ML.Proxy.ModelTrainer.Python/lib/python3.8/site-packages (from pexpect>4.3; sys_platform != \"win32\"->ipython) (0.7.0)\n",
      "Requirement already satisfied: wcwidth in /home/julianbuecher/Projects/Bachelor-Thesis/ML.Proxy.ModelTrainer.Python/lib/python3.8/site-packages (from prompt-toolkit!=3.0.0,!=3.0.1,<3.1.0,>=2.0.0->ipython) (0.2.5)\n"
     ]
    }
   ],
   "source": [
    "#######################################################################\n",
    "# Installieren der notwendigen Pakete für das Nutzen des \n",
    "# TensorFlow Decision Forest:\n",
    "#######################################################################\n",
    "\n",
    "!pip install tensorflow_decision_forests\n",
    "!pip install wurlitzer\n",
    "!pip install pandas\n",
    "!pip install matplotlib\n",
    "!pip install ipython "
   ]
  },
  {
   "cell_type": "code",
   "execution_count": 3,
   "metadata": {},
   "outputs": [],
   "source": [
    "# Importieren der notwendigen Pakete\n",
    "import tensorflow_decision_forests as tfdf\n",
    "import pandas as pd\n",
    "import numpy as np\n",
    "from wurlitzer import sys_pipes\n",
    "import matplotlib.pyplot as plt\n",
    "\n",
    "from IPython.core.magic import register_line_magic\n",
    "from IPython.display import display, HTML"
   ]
  },
  {
   "cell_type": "code",
   "execution_count": 4,
   "metadata": {},
   "outputs": [
    {
     "output_type": "stream",
     "name": "stdout",
     "text": [
      "TensorFlow Decision Forests v0.1.7\n"
     ]
    }
   ],
   "source": [
    "# Aussgabe der verwendeten TensorFlow Decision Forests Version\n",
    "print(f\"TensorFlow Decision Forests v{tfdf.__version__}\")"
   ]
  },
  {
   "cell_type": "code",
   "execution_count": 5,
   "metadata": {},
   "outputs": [
    {
     "output_type": "stream",
     "name": "stdout",
     "text": [
      "Label classes: ['Adelie', 'Gentoo', 'Chinstrap']\n"
     ]
    }
   ],
   "source": [
    "# Laden des Pinguin Datasets\n",
    "data_Penguins = pd.read_csv('../Data/penguins.csv')\n",
    "\n",
    "label = 'species'\n",
    "\n",
    "# Ausgabe der vorhandenen Labels im Dataset\n",
    "classes = data_Penguins[label].unique().tolist()\n",
    "print(f\"Label classes: {classes}\")\n",
    "# Umwandeln der String Literale als nummerische Werte\n",
    "data_Penguins[label] = data_Penguins[label].map(classes.index)"
   ]
  },
  {
   "cell_type": "code",
   "execution_count": 6,
   "metadata": {},
   "outputs": [
    {
     "output_type": "stream",
     "name": "stdout",
     "text": [
      "237 examples in training, 107 examples for testing.\n"
     ]
    }
   ],
   "source": [
    "# Aufteilen des Datasets in Training und Testdaten\n",
    "def split_dataset(dataset,  test_ratio=0.30):\n",
    "    \"\"\"Splits a panda dataframe in two dataframes.\"\"\"\n",
    "    test_indices = np.random.rand(len(dataset)) < test_ratio\n",
    "    return dataset[~test_indices], dataset[test_indices]\n",
    "\n",
    "training_data_Penguins, testing_data_Penguins = split_dataset(data_Penguins)\n",
    "\n",
    "print(\"{} examples in training, {} examples for testing.\".format(\n",
    "    len(training_data_Penguins), len(testing_data_Penguins)))\n"
   ]
  },
  {
   "cell_type": "code",
   "execution_count": 7,
   "metadata": {},
   "outputs": [
    {
     "output_type": "stream",
     "name": "stdout",
     "text": [
      "Converting Panda Dataframe into TensorFlow Dataset...\n"
     ]
    }
   ],
   "source": [
    "# Konvertieren des Panda Dataframes in ein TensorFlow Dataset\n",
    "print(\"Converting Panda Dataframe into TensorFlow Dataset...\")\n",
    "training_dataset_Penguins = tfdf.keras.pd_dataframe_to_tf_dataset(training_data_Penguins, label=label)\n",
    "testing_dataset_Penguins = tfdf.keras.pd_dataframe_to_tf_dataset(testing_data_Penguins, label=label)\n"
   ]
  },
  {
   "cell_type": "code",
   "execution_count": 8,
   "metadata": {},
   "outputs": [],
   "source": [
    "# Erstellen des Decision Forest Modells\n",
    "model = tfdf.keras.RandomForestModel()\n",
    "model.compile(metrics=[\"accuracy\"])"
   ]
  },
  {
   "cell_type": "code",
   "execution_count": 9,
   "metadata": {},
   "outputs": [
    {
     "output_type": "stream",
     "name": "stdout",
     "text": [
      "Training the Model...\n",
      "2021-06-26 13:44:17.428382: I tensorflow/compiler/mlir/mlir_graph_optimization_pass.cc:176] None of the MLIR Optimization Passes are enabled (registered 2)\n",
      "2021-06-26 13:44:17.453214: I tensorflow/core/platform/profile_utils/cpu_utils.cc:114] CPU Frequency: 2199995000 Hz\n",
      "4/4 [==============================] - 3s 2ms/step\n",
      "[INFO kernel.cc:746] Start Yggdrasil model training\n",
      "[INFO kernel.cc:747] Collect training examples\n",
      "[INFO kernel.cc:392] Number of batches: 4\n",
      "[INFO kernel.cc:393] Number of examples: 237\n",
      "[INFO kernel.cc:769] Dataset:\n",
      "Number of records: 237\n",
      "Number of columns: 8\n",
      "\n",
      "Number of columns by type:\n",
      "\tNUMERICAL: 5 (62.5%)\n",
      "\tCATEGORICAL: 3 (37.5%)\n",
      "\n",
      "Columns:\n",
      "\n",
      "NUMERICAL: 5 (62.5%)\n",
      "\t0: \"bill_depth_mm\" NUMERICAL mean:17.0025 min:13.1 max:21.2 sd:1.95976\n",
      "\t1: \"bill_length_mm\" NUMERICAL mean:44.1025 min:32.1 max:59.6 sd:5.42568\n",
      "\t2: \"body_mass_g\" NUMERICAL mean:4203.59 min:2700 max:6300 sd:799.646\n",
      "\t3: \"flipper_length_mm\" NUMERICAL mean:201.068 min:172 max:231 sd:14.1527\n",
      "\t6: \"year\" NUMERICAL mean:2008.03 min:2007 max:2009 sd:0.818544\n",
      "\n",
      "CATEGORICAL: 3 (37.5%)\n",
      "\t4: \"island\" CATEGORICAL has-dict vocab-size:4 zero-ood-items most-frequent:\"Biscoe\" 122 (51.4768%)\n",
      "\t5: \"sex\" CATEGORICAL num-nas:4 (1.68776%) has-dict vocab-size:3 zero-ood-items most-frequent:\"female\" 122 (52.3605%)\n",
      "\t7: \"__LABEL\" CATEGORICAL integerized vocab-size:4 no-ood-item\n",
      "\n",
      "Terminology:\n",
      "\tnas: Number of non-available (i.e. missing) values.\n",
      "\tood: Out of dictionary.\n",
      "\tmanually-defined: Attribute which type is manually defined by the user i.e. the type was not automatically inferred.\n",
      "\ttokenized: The attribute value is obtained through tokenization.\n",
      "\thas-dict: The attribute is attached to a string dictionary e.g. a categorical attribute stored as a string.\n",
      "\tvocab-size: Number of unique values.\n",
      "\n",
      "[INFO kernel.cc:772] Configure learner\n",
      "[INFO kernel.cc:797] Training config:\n",
      "learner: \"RANDOM_FOREST\"\n",
      "features: \"bill_depth_mm\"\n",
      "features: \"bill_length_mm\"\n",
      "features: \"body_mass_g\"\n",
      "features: \"flipper_length_mm\"\n",
      "features: \"island\"\n",
      "features: \"sex\"\n",
      "features: \"year\"\n",
      "label: \"__LABEL\"\n",
      "task: CLASSIFICATION\n",
      "[yggdrasil_decision_forests.model.random_forest.proto.random_forest_config] {\n",
      "  num_trees: 300\n",
      "  decision_tree {\n",
      "    max_depth: 16\n",
      "    min_examples: 5\n",
      "    in_split_min_examples_check: true\n",
      "    missing_value_policy: GLOBAL_IMPUTATION\n",
      "    allow_na_conditions: false\n",
      "    categorical_set_greedy_forward {\n",
      "      sampling: 0.1\n",
      "      max_num_items: -1\n",
      "      min_item_frequency: 1\n",
      "    }\n",
      "    growing_strategy_local {\n",
      "    }\n",
      "    categorical {\n",
      "      cart {\n",
      "      }\n",
      "    }\n",
      "    num_candidate_attributes_ratio: -1\n",
      "    axis_aligned_split {\n",
      "    }\n",
      "    internal {\n",
      "      sorting_strategy: PRESORTED\n",
      "    }\n",
      "  }\n",
      "  winner_take_all_inference: true\n",
      "  compute_oob_performances: true\n",
      "  compute_oob_variable_importances: false\n",
      "  adapt_bootstrap_size_ratio_for_maximum_training_duration: false\n",
      "}\n",
      "\n",
      "[INFO kernel.cc:800] Deployment config:\n",
      "\n",
      "[INFO kernel.cc:837] Train model\n",
      "[INFO random_forest.cc:303] Training random forest on 237 example(s) and 7 feature(s).\n",
      "[INFO random_forest.cc:578] Training of tree  1/300 (tree index:2) done accuracy:0.945055 logloss:1.98042\n",
      "[INFO random_forest.cc:578] Training of tree  11/300 (tree index:10) done accuracy:0.953192 logloss:0.678076\n",
      "[INFO random_forest.cc:578] Training of tree  21/300 (tree index:20) done accuracy:0.966245 logloss:0.220584\n",
      "[INFO random_forest.cc:578] Training of tree  31/300 (tree index:30) done accuracy:0.966245 logloss:0.227863\n",
      "[INFO random_forest.cc:578] Training of tree  41/300 (tree index:40) done accuracy:0.970464 logloss:0.218797\n",
      "[INFO random_forest.cc:578] Training of tree  51/300 (tree index:49) done accuracy:0.970464 logloss:0.221983\n",
      "[INFO random_forest.cc:578] Training of tree  61/300 (tree index:59) done accuracy:0.970464 logloss:0.221062\n",
      "[INFO random_forest.cc:578] Training of tree  71/300 (tree index:68) done accuracy:0.970464 logloss:0.22211\n",
      "[INFO random_forest.cc:578] Training of tree  81/300 (tree index:79) done accuracy:0.974684 logloss:0.2211\n",
      "[INFO random_forest.cc:578] Training of tree  91/300 (tree index:89) done accuracy:0.970464 logloss:0.220917\n",
      "[INFO random_forest.cc:578] Training of tree  101/300 (tree index:100) done accuracy:0.974684 logloss:0.220222\n",
      "[INFO random_forest.cc:578] Training of tree  111/300 (tree index:109) done accuracy:0.974684 logloss:0.221213\n",
      "[INFO random_forest.cc:578] Training of tree  121/300 (tree index:120) done accuracy:0.974684 logloss:0.219632\n",
      "[INFO random_forest.cc:578] Training of tree  131/300 (tree index:131) done accuracy:0.970464 logloss:0.218474\n",
      "[INFO random_forest.cc:578] Training of tree  141/300 (tree index:140) done accuracy:0.970464 logloss:0.218267\n",
      "[INFO random_forest.cc:578] Training of tree  151/300 (tree index:149) done accuracy:0.970464 logloss:0.218122\n",
      "[INFO random_forest.cc:578] Training of tree  161/300 (tree index:157) done accuracy:0.974684 logloss:0.216683\n",
      "[INFO random_forest.cc:578] Training of tree  171/300 (tree index:170) done accuracy:0.974684 logloss:0.216702\n",
      "[INFO random_forest.cc:578] Training of tree  181/300 (tree index:183) done accuracy:0.974684 logloss:0.216841\n",
      "[INFO random_forest.cc:578] Training of tree  192/300 (tree index:192) done accuracy:0.974684 logloss:0.217537\n",
      "[INFO random_forest.cc:578] Training of tree  202/300 (tree index:201) done accuracy:0.970464 logloss:0.217752\n",
      "[INFO random_forest.cc:578] Training of tree  212/300 (tree index:209) done accuracy:0.970464 logloss:0.21798\n",
      "[INFO random_forest.cc:578] Training of tree  222/300 (tree index:222) done accuracy:0.970464 logloss:0.217611\n",
      "[INFO random_forest.cc:578] Training of tree  232/300 (tree index:232) done accuracy:0.970464 logloss:0.217812\n",
      "[INFO random_forest.cc:578] Training of tree  242/300 (tree index:242) done accuracy:0.970464 logloss:0.21711\n",
      "[INFO random_forest.cc:578] Training of tree  252/300 (tree index:251) done accuracy:0.970464 logloss:0.217265\n",
      "[INFO random_forest.cc:578] Training of tree  262/300 (tree index:263) done accuracy:0.970464 logloss:0.217196\n",
      "[INFO random_forest.cc:578] Training of tree  272/300 (tree index:272) done accuracy:0.970464 logloss:0.21656\n",
      "[INFO random_forest.cc:578] Training of tree  282/300 (tree index:281) done accuracy:0.970464 logloss:0.21596\n",
      "[INFO random_forest.cc:578] Training of tree  292/300 (tree index:291) done accuracy:0.970464 logloss:0.215578\n",
      "[INFO random_forest.cc:578] Training of tree  300/300 (tree index:299) done accuracy:0.970464 logloss:0.215552\n",
      "[INFO random_forest.cc:645] Final OOB metrics: accuracy:0.970464 logloss:0.215552\n",
      "[INFO kernel.cc:856] Export model in log directory: /tmp/tmpishrzf93\n",
      "[INFO kernel.cc:864] Save model in resources\n",
      "[INFO kernel.cc:960] Loading model from path\n",
      "[INFO decision_forest.cc:590] Model loaded with 300 root(s), 4366 node(s), and 7 input feature(s).\n",
      "[INFO abstract_model.cc:973] Engine \"RandomForestGeneric\" built\n",
      "[INFO kernel.cc:820] Use fast generic engine\n"
     ]
    }
   ],
   "source": [
    "# Trainieren des Modells\n",
    "print(\"Training the Model...\")\n",
    "with sys_pipes():\n",
    "    model.fit(x=training_dataset_Penguins)"
   ]
  },
  {
   "cell_type": "code",
   "execution_count": 10,
   "metadata": {},
   "outputs": [
    {
     "output_type": "stream",
     "name": "stdout",
     "text": [
      "Evaluating the Model: \n",
      "2/2 [==============================] - 0s 3ms/step - loss: 0.0000e+00 - accuracy: 0.9533\n",
      "\n",
      "loss: 0.0000\n",
      "accuracy: 0.9533\n",
      "INFO:tensorflow:Assets written to: ./Models/Penguins_model/assets\n",
      "INFO:tensorflow:Assets written to: ./Models/Penguins_model/assets\n"
     ]
    }
   ],
   "source": [
    "# Evaluieren des gewonnenen Modells\n",
    "print(\"Evaluating the Model: \")\n",
    "evaluation = model.evaluate(testing_dataset_Penguins, return_dict=True)\n",
    "\n",
    "print()\n",
    "\n",
    "for name, value in evaluation.items():\n",
    "    print(f\"{name}: {value:.4f}\")\n",
    "\n",
    "# Abspeichern des gewonnenen Modells\n",
    "model.save(\"../Data/Models/Penguins_model\")"
   ]
  },
  {
   "cell_type": "code",
   "execution_count": 16,
   "metadata": {},
   "outputs": [
    {
     "output_type": "execute_result",
     "data": {
      "text/plain": [
       "'\\n<script src=\"https://d3js.org/d3.v6.min.js\"></script>\\n<div id=\"tree_plot_cf46dbc31eb1401592f32d9f8f9a04af\"></div>\\n<script>\\n/*\\n * Copyright 2021 Google LLC.\\n * Licensed under the Apache License, Version 2.0 (the \"License\");\\n * you may not use this file except in compliance with the License.\\n * You may obtain a copy of the License at\\n *\\n *     https://www.apache.org/licenses/LICENSE-2.0\\n *\\n * Unless required by applicable law or agreed to in writing, software\\n * distributed under the License is distributed on an \"AS IS\" BASIS,\\n * WITHOUT WARRANTIES OR CONDITIONS OF ANY KIND, either express or implied.\\n * See the License for the specific language governing permissions and\\n * limitations under the License.\\n */\\n\\n/**\\n *  Plotting of decision trees generated by TF-DF.\\n *\\n *  A tree is a recursive structure of node objects.\\n *  A node contains one or more of the following components:\\n *\\n *    - A value: Representing the output of the node. If the node is not a leaf,\\n *      the value is only present for analysis i.e. it is not used for\\n *      predictions.\\n *\\n *    - A condition : For non-leaf nodes, the condition (also known as split)\\n *      defines a binary test to branch to the positive or negative child.\\n *\\n *    - An explanation: Generally a plot showing the relation between the label\\n *      and the condition to give insights about the effect of the condition.\\n *\\n *    - Two children : For non-leaf nodes, the children nodes. The first\\n *      children (i.e. \"node.children[0]\") is the negative children (drawn in\\n *      red). The second children is the positive one (drawn in green).\\n *\\n */\\n\\n/**\\n * Plots a single decision tree into a DOM element.\\n * @param {!options} options Dictionary of configurations.\\n * @param {!tree} raw_tree Recursive tree structure.\\n * @param {string} canvas_id Id of the output dom element.\\n */\\nfunction display_tree(options, raw_tree, canvas_id) {\\n  console.log(options);\\n\\n  // Determine the node placement.\\n  const tree_struct = d3.tree().nodeSize(\\n      [options.node_y_offset, options.node_x_offset])(d3.hierarchy(raw_tree));\\n\\n  // Boundaries of the node placement.\\n  let x_min = Infinity;\\n  let x_max = -x_min;\\n  let y_min = Infinity;\\n  let y_max = -x_min;\\n\\n  tree_struct.each(d => {\\n    if (d.x > x_max) x_max = d.x;\\n    if (d.x < x_min) x_min = d.x;\\n    if (d.y > y_max) y_max = d.y;\\n    if (d.y < y_min) y_min = d.y;\\n  });\\n\\n  // Size of the plot.\\n  const width = y_max - y_min + options.node_x_size + options.margin * 2;\\n  const height = x_max - x_min + options.node_y_size + options.margin * 2 +\\n      options.node_y_offset - options.node_y_size;\\n\\n  const plot = d3.select(canvas_id);\\n\\n  // Tool tip\\n  options.tooltip = plot.append(\\'div\\')\\n                        .attr(\\'width\\', 100)\\n                        .attr(\\'height\\', 100)\\n                        .style(\\'padding\\', \\'4px\\')\\n                        .style(\\'background\\', \\'#fff\\')\\n                        .style(\\'box-shadow\\', \\'4px 4px 0px rgba(0,0,0,0.1)\\')\\n                        .style(\\'border\\', \\'1px solid black\\')\\n                        .style(\\'font-family\\', \\'sans-serif\\')\\n                        .style(\\'font-size\\', options.font_size)\\n                        .style(\\'position\\', \\'absolute\\')\\n                        .style(\\'z-index\\', \\'10\\')\\n                        .attr(\\'pointer-events\\', \\'none\\')\\n                        .style(\\'display\\', \\'none\\');\\n\\n  // Create canvas\\n  const svg = plot.append(\\'svg\\').attr(\\'width\\', width).attr(\\'height\\', height);\\n  const graph =\\n      svg.style(\\'overflow\\', \\'visible\\')\\n          .append(\\'g\\')\\n          .attr(\\'font-family\\', \\'sans-serif\\')\\n          .attr(\\'font-size\\', options.font_size)\\n          .attr(\\n              \\'transform\\',\\n              () => `translate(${options.margin},${\\n                  - x_min + options.node_y_offset / 2 + options.margin})`);\\n\\n  // Plot bounding box.\\n  if (options.show_plot_bounding_box) {\\n    svg.append(\\'rect\\')\\n        .attr(\\'width\\', width)\\n        .attr(\\'height\\', height)\\n        .attr(\\'fill\\', \\'none\\')\\n        .attr(\\'stroke-width\\', 1.0)\\n        .attr(\\'stroke\\', \\'black\\');\\n  }\\n\\n  // Draw the edges.\\n  display_edges(options, graph, tree_struct);\\n\\n  // Draw the nodes.\\n  display_nodes(options, graph, tree_struct);\\n}\\n\\n/**\\n * Draw the nodes of the tree.\\n * @param {!options} options Dictionary of configurations.\\n * @param {!graph} graph D3 search handle containing the graph.\\n * @param {!tree_struct} tree_struct Structure of the tree (node placement,\\n *     data, etc.).\\n */\\nfunction display_nodes(options, graph, tree_struct) {\\n  const nodes = graph.append(\\'g\\')\\n                    .selectAll(\\'g\\')\\n                    .data(tree_struct.descendants())\\n                    .join(\\'g\\')\\n                    .attr(\\'transform\\', d => `translate(${d.y},${d.x})`);\\n\\n  nodes.append(\\'rect\\')\\n      .attr(\\'x\\', 0.5)\\n      .attr(\\'y\\', 0.5)\\n      .attr(\\'width\\', options.node_x_size)\\n      .attr(\\'height\\', options.node_y_size)\\n      .attr(\\'stroke\\', \\'lightgrey\\')\\n      .attr(\\'stroke-width\\', 1)\\n      .attr(\\'fill\\', \\'white\\')\\n      .attr(\\'y\\', -options.node_y_size / 2);\\n\\n  // Brackets on the right of condition nodes without children.\\n  non_leaf_node_without_children =\\n      nodes.filter(node => node.data.condition != null && node.children == null)\\n          .append(\\'g\\')\\n          .attr(\\'transform\\', `translate(${options.node_x_size},0)`);\\n\\n  non_leaf_node_without_children.append(\\'path\\')\\n      .attr(\\'d\\', \\'M0,0 C 10,0 0,10 10,10\\')\\n      .attr(\\'fill\\', \\'none\\')\\n      .attr(\\'stroke-width\\', 1.0)\\n      .attr(\\'stroke\\', \\'#F00\\');\\n\\n  non_leaf_node_without_children.append(\\'path\\')\\n      .attr(\\'d\\', \\'M0,0 C 10,0 0,-10 10,-10\\')\\n      .attr(\\'fill\\', \\'none\\')\\n      .attr(\\'stroke-width\\', 1.0)\\n      .attr(\\'stroke\\', \\'#0F0\\');\\n\\n  const node_content = nodes.append(\\'g\\').attr(\\n      \\'transform\\',\\n      `translate(0,${options.node_padding - options.node_y_size / 2})`);\\n\\n  node_content.append(node => create_node_element(options, node));\\n}\\n\\n/**\\n * Creates the D3 content for a single node.\\n * @param {!options} options Dictionary of configurations.\\n * @param {!node} node Node to draw.\\n * @return {!d3} D3 content.\\n */\\nfunction create_node_element(options, node) {\\n  // Output accumulator.\\n  let output = {\\n    // Content to draw.\\n    content: d3.create(\\'svg:g\\'),\\n    // Vertical offset to the next element to draw.\\n    vertical_offset: 0\\n  };\\n\\n  // Conditions.\\n  if (node.data.condition != null) {\\n    display_condition(options, node.data.condition, output);\\n  }\\n\\n  // Values.\\n  if (node.data.value != null) {\\n    display_value(options, node.data.value, output);\\n  }\\n\\n  // Explanations.\\n  if (node.data.explanation != null) {\\n    display_explanation(options, node.data.explanation, output);\\n  }\\n\\n  return output.content.node();\\n}\\n\\n\\n/**\\n * Adds a single line of text inside of a node.\\n * @param {!options} options Dictionary of configurations.\\n * @param {string} text Text to display.\\n * @param {!output} output Output display accumulator.\\n */\\nfunction display_node_text(options, text, output) {\\n  output.content.append(\\'text\\')\\n      .attr(\\'x\\', options.node_padding)\\n      .attr(\\'y\\', output.vertical_offset)\\n      .attr(\\'alignment-baseline\\', \\'hanging\\')\\n      .text(text);\\n  output.vertical_offset += 10;\\n}\\n\\n/**\\n * Adds a single line of text inside of a node with a tooltip.\\n * @param {!options} options Dictionary of configurations.\\n * @param {string} text Text to display.\\n * @param {string} tooltip Text in the Tooltip.\\n * @param {!output} output Output display accumulator.\\n */\\nfunction display_node_text_with_tooltip(options, text, tooltip, output) {\\n  const item = output.content.append(\\'text\\')\\n                   .attr(\\'x\\', options.node_padding)\\n                   .attr(\\'alignment-baseline\\', \\'hanging\\')\\n                   .text(text);\\n\\n  add_tooltip(options, item, () => tooltip);\\n  output.vertical_offset += 10;\\n}\\n\\n/**\\n * Adds a tooltip to a dom element.\\n * @param {!options} options Dictionary of configurations.\\n * @param {!dom} target Dom element to equip with a tooltip.\\n * @param {!func} get_content Generates the html content of the tooltip.\\n */\\nfunction add_tooltip(options, target, get_content) {\\n  function show(d) {\\n    options.tooltip.style(\\'display\\', \\'block\\');\\n    options.tooltip.html(get_content());\\n  }\\n\\n  function hide(d) {\\n    options.tooltip.style(\\'display\\', \\'none\\');\\n  }\\n\\n  function move(d) {\\n    options.tooltip.style(\\'display\\', \\'block\\');\\n    options.tooltip.style(\\'left\\', (d.pageX + 5) + \\'px\\');\\n    options.tooltip.style(\\'top\\', d.pageY + \\'px\\');\\n  }\\n\\n  target.on(\\'mouseover\\', show);\\n  target.on(\\'mouseout\\', hide);\\n  target.on(\\'mousemove\\', move);\\n}\\n\\n/**\\n * Adds a condition inside of a node.\\n * @param {!options} options Dictionary of configurations.\\n * @param {!condition} condition Condition to display.\\n * @param {!output} output Output display accumulator.\\n */\\nfunction display_condition(options, condition, output) {\\n  threshold_format = d3.format(\\'r\\');\\n\\n  if (condition.type === \\'IS_MISSING\\') {\\n    display_node_text(options, `${condition.attribute} is missing`, output);\\n    return;\\n  }\\n\\n  if (condition.type === \\'IS_TRUE\\') {\\n    display_node_text(options, `${condition.attribute} is true`, output);\\n    return;\\n  }\\n\\n  if (condition.type === \\'NUMERICAL_IS_HIGHER_THAN\\') {\\n    format = d3.format(\\'r\\');\\n    display_node_text(\\n        options,\\n        `${condition.attribute} >= ${threshold_format(condition.threshold)}`,\\n        output);\\n    return;\\n  }\\n\\n  if (condition.type === \\'CATEGORICAL_IS_IN\\') {\\n    display_node_text_with_tooltip(\\n        options, `${condition.attribute} in [...]`,\\n        `${condition.attribute} in [${condition.mask}]`, output);\\n    return;\\n  }\\n\\n  if (condition.type === \\'CATEGORICAL_SET_CONTAINS\\') {\\n    display_node_text_with_tooltip(\\n        options, `${condition.attribute} intersect [...]`,\\n        `${condition.attribute} intersect [${condition.mask}]`, output);\\n    return;\\n  }\\n\\n  if (condition.type === \\'NUMERICAL_SPARSE_OBLIQUE\\') {\\n    display_node_text_with_tooltip(\\n        options, `Sparse oblique split...`,\\n        `[${condition.attributes}]*[${condition.weights}]>=${\\n            threshold_format(condition.threshold)}`,\\n        output);\\n    return;\\n  }\\n\\n  display_node_text(\\n      options, `Non supported condition ${condition.type}`, output);\\n}\\n\\n/**\\n * Adds a value inside of a node.\\n * @param {!options} options Dictionary of configurations.\\n * @param {!value} value Value to display.\\n * @param {!output} output Output display accumulator.\\n */\\nfunction display_value(options, value, output) {\\n  if (value.type === \\'PROBABILITY\\') {\\n    const left_margin = 0;\\n    const right_margin = 50;\\n    const plot_width = options.node_x_size - options.node_padding * 2 -\\n        left_margin - right_margin;\\n\\n    let cusum = Array.from(d3.cumsum(value.distribution));\\n    cusum.unshift(0);\\n    const distribution_plot = output.content.append(\\'g\\').attr(\\n        \\'transform\\', `translate(0,${output.vertical_offset + 0.5})`);\\n\\n    distribution_plot.selectAll(\\'rect\\')\\n        .data(value.distribution)\\n        .join(\\'rect\\')\\n        .attr(\\'height\\', 10)\\n        .attr(\\n            \\'x\\',\\n            (d, i) =>\\n                (cusum[i] * plot_width + left_margin + options.node_padding))\\n        .attr(\\'width\\', (d, i) => d * plot_width)\\n        .style(\\'fill\\', (d, i) => d3.schemeSet1[i]);\\n\\n    const num_examples =\\n        output.content.append(\\'g\\')\\n            .attr(\\'transform\\', `translate(0,${output.vertical_offset})`)\\n            .append(\\'text\\')\\n            .attr(\\'x\\', options.node_x_size - options.node_padding)\\n            .attr(\\'alignment-baseline\\', \\'hanging\\')\\n            .attr(\\'text-anchor\\', \\'end\\')\\n            .text(`(${value.num_examples})`);\\n\\n    const distribution_details = d3.create(\\'ul\\');\\n    distribution_details.selectAll(\\'li\\')\\n        .data(value.distribution)\\n        .join(\\'li\\')\\n        .append(\\'span\\')\\n        .text(\\n            (d, i) =>\\n                \\'class \\' + i + \\': \\' + d3.format(\\'.3%\\')(value.distribution[i]));\\n\\n    add_tooltip(options, distribution_plot, () => distribution_details.html());\\n    add_tooltip(options, num_examples, () => \\'Number of examples\\');\\n\\n    output.vertical_offset += 10;\\n    return;\\n  }\\n\\n  if (value.type === \\'REGRESSION\\') {\\n    display_node_text(\\n        options,\\n        \\'value: \\' + d3.format(\\'r\\')(value.value) + ` (` +\\n            d3.format(\\'.6\\')(value.num_examples) + `)`,\\n        output);\\n    return;\\n  }\\n\\n  display_node_text(options, `Non supported value ${value.type}`, output);\\n}\\n\\n/**\\n * Adds an explanation inside of a node.\\n * @param {!options} options Dictionary of configurations.\\n * @param {!explanation} explanation Explanation to display.\\n * @param {!output} output Output display accumulator.\\n */\\nfunction display_explanation(options, explanation, output) {\\n  // Margin before the explanation.\\n  output.vertical_offset += 10;\\n\\n  display_node_text(\\n      options, `Non supported explanation ${explanation.type}`, output);\\n}\\n\\n\\n/**\\n * Draw the edges of the tree.\\n * @param {!options} options Dictionary of configurations.\\n * @param {!graph} graph D3 search handle containing the graph.\\n * @param {!tree_struct} tree_struct Structure of the tree (node placement,\\n *     data, etc.).\\n */\\nfunction display_edges(options, graph, tree_struct) {\\n  // Draw an edge between a parent and a child node with a bezier.\\n  function draw_single_edge(d) {\\n    return \\'M\\' + (d.source.y + options.node_x_size) + \\',\\' + d.source.x + \\' C\\' +\\n        (d.source.y + options.node_x_size + options.edge_rounding) + \\',\\' +\\n        d.source.x + \\' \\' + (d.target.y - options.edge_rounding) + \\',\\' +\\n        d.target.x + \\' \\' + d.target.y + \\',\\' + d.target.x;\\n  }\\n\\n  graph.append(\\'g\\')\\n      .attr(\\'fill\\', \\'none\\')\\n      .attr(\\'stroke-width\\', 1.2)\\n      .selectAll(\\'path\\')\\n      .data(tree_struct.links())\\n      .join(\\'path\\')\\n      .attr(\\'d\\', draw_single_edge)\\n      .attr(\\n          \\'stroke\\', d => (d.target === d.source.children[0]) ? \\'#0F0\\' : \\'#F00\\');\\n}\\n\\ndisplay_tree({\"margin\": 10, \"node_x_size\": 160, \"node_y_size\": 28, \"node_x_offset\": 180, \"node_y_offset\": 33, \"font_size\": 10, \"edge_rounding\": 20, \"node_padding\": 2, \"show_plot_bounding_box\": false}, {\"value\": {\"type\": \"PROBABILITY\", \"distribution\": [0.4430379746835443, 0.3291139240506329, 0.22784810126582278], \"num_examples\": 237.0}, \"condition\": {\"type\": \"NUMERICAL_IS_HIGHER_THAN\", \"attribute\": \"flipper_length_mm\", \"threshold\": 206.5}, \"children\": [{\"value\": {\"type\": \"PROBABILITY\", \"distribution\": [0.023529411764705882, 0.9176470588235294, 0.058823529411764705], \"num_examples\": 85.0}, \"condition\": {\"type\": \"NUMERICAL_IS_HIGHER_THAN\", \"attribute\": \"body_mass_g\", \"threshold\": 4362.5}, \"children\": [{\"value\": {\"type\": \"PROBABILITY\", \"distribution\": [0.0, 1.0, 0.0], \"num_examples\": 72.0}}, {\"value\": {\"type\": \"PROBABILITY\", \"distribution\": [0.15384615384615385, 0.46153846153846156, 0.38461538461538464], \"num_examples\": 13.0}, \"condition\": {\"type\": \"CATEGORICAL_IS_IN\", \"attribute\": \"island\", \"mask\": [\"Dream\", \"Torgersen\"]}, \"children\": [{\"value\": {\"type\": \"PROBABILITY\", \"distribution\": [0.2857142857142857, 0.0, 0.7142857142857143], \"num_examples\": 7.0}}, {\"value\": {\"type\": \"PROBABILITY\", \"distribution\": [0.0, 1.0, 0.0], \"num_examples\": 6.0}}]}]}, {\"value\": {\"type\": \"PROBABILITY\", \"distribution\": [0.6776315789473685, 0.0, 0.3223684210526316], \"num_examples\": 152.0}, \"condition\": {\"type\": \"NUMERICAL_IS_HIGHER_THAN\", \"attribute\": \"body_mass_g\", \"threshold\": 3225.0}, \"children\": [{\"value\": {\"type\": \"PROBABILITY\", \"distribution\": [0.631578947368421, 0.0, 0.3684210526315789], \"num_examples\": 133.0}, \"condition\": {\"type\": \"NUMERICAL_IS_HIGHER_THAN\", \"attribute\": \"bill_length_mm\", \"threshold\": 43.150001525878906}, \"children\": [{\"value\": {\"type\": \"PROBABILITY\", \"distribution\": [0.041666666666666664, 0.0, 0.9583333333333334], \"num_examples\": 48.0}, \"condition\": {\"type\": \"NUMERICAL_IS_HIGHER_THAN\", \"attribute\": \"bill_length_mm\", \"threshold\": 45.849998474121094}}, {\"value\": {\"type\": \"PROBABILITY\", \"distribution\": [0.9647058823529412, 0.0, 0.03529411764705882], \"num_examples\": 85.0}, \"condition\": {\"type\": \"NUMERICAL_IS_HIGHER_THAN\", \"attribute\": \"body_mass_g\", \"threshold\": 3462.5}}]}, {\"value\": {\"type\": \"PROBABILITY\", \"distribution\": [1.0, 0.0, 0.0], \"num_examples\": 19.0}}]}]}, \"#tree_plot_cf46dbc31eb1401592f32d9f8f9a04af\")\\n</script>\\n'"
      ]
     },
     "metadata": {},
     "execution_count": 16
    }
   ],
   "source": [
    "# Plotten des ersten Baumes innerhalb des Decision Forests\n",
    "with open('../Data/Models/Penguin_Model_Tree.html', 'w') as f:\n",
    "    f.write(tfdf.model_plotter.plot_model(model, tree_idx=0, max_depth=3))\n",
    "tfdf.model_plotter.plot_model(model, tree_idx=0, max_depth=3)\n"
   ]
  },
  {
   "cell_type": "code",
   "execution_count": 12,
   "metadata": {},
   "outputs": [
    {
     "output_type": "stream",
     "name": "stdout",
     "text": [
      "Model: \"random_forest_model\"\n_________________________________________________________________\nLayer (type)                 Output Shape              Param #   \n=================================================================\nTotal params: 1\nTrainable params: 0\nNon-trainable params: 1\n_________________________________________________________________\nType: \"RANDOM_FOREST\"\nTask: CLASSIFICATION\nLabel: \"__LABEL\"\n\nInput Features (7):\n\tbill_depth_mm\n\tbill_length_mm\n\tbody_mass_g\n\tflipper_length_mm\n\tisland\n\tsex\n\tyear\n\nNo weights\n\nVariable Importance: NUM_NODES:\n    1.    \"bill_length_mm\" 733.000000 ################\n    2. \"flipper_length_mm\" 374.000000 ########\n    3.     \"bill_depth_mm\" 341.000000 #######\n    4.       \"body_mass_g\" 293.000000 ######\n    5.            \"island\" 244.000000 #####\n    6.               \"sex\" 34.000000 \n    7.              \"year\" 14.000000 \n\nVariable Importance: NUM_AS_ROOT:\n    1. \"flipper_length_mm\" 175.000000 ################\n    2.    \"bill_length_mm\" 68.000000 #####\n    3.     \"bill_depth_mm\" 43.000000 ###\n    4.            \"island\" 10.000000 \n    5.       \"body_mass_g\"  4.000000 \n\nVariable Importance: SUM_SCORE:\n    1. \"flipper_length_mm\" 29065.896792 ################\n    2.    \"bill_length_mm\" 24358.456962 #############\n    3.            \"island\" 9145.753696 #####\n    4.     \"bill_depth_mm\" 6995.379029 ###\n    5.       \"body_mass_g\" 2156.364377 #\n    6.               \"sex\" 293.615266 \n    7.              \"year\" 36.951013 \n\nVariable Importance: MEAN_MIN_DEPTH:\n    1.           \"__LABEL\"  3.218407 ################\n    2.              \"year\"  3.206749 ###############\n    3.               \"sex\"  3.177606 ###############\n    4.       \"body_mass_g\"  2.686696 ############\n    5.     \"bill_depth_mm\"  2.338989 #########\n    6.            \"island\"  2.283589 #########\n    7.    \"bill_length_mm\"  1.377993 ##\n    8. \"flipper_length_mm\"  1.080732 \n\n\n\nWinner take all: true\nOut-of-bag evaluation: accuracy:0.970464 logloss:0.215552\nNumber of trees: 300\nTotal number of nodes: 4366\n\nNumber of nodes by tree:\nCount: 300 Average: 14.5533 StdDev: 2.92583\nMin: 7 Max: 25 Ignored: 0\n----------------------------------------------\n[  7,  8)  3   1.00%   1.00%\n[  8,  9)  0   0.00%   1.00%\n[  9, 10)  9   3.00%   4.00% #\n[ 10, 11)  0   0.00%   4.00%\n[ 11, 12) 39  13.00%  17.00% ####\n[ 12, 13)  0   0.00%  17.00%\n[ 13, 14) 81  27.00%  44.00% #########\n[ 14, 15)  0   0.00%  44.00%\n[ 15, 16) 88  29.33%  73.33% ##########\n[ 16, 17)  0   0.00%  73.33%\n[ 17, 18) 49  16.33%  89.67% ######\n[ 18, 19)  0   0.00%  89.67%\n[ 19, 20) 18   6.00%  95.67% ##\n[ 20, 21)  0   0.00%  95.67%\n[ 21, 22)  8   2.67%  98.33% #\n[ 22, 23)  0   0.00%  98.33%\n[ 23, 24)  3   1.00%  99.33%\n[ 24, 25)  0   0.00%  99.33%\n[ 25, 25]  2   0.67% 100.00%\n\nDepth by leafs:\nCount: 2333 Average: 3.27904 StdDev: 1.00307\nMin: 1 Max: 6 Ignored: 0\n----------------------------------------------\n[ 1, 2)  18   0.77%   0.77%\n[ 2, 3) 558  23.92%  24.69% #######\n[ 3, 4) 805  34.50%  59.19% ##########\n[ 4, 5) 693  29.70%  88.90% #########\n[ 5, 6) 225   9.64%  98.54% ###\n[ 6, 6]  34   1.46% 100.00%\n\nNumber of training obs by leaf:\nCount: 2333 Average: 30.4758 StdDev: 30.771\nMin: 5 Max: 106 Ignored: 0\n----------------------------------------------\n[   5,  10) 1146  49.12%  49.12% ##########\n[  10,  15)  102   4.37%  53.49% #\n[  15,  20)   64   2.74%  56.24% #\n[  20,  25)   47   2.01%  58.25%\n[  25,  30)   58   2.49%  60.74% #\n[  30,  35)   82   3.51%  64.25% #\n[  35,  40)   91   3.90%  68.15% #\n[  40,  45)   79   3.39%  71.54% #\n[  45,  50)   63   2.70%  74.24% #\n[  50,  56)   47   2.01%  76.25%\n[  56,  61)   25   1.07%  77.33%\n[  61,  66)   39   1.67%  79.00%\n[  66,  71)   43   1.84%  80.84%\n[  71,  76)   64   2.74%  83.58% #\n[  76,  81)  102   4.37%  87.96% #\n[  81,  86)  102   4.37%  92.33% #\n[  86,  91)   88   3.77%  96.10% #\n[  91,  96)   47   2.01%  98.11%\n[  96, 101)   29   1.24%  99.36%\n[ 101, 106]   15   0.64% 100.00%\n\nAttribute in nodes:\n\t733 : bill_length_mm [NUMERICAL]\n\t374 : flipper_length_mm [NUMERICAL]\n\t341 : bill_depth_mm [NUMERICAL]\n\t293 : body_mass_g [NUMERICAL]\n\t244 : island [CATEGORICAL]\n\t34 : sex [CATEGORICAL]\n\t14 : year [NUMERICAL]\n\nAttribute in nodes with depth <= 0:\n\t175 : flipper_length_mm [NUMERICAL]\n\t68 : bill_length_mm [NUMERICAL]\n\t43 : bill_depth_mm [NUMERICAL]\n\t10 : island [CATEGORICAL]\n\t4 : body_mass_g [NUMERICAL]\n\nAttribute in nodes with depth <= 1:\n\t260 : flipper_length_mm [NUMERICAL]\n\t242 : bill_length_mm [NUMERICAL]\n\t147 : island [CATEGORICAL]\n\t133 : bill_depth_mm [NUMERICAL]\n\t100 : body_mass_g [NUMERICAL]\n\nAttribute in nodes with depth <= 2:\n\t499 : bill_length_mm [NUMERICAL]\n\t322 : flipper_length_mm [NUMERICAL]\n\t238 : bill_depth_mm [NUMERICAL]\n\t227 : island [CATEGORICAL]\n\t190 : body_mass_g [NUMERICAL]\n\t6 : year [NUMERICAL]\n\t6 : sex [CATEGORICAL]\n\nAttribute in nodes with depth <= 3:\n\t673 : bill_length_mm [NUMERICAL]\n\t358 : flipper_length_mm [NUMERICAL]\n\t321 : bill_depth_mm [NUMERICAL]\n\t266 : body_mass_g [NUMERICAL]\n\t242 : island [CATEGORICAL]\n\t26 : sex [CATEGORICAL]\n\t9 : year [NUMERICAL]\n\nAttribute in nodes with depth <= 5:\n\t733 : bill_length_mm [NUMERICAL]\n\t374 : flipper_length_mm [NUMERICAL]\n\t341 : bill_depth_mm [NUMERICAL]\n\t293 : body_mass_g [NUMERICAL]\n\t244 : island [CATEGORICAL]\n\t34 : sex [CATEGORICAL]\n\t14 : year [NUMERICAL]\n\nCondition type in nodes:\n\t1755 : HigherCondition\n\t278 : ContainsBitmapCondition\nCondition type in nodes with depth <= 0:\n\t290 : HigherCondition\n\t10 : ContainsBitmapCondition\nCondition type in nodes with depth <= 1:\n\t735 : HigherCondition\n\t147 : ContainsBitmapCondition\nCondition type in nodes with depth <= 2:\n\t1255 : HigherCondition\n\t233 : ContainsBitmapCondition\nCondition type in nodes with depth <= 3:\n\t1627 : HigherCondition\n\t268 : ContainsBitmapCondition\nCondition type in nodes with depth <= 5:\n\t1755 : HigherCondition\n\t278 : ContainsBitmapCondition\nNode format: NOT_SET\n\nTraining OOB:\n\ttrees: 1, Out-of-bag evaluation: accuracy:0.945055 logloss:1.98042\n\ttrees: 11, Out-of-bag evaluation: accuracy:0.953192 logloss:0.678076\n\ttrees: 21, Out-of-bag evaluation: accuracy:0.966245 logloss:0.220584\n\ttrees: 31, Out-of-bag evaluation: accuracy:0.966245 logloss:0.227863\n\ttrees: 41, Out-of-bag evaluation: accuracy:0.970464 logloss:0.218797\n\ttrees: 51, Out-of-bag evaluation: accuracy:0.970464 logloss:0.221983\n\ttrees: 61, Out-of-bag evaluation: accuracy:0.970464 logloss:0.221062\n\ttrees: 71, Out-of-bag evaluation: accuracy:0.970464 logloss:0.22211\n\ttrees: 81, Out-of-bag evaluation: accuracy:0.974684 logloss:0.2211\n\ttrees: 91, Out-of-bag evaluation: accuracy:0.970464 logloss:0.220917\n\ttrees: 101, Out-of-bag evaluation: accuracy:0.974684 logloss:0.220222\n\ttrees: 111, Out-of-bag evaluation: accuracy:0.974684 logloss:0.221213\n\ttrees: 121, Out-of-bag evaluation: accuracy:0.974684 logloss:0.219632\n\ttrees: 131, Out-of-bag evaluation: accuracy:0.970464 logloss:0.218474\n\ttrees: 141, Out-of-bag evaluation: accuracy:0.970464 logloss:0.218267\n\ttrees: 151, Out-of-bag evaluation: accuracy:0.970464 logloss:0.218122\n\ttrees: 161, Out-of-bag evaluation: accuracy:0.974684 logloss:0.216683\n\ttrees: 171, Out-of-bag evaluation: accuracy:0.974684 logloss:0.216702\n\ttrees: 181, Out-of-bag evaluation: accuracy:0.974684 logloss:0.216841\n\ttrees: 192, Out-of-bag evaluation: accuracy:0.974684 logloss:0.217537\n\ttrees: 202, Out-of-bag evaluation: accuracy:0.970464 logloss:0.217752\n\ttrees: 212, Out-of-bag evaluation: accuracy:0.970464 logloss:0.21798\n\ttrees: 222, Out-of-bag evaluation: accuracy:0.970464 logloss:0.217611\n\ttrees: 232, Out-of-bag evaluation: accuracy:0.970464 logloss:0.217812\n\ttrees: 242, Out-of-bag evaluation: accuracy:0.970464 logloss:0.21711\n\ttrees: 252, Out-of-bag evaluation: accuracy:0.970464 logloss:0.217265\n\ttrees: 262, Out-of-bag evaluation: accuracy:0.970464 logloss:0.217196\n\ttrees: 272, Out-of-bag evaluation: accuracy:0.970464 logloss:0.21656\n\ttrees: 282, Out-of-bag evaluation: accuracy:0.970464 logloss:0.21596\n\ttrees: 292, Out-of-bag evaluation: accuracy:0.970464 logloss:0.215578\n\ttrees: 300, Out-of-bag evaluation: accuracy:0.970464 logloss:0.215552\n\n"
     ]
    }
   ],
   "source": [
    "# Ausgabe einer Model-Summary \n",
    "model.summary()"
   ]
  },
  {
   "cell_type": "code",
   "execution_count": 13,
   "metadata": {},
   "outputs": [
    {
     "output_type": "execute_result",
     "data": {
      "text/plain": [
       "{'NUM_AS_ROOT': [(\"flipper_length_mm\" (1; #3), 175.0),\n",
       "  (\"bill_length_mm\" (1; #1), 68.0),\n",
       "  (\"bill_depth_mm\" (1; #0), 43.0),\n",
       "  (\"island\" (4; #4), 10.0),\n",
       "  (\"body_mass_g\" (1; #2), 4.0)]}"
      ]
     },
     "metadata": {},
     "execution_count": 13
    }
   ],
   "source": [
    "# Ausgabe der errechneten Feature Importance\n",
    "model.make_inspector().variable_importances()\n"
   ]
  },
  {
   "cell_type": "code",
   "execution_count": 14,
   "metadata": {},
   "outputs": [
    {
     "output_type": "display_data",
     "data": {
      "text/plain": "<Figure size 864x288 with 0 Axes>"
     },
     "metadata": {}
    }
   ],
   "source": [
    "# Plotten der restlichen Metriken\n",
    "\n",
    "logs = model.make_inspector().training_logs()\n",
    "plt.figure(figsize=(12,4))\n",
    "\n",
    "plt.subplot(1,2,1)\n",
    "plt.plot([log.num_trees for log in logs], [log.evaluation.accuracy for log in logs])\n",
    "plt.xlabel(\"Number of trees\")\n",
    "plt.ylabel(\"Accuracy (out-of-bag)\")\n",
    "\n",
    "plt.subplot(1,2,2)\n",
    "plt.plot([log.num_trees for log in logs], [log.evaluation.loss for log in logs])\n",
    "plt.xlabel(\"Number of trees\")\n",
    "plt.ylabel(\"Logloss (out-of-bag)\")\n",
    "\n",
    "plt.savefig('../Data/Visualized/Penguins_Model.png')\n",
    "plt.clf()"
   ]
  }
 ]
}