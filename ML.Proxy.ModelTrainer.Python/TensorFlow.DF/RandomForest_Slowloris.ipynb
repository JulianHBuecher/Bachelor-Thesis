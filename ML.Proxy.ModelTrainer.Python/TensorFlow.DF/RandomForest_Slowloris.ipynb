{
 "metadata": {
  "language_info": {
   "codemirror_mode": {
    "name": "ipython",
    "version": 3
   },
   "file_extension": ".py",
   "mimetype": "text/x-python",
   "name": "python",
   "nbconvert_exporter": "python",
   "pygments_lexer": "ipython3",
   "version": "3.8.5"
  },
  "orig_nbformat": 4,
  "kernelspec": {
   "name": "python3",
   "display_name": "Python 3.8.5 64-bit"
  },
  "interpreter": {
   "hash": "31f2aee4e71d21fbe5cf8b01ff0e069b9275f58929596ceb00d14d90e3e16cd6"
  }
 },
 "nbformat": 4,
 "nbformat_minor": 2,
 "cells": [
  {
   "cell_type": "code",
   "execution_count": 1,
   "metadata": {},
   "outputs": [],
   "source": [
    "\n",
    "###############################################################################\n",
    "# Random Forest Classification Model (TensorFlow)                             #\n",
    "# For Slowloris Dataset                                                       #\n",
    "# Based on the Implementation of:                                             #\n",
    "# https://www.tensorflow.org/decision_forests/tutorials/beginner_colab        #\n",
    "###############################################################################\n"
   ]
  },
  {
   "cell_type": "code",
   "execution_count": 2,
   "metadata": {},
   "outputs": [
    {
     "output_type": "stream",
     "name": "stdout",
     "text": [
      "Requirement already satisfied: pandas in /home/julianbuecher/Projects/Bachelor-Thesis/ML.Proxy.ModelTrainer.Python/lib/python3.8/site-packages (1.2.5)\n",
      "Requirement already satisfied: numpy>=1.16.5 in /home/julianbuecher/Projects/Bachelor-Thesis/ML.Proxy.ModelTrainer.Python/lib/python3.8/site-packages (from pandas) (1.19.2)\n",
      "Requirement already satisfied: pytz>=2017.3 in /home/julianbuecher/Projects/Bachelor-Thesis/ML.Proxy.ModelTrainer.Python/lib/python3.8/site-packages (from pandas) (2021.1)\n",
      "Requirement already satisfied: python-dateutil>=2.7.3 in /home/julianbuecher/Projects/Bachelor-Thesis/ML.Proxy.ModelTrainer.Python/lib/python3.8/site-packages (from pandas) (2.8.1)\n",
      "Requirement already satisfied: six>=1.5 in /home/julianbuecher/Projects/Bachelor-Thesis/ML.Proxy.ModelTrainer.Python/lib/python3.8/site-packages (from python-dateutil>=2.7.3->pandas) (1.15.0)\n",
      "Requirement already satisfied: tensorflow_decision_forests in /home/julianbuecher/Projects/Bachelor-Thesis/ML.Proxy.ModelTrainer.Python/lib/python3.8/site-packages (0.1.7)\n",
      "Requirement already satisfied: pandas in /home/julianbuecher/Projects/Bachelor-Thesis/ML.Proxy.ModelTrainer.Python/lib/python3.8/site-packages (from tensorflow_decision_forests) (1.2.5)\n",
      "Requirement already satisfied: numpy in /home/julianbuecher/Projects/Bachelor-Thesis/ML.Proxy.ModelTrainer.Python/lib/python3.8/site-packages (from tensorflow_decision_forests) (1.19.2)\n",
      "Requirement already satisfied: tensorflow~=2.5 in /home/julianbuecher/Projects/Bachelor-Thesis/ML.Proxy.ModelTrainer.Python/lib/python3.8/site-packages (from tensorflow_decision_forests) (2.5.0)\n",
      "Requirement already satisfied: six in /home/julianbuecher/Projects/Bachelor-Thesis/ML.Proxy.ModelTrainer.Python/lib/python3.8/site-packages (from tensorflow_decision_forests) (1.15.0)\n",
      "Requirement already satisfied: wheel in /home/julianbuecher/Projects/Bachelor-Thesis/ML.Proxy.ModelTrainer.Python/lib/python3.8/site-packages (from tensorflow_decision_forests) (0.36.2)\n",
      "Requirement already satisfied: absl-py in /home/julianbuecher/Projects/Bachelor-Thesis/ML.Proxy.ModelTrainer.Python/lib/python3.8/site-packages (from tensorflow_decision_forests) (0.13.0)\n",
      "Requirement already satisfied: pytz>=2017.3 in /home/julianbuecher/Projects/Bachelor-Thesis/ML.Proxy.ModelTrainer.Python/lib/python3.8/site-packages (from pandas->tensorflow_decision_forests) (2021.1)\n",
      "Requirement already satisfied: python-dateutil>=2.7.3 in /home/julianbuecher/Projects/Bachelor-Thesis/ML.Proxy.ModelTrainer.Python/lib/python3.8/site-packages (from pandas->tensorflow_decision_forests) (2.8.1)\n",
      "Requirement already satisfied: keras-preprocessing~=1.1.2 in /home/julianbuecher/Projects/Bachelor-Thesis/ML.Proxy.ModelTrainer.Python/lib/python3.8/site-packages (from tensorflow~=2.5->tensorflow_decision_forests) (1.1.2)\n",
      "Requirement already satisfied: wrapt~=1.12.1 in /home/julianbuecher/Projects/Bachelor-Thesis/ML.Proxy.ModelTrainer.Python/lib/python3.8/site-packages (from tensorflow~=2.5->tensorflow_decision_forests) (1.12.1)\n",
      "Requirement already satisfied: opt-einsum~=3.3.0 in /home/julianbuecher/Projects/Bachelor-Thesis/ML.Proxy.ModelTrainer.Python/lib/python3.8/site-packages (from tensorflow~=2.5->tensorflow_decision_forests) (3.3.0)\n",
      "Requirement already satisfied: h5py~=3.1.0 in /home/julianbuecher/Projects/Bachelor-Thesis/ML.Proxy.ModelTrainer.Python/lib/python3.8/site-packages (from tensorflow~=2.5->tensorflow_decision_forests) (3.1.0)\n",
      "Requirement already satisfied: protobuf>=3.9.2 in /home/julianbuecher/Projects/Bachelor-Thesis/ML.Proxy.ModelTrainer.Python/lib/python3.8/site-packages (from tensorflow~=2.5->tensorflow_decision_forests) (3.17.3)\n",
      "Requirement already satisfied: termcolor~=1.1.0 in /home/julianbuecher/Projects/Bachelor-Thesis/ML.Proxy.ModelTrainer.Python/lib/python3.8/site-packages (from tensorflow~=2.5->tensorflow_decision_forests) (1.1.0)\n",
      "Requirement already satisfied: keras-nightly~=2.5.0.dev in /home/julianbuecher/Projects/Bachelor-Thesis/ML.Proxy.ModelTrainer.Python/lib/python3.8/site-packages (from tensorflow~=2.5->tensorflow_decision_forests) (2.5.0.dev2021032900)\n",
      "Requirement already satisfied: grpcio~=1.34.0 in /home/julianbuecher/Projects/Bachelor-Thesis/ML.Proxy.ModelTrainer.Python/lib/python3.8/site-packages (from tensorflow~=2.5->tensorflow_decision_forests) (1.34.1)\n",
      "Requirement already satisfied: gast==0.4.0 in /home/julianbuecher/Projects/Bachelor-Thesis/ML.Proxy.ModelTrainer.Python/lib/python3.8/site-packages (from tensorflow~=2.5->tensorflow_decision_forests) (0.4.0)\n",
      "Requirement already satisfied: typing-extensions~=3.7.4 in /home/julianbuecher/Projects/Bachelor-Thesis/ML.Proxy.ModelTrainer.Python/lib/python3.8/site-packages (from tensorflow~=2.5->tensorflow_decision_forests) (3.7.4.3)\n",
      "Requirement already satisfied: tensorboard~=2.5 in /home/julianbuecher/Projects/Bachelor-Thesis/ML.Proxy.ModelTrainer.Python/lib/python3.8/site-packages (from tensorflow~=2.5->tensorflow_decision_forests) (2.5.0)\n",
      "Requirement already satisfied: tensorflow-estimator<2.6.0,>=2.5.0rc0 in /home/julianbuecher/Projects/Bachelor-Thesis/ML.Proxy.ModelTrainer.Python/lib/python3.8/site-packages (from tensorflow~=2.5->tensorflow_decision_forests) (2.5.0)\n",
      "Requirement already satisfied: google-pasta~=0.2 in /home/julianbuecher/Projects/Bachelor-Thesis/ML.Proxy.ModelTrainer.Python/lib/python3.8/site-packages (from tensorflow~=2.5->tensorflow_decision_forests) (0.2.0)\n",
      "Requirement already satisfied: flatbuffers~=1.12.0 in /home/julianbuecher/Projects/Bachelor-Thesis/ML.Proxy.ModelTrainer.Python/lib/python3.8/site-packages (from tensorflow~=2.5->tensorflow_decision_forests) (1.12)\n",
      "Requirement already satisfied: astunparse~=1.6.3 in /home/julianbuecher/Projects/Bachelor-Thesis/ML.Proxy.ModelTrainer.Python/lib/python3.8/site-packages (from tensorflow~=2.5->tensorflow_decision_forests) (1.6.3)\n",
      "Requirement already satisfied: tensorboard-data-server<0.7.0,>=0.6.0 in /home/julianbuecher/Projects/Bachelor-Thesis/ML.Proxy.ModelTrainer.Python/lib/python3.8/site-packages (from tensorboard~=2.5->tensorflow~=2.5->tensorflow_decision_forests) (0.6.1)\n",
      "Requirement already satisfied: google-auth<2,>=1.6.3 in /home/julianbuecher/Projects/Bachelor-Thesis/ML.Proxy.ModelTrainer.Python/lib/python3.8/site-packages (from tensorboard~=2.5->tensorflow~=2.5->tensorflow_decision_forests) (1.32.0)\n",
      "Requirement already satisfied: tensorboard-plugin-wit>=1.6.0 in /home/julianbuecher/Projects/Bachelor-Thesis/ML.Proxy.ModelTrainer.Python/lib/python3.8/site-packages (from tensorboard~=2.5->tensorflow~=2.5->tensorflow_decision_forests) (1.8.0)\n",
      "Requirement already satisfied: requests<3,>=2.21.0 in /home/julianbuecher/Projects/Bachelor-Thesis/ML.Proxy.ModelTrainer.Python/lib/python3.8/site-packages (from tensorboard~=2.5->tensorflow~=2.5->tensorflow_decision_forests) (2.25.1)\n",
      "Requirement already satisfied: werkzeug>=0.11.15 in /home/julianbuecher/Projects/Bachelor-Thesis/ML.Proxy.ModelTrainer.Python/lib/python3.8/site-packages (from tensorboard~=2.5->tensorflow~=2.5->tensorflow_decision_forests) (2.0.1)\n",
      "Requirement already satisfied: google-auth-oauthlib<0.5,>=0.4.1 in /home/julianbuecher/Projects/Bachelor-Thesis/ML.Proxy.ModelTrainer.Python/lib/python3.8/site-packages (from tensorboard~=2.5->tensorflow~=2.5->tensorflow_decision_forests) (0.4.4)\n",
      "Requirement already satisfied: markdown>=2.6.8 in /home/julianbuecher/Projects/Bachelor-Thesis/ML.Proxy.ModelTrainer.Python/lib/python3.8/site-packages (from tensorboard~=2.5->tensorflow~=2.5->tensorflow_decision_forests) (3.3.4)\n",
      "Requirement already satisfied: setuptools>=41.0.0 in /home/julianbuecher/Projects/Bachelor-Thesis/ML.Proxy.ModelTrainer.Python/lib/python3.8/site-packages (from tensorboard~=2.5->tensorflow~=2.5->tensorflow_decision_forests) (44.0.0)\n",
      "Requirement already satisfied: cachetools<5.0,>=2.0.0 in /home/julianbuecher/Projects/Bachelor-Thesis/ML.Proxy.ModelTrainer.Python/lib/python3.8/site-packages (from google-auth<2,>=1.6.3->tensorboard~=2.5->tensorflow~=2.5->tensorflow_decision_forests) (4.2.2)\n",
      "Requirement already satisfied: pyasn1-modules>=0.2.1 in /home/julianbuecher/Projects/Bachelor-Thesis/ML.Proxy.ModelTrainer.Python/lib/python3.8/site-packages (from google-auth<2,>=1.6.3->tensorboard~=2.5->tensorflow~=2.5->tensorflow_decision_forests) (0.2.8)\n",
      "Requirement already satisfied: rsa<5,>=3.1.4; python_version >= \"3.6\" in /home/julianbuecher/Projects/Bachelor-Thesis/ML.Proxy.ModelTrainer.Python/lib/python3.8/site-packages (from google-auth<2,>=1.6.3->tensorboard~=2.5->tensorflow~=2.5->tensorflow_decision_forests) (4.7.2)\n",
      "Requirement already satisfied: chardet<5,>=3.0.2 in /home/julianbuecher/Projects/Bachelor-Thesis/ML.Proxy.ModelTrainer.Python/lib/python3.8/site-packages (from requests<3,>=2.21.0->tensorboard~=2.5->tensorflow~=2.5->tensorflow_decision_forests) (4.0.0)\n",
      "Requirement already satisfied: certifi>=2017.4.17 in /home/julianbuecher/Projects/Bachelor-Thesis/ML.Proxy.ModelTrainer.Python/lib/python3.8/site-packages (from requests<3,>=2.21.0->tensorboard~=2.5->tensorflow~=2.5->tensorflow_decision_forests) (2021.5.30)\n",
      "Requirement already satisfied: urllib3<1.27,>=1.21.1 in /home/julianbuecher/Projects/Bachelor-Thesis/ML.Proxy.ModelTrainer.Python/lib/python3.8/site-packages (from requests<3,>=2.21.0->tensorboard~=2.5->tensorflow~=2.5->tensorflow_decision_forests) (1.26.5)\n",
      "Requirement already satisfied: idna<3,>=2.5 in /home/julianbuecher/Projects/Bachelor-Thesis/ML.Proxy.ModelTrainer.Python/lib/python3.8/site-packages (from requests<3,>=2.21.0->tensorboard~=2.5->tensorflow~=2.5->tensorflow_decision_forests) (2.10)\n",
      "Requirement already satisfied: requests-oauthlib>=0.7.0 in /home/julianbuecher/Projects/Bachelor-Thesis/ML.Proxy.ModelTrainer.Python/lib/python3.8/site-packages (from google-auth-oauthlib<0.5,>=0.4.1->tensorboard~=2.5->tensorflow~=2.5->tensorflow_decision_forests) (1.3.0)\n",
      "Requirement already satisfied: pyasn1<0.5.0,>=0.4.6 in /home/julianbuecher/Projects/Bachelor-Thesis/ML.Proxy.ModelTrainer.Python/lib/python3.8/site-packages (from pyasn1-modules>=0.2.1->google-auth<2,>=1.6.3->tensorboard~=2.5->tensorflow~=2.5->tensorflow_decision_forests) (0.4.8)\n",
      "Requirement already satisfied: oauthlib>=3.0.0 in /home/julianbuecher/Projects/Bachelor-Thesis/ML.Proxy.ModelTrainer.Python/lib/python3.8/site-packages (from requests-oauthlib>=0.7.0->google-auth-oauthlib<0.5,>=0.4.1->tensorboard~=2.5->tensorflow~=2.5->tensorflow_decision_forests) (3.1.1)\n",
      "Requirement already satisfied: wurlitzer in /home/julianbuecher/Projects/Bachelor-Thesis/ML.Proxy.ModelTrainer.Python/lib/python3.8/site-packages (2.1.0)\n",
      "Requirement already satisfied: matplotlib in /home/julianbuecher/Projects/Bachelor-Thesis/ML.Proxy.ModelTrainer.Python/lib/python3.8/site-packages (3.4.2)\n",
      "Requirement already satisfied: pillow>=6.2.0 in /home/julianbuecher/Projects/Bachelor-Thesis/ML.Proxy.ModelTrainer.Python/lib/python3.8/site-packages (from matplotlib) (8.2.0)\n",
      "Requirement already satisfied: python-dateutil>=2.7 in /home/julianbuecher/Projects/Bachelor-Thesis/ML.Proxy.ModelTrainer.Python/lib/python3.8/site-packages (from matplotlib) (2.8.1)\n",
      "Requirement already satisfied: pyparsing>=2.2.1 in /home/julianbuecher/Projects/Bachelor-Thesis/ML.Proxy.ModelTrainer.Python/lib/python3.8/site-packages (from matplotlib) (2.4.7)\n",
      "Requirement already satisfied: numpy>=1.16 in /home/julianbuecher/Projects/Bachelor-Thesis/ML.Proxy.ModelTrainer.Python/lib/python3.8/site-packages (from matplotlib) (1.19.2)\n",
      "Requirement already satisfied: kiwisolver>=1.0.1 in /home/julianbuecher/Projects/Bachelor-Thesis/ML.Proxy.ModelTrainer.Python/lib/python3.8/site-packages (from matplotlib) (1.3.1)\n",
      "Requirement already satisfied: cycler>=0.10 in /home/julianbuecher/Projects/Bachelor-Thesis/ML.Proxy.ModelTrainer.Python/lib/python3.8/site-packages (from matplotlib) (0.10.0)\n",
      "Requirement already satisfied: six>=1.5 in /home/julianbuecher/Projects/Bachelor-Thesis/ML.Proxy.ModelTrainer.Python/lib/python3.8/site-packages (from python-dateutil>=2.7->matplotlib) (1.15.0)\n",
      "Requirement already satisfied: ipython in /home/julianbuecher/Projects/Bachelor-Thesis/ML.Proxy.ModelTrainer.Python/lib/python3.8/site-packages (7.24.1)\n",
      "Requirement already satisfied: prompt-toolkit!=3.0.0,!=3.0.1,<3.1.0,>=2.0.0 in /home/julianbuecher/Projects/Bachelor-Thesis/ML.Proxy.ModelTrainer.Python/lib/python3.8/site-packages (from ipython) (3.0.19)\n",
      "Requirement already satisfied: matplotlib-inline in /home/julianbuecher/Projects/Bachelor-Thesis/ML.Proxy.ModelTrainer.Python/lib/python3.8/site-packages (from ipython) (0.1.2)\n",
      "Requirement already satisfied: setuptools>=18.5 in /home/julianbuecher/Projects/Bachelor-Thesis/ML.Proxy.ModelTrainer.Python/lib/python3.8/site-packages (from ipython) (44.0.0)\n",
      "Requirement already satisfied: backcall in /home/julianbuecher/Projects/Bachelor-Thesis/ML.Proxy.ModelTrainer.Python/lib/python3.8/site-packages (from ipython) (0.2.0)\n",
      "Requirement already satisfied: pickleshare in /home/julianbuecher/Projects/Bachelor-Thesis/ML.Proxy.ModelTrainer.Python/lib/python3.8/site-packages (from ipython) (0.7.5)\n",
      "Requirement already satisfied: pexpect>4.3; sys_platform != \"win32\" in /home/julianbuecher/Projects/Bachelor-Thesis/ML.Proxy.ModelTrainer.Python/lib/python3.8/site-packages (from ipython) (4.8.0)\n",
      "Requirement already satisfied: decorator in /home/julianbuecher/Projects/Bachelor-Thesis/ML.Proxy.ModelTrainer.Python/lib/python3.8/site-packages (from ipython) (5.0.9)\n",
      "Requirement already satisfied: pygments in /home/julianbuecher/Projects/Bachelor-Thesis/ML.Proxy.ModelTrainer.Python/lib/python3.8/site-packages (from ipython) (2.9.0)\n",
      "Requirement already satisfied: traitlets>=4.2 in /home/julianbuecher/Projects/Bachelor-Thesis/ML.Proxy.ModelTrainer.Python/lib/python3.8/site-packages (from ipython) (5.0.5)\n",
      "Requirement already satisfied: jedi>=0.16 in /home/julianbuecher/Projects/Bachelor-Thesis/ML.Proxy.ModelTrainer.Python/lib/python3.8/site-packages (from ipython) (0.18.0)\n",
      "Requirement already satisfied: wcwidth in /home/julianbuecher/Projects/Bachelor-Thesis/ML.Proxy.ModelTrainer.Python/lib/python3.8/site-packages (from prompt-toolkit!=3.0.0,!=3.0.1,<3.1.0,>=2.0.0->ipython) (0.2.5)\n",
      "Requirement already satisfied: ptyprocess>=0.5 in /home/julianbuecher/Projects/Bachelor-Thesis/ML.Proxy.ModelTrainer.Python/lib/python3.8/site-packages (from pexpect>4.3; sys_platform != \"win32\"->ipython) (0.7.0)\n",
      "Requirement already satisfied: ipython-genutils in /home/julianbuecher/Projects/Bachelor-Thesis/ML.Proxy.ModelTrainer.Python/lib/python3.8/site-packages (from traitlets>=4.2->ipython) (0.2.0)\n",
      "Requirement already satisfied: parso<0.9.0,>=0.8.0 in /home/julianbuecher/Projects/Bachelor-Thesis/ML.Proxy.ModelTrainer.Python/lib/python3.8/site-packages (from jedi>=0.16->ipython) (0.8.2)\n"
     ]
    }
   ],
   "source": [
    "# Installieren aller benötigten Pakete\n",
    "!pip install pandas\n",
    "!pip install tensorflow_decision_forests\n",
    "!pip install wurlitzer\n",
    "!pip install matplotlib\n",
    "!pip install ipython"
   ]
  },
  {
   "cell_type": "code",
   "execution_count": 3,
   "metadata": {},
   "outputs": [],
   "source": [
    "# Laden der benötigten Python Pakete\n",
    "import pandas as pd\n",
    "import numpy as np\n",
    "import tensorflow_decision_forests as tfdf\n",
    "from wurlitzer import sys_pipes\n",
    "import matplotlib.pyplot as plt"
   ]
  },
  {
   "cell_type": "code",
   "execution_count": 4,
   "metadata": {},
   "outputs": [
    {
     "output_type": "stream",
     "name": "stdout",
     "text": [
      "Found TensorFlow Decision Forests v0.1.7\n"
     ]
    }
   ],
   "source": [
    "# Prüfung der installierten TensorFlow Decision Forests Version\n",
    "print(f\"Found TensorFlow Decision Forests v{tfdf.__version__}\")\n"
   ]
  },
  {
   "cell_type": "code",
   "execution_count": 5,
   "metadata": {},
   "outputs": [],
   "source": [
    "# Laden der Netzwerk Traffic Daten für den GoldenEye Angriff\n",
    "data_Slowloris = pd.read_csv('../Data/Thursday-15-02-2018_Slowloris-Attack.csv')\n",
    "# Umbenennen der einzelnen Spalte für eine bessere Kompatibilität mit TensorFlow\n",
    "data_Slowloris.rename(columns={\n",
    "    'Flow Duration':'flow_duration',\n",
    "    'Bwd IAT Mean':'bwd_iat_mean',\n",
    "    'Fwd IAT Min':'fwd_iat_min',\n",
    "    'Fwd IAT Mean':'fwd_iat_mean',\n",
    "    'Label':'label'\n",
    "},\n",
    "inplace=True)\n"
   ]
  },
  {
   "cell_type": "code",
   "execution_count": 6,
   "metadata": {},
   "outputs": [],
   "source": [
    "# Festlegen des Wertes der bestimmten Variable\n",
    "label = 'label'"
   ]
  },
  {
   "cell_type": "code",
   "execution_count": 7,
   "metadata": {},
   "outputs": [
    {
     "output_type": "stream",
     "name": "stdout",
     "text": [
      "704816 examples in training, 302251 examples for testing.\n"
     ]
    }
   ],
   "source": [
    "# Aufteilen des Datasets in Training- und Test-Daten\n",
    "def split_dataset(dataset,  test_ratio=0.30):\n",
    "    \"\"\"Splits a panda dataframe in two dataframes.\"\"\"\n",
    "    test_indices = np.random.rand(len(dataset)) < test_ratio\n",
    "    return dataset[~test_indices], dataset[test_indices]\n",
    "\n",
    "training_data_Slowloris, testing_data_Slowloris = split_dataset(data_Slowloris)\n",
    "\n",
    "print(\"{} examples in training, {} examples for testing.\".format(\n",
    "    len(training_data_Slowloris), len(testing_data_Slowloris)))\n"
   ]
  },
  {
   "cell_type": "code",
   "execution_count": 8,
   "metadata": {},
   "outputs": [
    {
     "output_type": "stream",
     "name": "stdout",
     "text": [
      "Converting Panda Dataframe into TensorFlow Dataset...\n"
     ]
    }
   ],
   "source": [
    "# Konvertieren des Panda Dataframes in ein TensorFlow Dataset\n",
    "print(\"Converting Panda Dataframe into TensorFlow Dataset...\")\n",
    "training_dataset_Slowloris = tfdf.keras.pd_dataframe_to_tf_dataset(training_data_Slowloris, label=label)\n",
    "testing_dataset_Slowloris = tfdf.keras.pd_dataframe_to_tf_dataset(testing_data_Slowloris, label=label)\n"
   ]
  },
  {
   "cell_type": "code",
   "execution_count": 9,
   "metadata": {},
   "outputs": [],
   "source": [
    "# Erstellen des Random Forest Modells\n",
    "model = tfdf.keras.RandomForestModel()\n",
    "model.compile(metrics=[\"accuracy\"])\n"
   ]
  },
  {
   "cell_type": "code",
   "execution_count": 10,
   "metadata": {},
   "outputs": [
    {
     "output_type": "stream",
     "name": "stdout",
     "text": [
      "Training the Model: \n",
      "2021-06-28 10:38:04.580853: I tensorflow/compiler/mlir/mlir_graph_optimization_pass.cc:176] None of the MLIR Optimization Passes are enabled (registered 2)\n",
      "2021-06-28 10:38:04.598840: I tensorflow/core/platform/profile_utils/cpu_utils.cc:114] CPU Frequency: 2199995000 Hz\n",
      "11013/11013 [==============================] - 10s 752us/step\n",
      "[INFO kernel.cc:746] Start Yggdrasil model training\n",
      "[INFO kernel.cc:747] Collect training examples\n",
      "[INFO kernel.cc:392] Number of batches: 11013\n",
      "[INFO kernel.cc:393] Number of examples: 704816\n",
      "[INFO kernel.cc:769] Dataset:\n",
      "Number of records: 704816\n",
      "Number of columns: 5\n",
      "\n",
      "Number of columns by type:\n",
      "\tNUMERICAL: 4 (80%)\n",
      "\tCATEGORICAL: 1 (20%)\n",
      "\n",
      "Columns:\n",
      "\n",
      "NUMERICAL: 4 (80%)\n",
      "\t0: \"bwd_iat_mean\" NUMERICAL mean:1.40515e+06 min:0 max:1.19913e+08 sd:7.40721e+06\n",
      "\t1: \"flow_duration\" NUMERICAL mean:1.44461e+07 min:0 max:1.2e+08 sd:3.38582e+07\n",
      "\t2: \"fwd_iat_mean\" NUMERICAL mean:3.48831e+06 min:0 max:1.19992e+08 sd:1.24011e+07\n",
      "\t3: \"fwd_iat_min\" NUMERICAL mean:2.65716e+06 min:0 max:1.19992e+08 sd:1.22995e+07\n",
      "\n",
      "CATEGORICAL: 1 (20%)\n",
      "\t4: \"__LABEL\" CATEGORICAL integerized vocab-size:3 no-ood-item\n",
      "\n",
      "Terminology:\n",
      "\tnas: Number of non-available (i.e. missing) values.\n",
      "\tood: Out of dictionary.\n",
      "\tmanually-defined: Attribute which type is manually defined by the user i.e. the type was not automatically inferred.\n",
      "\ttokenized: The attribute value is obtained through tokenization.\n",
      "\thas-dict: The attribute is attached to a string dictionary e.g. a categorical attribute stored as a string.\n",
      "\tvocab-size: Number of unique values.\n",
      "\n",
      "[INFO kernel.cc:772] Configure learner\n",
      "[INFO kernel.cc:797] Training config:\n",
      "learner: \"RANDOM_FOREST\"\n",
      "features: \"bwd_iat_mean\"\n",
      "features: \"flow_duration\"\n",
      "features: \"fwd_iat_mean\"\n",
      "features: \"fwd_iat_min\"\n",
      "label: \"__LABEL\"\n",
      "task: CLASSIFICATION\n",
      "[yggdrasil_decision_forests.model.random_forest.proto.random_forest_config] {\n",
      "  num_trees: 300\n",
      "  decision_tree {\n",
      "    max_depth: 16\n",
      "    min_examples: 5\n",
      "    in_split_min_examples_check: true\n",
      "    missing_value_policy: GLOBAL_IMPUTATION\n",
      "    allow_na_conditions: false\n",
      "    categorical_set_greedy_forward {\n",
      "      sampling: 0.1\n",
      "      max_num_items: -1\n",
      "      min_item_frequency: 1\n",
      "    }\n",
      "    growing_strategy_local {\n",
      "    }\n",
      "    categorical {\n",
      "      cart {\n",
      "      }\n",
      "    }\n",
      "    num_candidate_attributes_ratio: -1\n",
      "    axis_aligned_split {\n",
      "    }\n",
      "    internal {\n",
      "      sorting_strategy: PRESORTED\n",
      "    }\n",
      "  }\n",
      "  winner_take_all_inference: true\n",
      "  compute_oob_performances: true\n",
      "  compute_oob_variable_importances: false\n",
      "  adapt_bootstrap_size_ratio_for_maximum_training_duration: false\n",
      "}\n",
      "\n",
      "[INFO kernel.cc:800] Deployment config:\n",
      "\n",
      "[INFO kernel.cc:837] Train model\n",
      "[INFO random_forest.cc:303] Training random forest on 704816 example(s) and 4 feature(s).\n",
      "[INFO random_forest.cc:578] Training of tree  1/300 (tree index:1) done accuracy:0.999326 logloss:0.0242916\n",
      "[INFO random_forest.cc:578] Training of tree  11/300 (tree index:11) done accuracy:0.999397 logloss:0.0166246\n",
      "[INFO random_forest.cc:578] Training of tree  21/300 (tree index:20) done accuracy:0.99942 logloss:0.0148823\n",
      "[INFO random_forest.cc:578] Training of tree  31/300 (tree index:30) done accuracy:0.999424 logloss:0.0141646\n",
      "[INFO random_forest.cc:578] Training of tree  41/300 (tree index:40) done accuracy:0.999428 logloss:0.0137426\n",
      "[INFO random_forest.cc:578] Training of tree  51/300 (tree index:50) done accuracy:0.999444 logloss:0.0135101\n",
      "[INFO random_forest.cc:578] Training of tree  61/300 (tree index:60) done accuracy:0.999444 logloss:0.0132754\n",
      "[INFO random_forest.cc:578] Training of tree  71/300 (tree index:68) done accuracy:0.999445 logloss:0.0131358\n",
      "[INFO random_forest.cc:578] Training of tree  81/300 (tree index:79) done accuracy:0.999448 logloss:0.013042\n",
      "[INFO random_forest.cc:578] Training of tree  91/300 (tree index:90) done accuracy:0.999445 logloss:0.0129979\n",
      "[INFO random_forest.cc:578] Training of tree  101/300 (tree index:99) done accuracy:0.999447 logloss:0.0128564\n",
      "[INFO random_forest.cc:578] Training of tree  111/300 (tree index:110) done accuracy:0.999447 logloss:0.0128062\n",
      "[INFO random_forest.cc:578] Training of tree  121/300 (tree index:120) done accuracy:0.999445 logloss:0.0127567\n",
      "[INFO random_forest.cc:578] Training of tree  131/300 (tree index:130) done accuracy:0.999447 logloss:0.0127154\n",
      "[INFO random_forest.cc:578] Training of tree  141/300 (tree index:140) done accuracy:0.999449 logloss:0.0127168\n",
      "[INFO random_forest.cc:578] Training of tree  151/300 (tree index:150) done accuracy:0.999451 logloss:0.0126243\n",
      "[INFO random_forest.cc:578] Training of tree  161/300 (tree index:160) done accuracy:0.999448 logloss:0.0125751\n",
      "[INFO random_forest.cc:578] Training of tree  171/300 (tree index:170) done accuracy:0.999445 logloss:0.012576\n",
      "[INFO random_forest.cc:578] Training of tree  181/300 (tree index:180) done accuracy:0.999448 logloss:0.0125753\n",
      "[INFO random_forest.cc:578] Training of tree  191/300 (tree index:190) done accuracy:0.999452 logloss:0.0125782\n",
      "[INFO random_forest.cc:578] Training of tree  201/300 (tree index:200) done accuracy:0.999448 logloss:0.012579\n",
      "[INFO random_forest.cc:578] Training of tree  211/300 (tree index:210) done accuracy:0.999449 logloss:0.0125325\n",
      "[INFO random_forest.cc:578] Training of tree  221/300 (tree index:220) done accuracy:0.999454 logloss:0.0124888\n",
      "[INFO random_forest.cc:578] Training of tree  231/300 (tree index:231) done accuracy:0.999451 logloss:0.0124894\n",
      "[INFO random_forest.cc:578] Training of tree  241/300 (tree index:239) done accuracy:0.999452 logloss:0.0124883\n",
      "[INFO random_forest.cc:578] Training of tree  251/300 (tree index:250) done accuracy:0.999452 logloss:0.0124912\n",
      "[INFO random_forest.cc:578] Training of tree  261/300 (tree index:260) done accuracy:0.999451 logloss:0.0124918\n",
      "[INFO random_forest.cc:578] Training of tree  271/300 (tree index:270) done accuracy:0.999448 logloss:0.0124908\n",
      "[INFO random_forest.cc:578] Training of tree  281/300 (tree index:281) done accuracy:0.999451 logloss:0.0124922\n",
      "[INFO random_forest.cc:578] Training of tree  291/300 (tree index:292) done accuracy:0.999452 logloss:0.012446\n",
      "[INFO random_forest.cc:578] Training of tree  300/300 (tree index:299) done accuracy:0.999451 logloss:0.0124472\n",
      "[INFO random_forest.cc:645] Final OOB metrics: accuracy:0.999451 logloss:0.0124472\n",
      "[INFO kernel.cc:856] Export model in log directory: /tmp/tmp556tlghs\n",
      "[INFO kernel.cc:864] Save model in resources\n",
      "[INFO kernel.cc:960] Loading model from path\n",
      "[INFO decision_forest.cc:590] Model loaded with 300 root(s), 126364 node(s), and 4 input feature(s).\n",
      "[INFO abstract_model.cc:973] Engine \"RandomForestOptPred\" built\n",
      "[INFO kernel.cc:820] Use fast generic engine\n"
     ]
    }
   ],
   "source": [
    "# Trainieren des Modells\n",
    "print(\"Training the Model: \")\n",
    "with sys_pipes():\n",
    "    model.fit(x=training_dataset_Slowloris)"
   ]
  },
  {
   "cell_type": "code",
   "execution_count": 11,
   "metadata": {},
   "outputs": [
    {
     "output_type": "stream",
     "name": "stdout",
     "text": [
      "Evaluating the Model...\n",
      "4723/4723 [==============================] - 16s 3ms/step - loss: 0.0000e+00 - accuracy: 0.9995\n",
      "\n",
      "loss: 0.0000\n",
      "accuracy: 0.9995\n"
     ]
    }
   ],
   "source": [
    "# Evaluation des trainierten Modells mit den Testdaten\n",
    "print(\"Evaluating the Model...\")\n",
    "evaluation = model.evaluate(testing_dataset_Slowloris, return_dict=True)\n",
    "\n",
    "print()\n",
    "\n",
    "for name, value in evaluation.items():\n",
    "    print(f\"{name}: {value:.4f}\")"
   ]
  },
  {
   "cell_type": "code",
   "execution_count": 12,
   "metadata": {},
   "outputs": [
    {
     "output_type": "stream",
     "name": "stdout",
     "text": [
      "INFO:tensorflow:Assets written to: ../Data/Models/slowloris_model/assets\n",
      "INFO:tensorflow:Assets written to: ../Data/Models/slowloris_model/assets\n"
     ]
    }
   ],
   "source": [
    "# Trainiertes Modell für die spätere Verwendung abspeichern\n",
    "model.save(\"../Data/Models/slowloris_model\")\n"
   ]
  },
  {
   "cell_type": "code",
   "execution_count": 13,
   "metadata": {},
   "outputs": [
    {
     "output_type": "execute_result",
     "data": {
      "text/plain": [
       "'\\n<script src=\"https://d3js.org/d3.v6.min.js\"></script>\\n<div id=\"tree_plot_ea6f1b92cb37443181f142e5b217741f\"></div>\\n<script>\\n/*\\n * Copyright 2021 Google LLC.\\n * Licensed under the Apache License, Version 2.0 (the \"License\");\\n * you may not use this file except in compliance with the License.\\n * You may obtain a copy of the License at\\n *\\n *     https://www.apache.org/licenses/LICENSE-2.0\\n *\\n * Unless required by applicable law or agreed to in writing, software\\n * distributed under the License is distributed on an \"AS IS\" BASIS,\\n * WITHOUT WARRANTIES OR CONDITIONS OF ANY KIND, either express or implied.\\n * See the License for the specific language governing permissions and\\n * limitations under the License.\\n */\\n\\n/**\\n *  Plotting of decision trees generated by TF-DF.\\n *\\n *  A tree is a recursive structure of node objects.\\n *  A node contains one or more of the following components:\\n *\\n *    - A value: Representing the output of the node. If the node is not a leaf,\\n *      the value is only present for analysis i.e. it is not used for\\n *      predictions.\\n *\\n *    - A condition : For non-leaf nodes, the condition (also known as split)\\n *      defines a binary test to branch to the positive or negative child.\\n *\\n *    - An explanation: Generally a plot showing the relation between the label\\n *      and the condition to give insights about the effect of the condition.\\n *\\n *    - Two children : For non-leaf nodes, the children nodes. The first\\n *      children (i.e. \"node.children[0]\") is the negative children (drawn in\\n *      red). The second children is the positive one (drawn in green).\\n *\\n */\\n\\n/**\\n * Plots a single decision tree into a DOM element.\\n * @param {!options} options Dictionary of configurations.\\n * @param {!tree} raw_tree Recursive tree structure.\\n * @param {string} canvas_id Id of the output dom element.\\n */\\nfunction display_tree(options, raw_tree, canvas_id) {\\n  console.log(options);\\n\\n  // Determine the node placement.\\n  const tree_struct = d3.tree().nodeSize(\\n      [options.node_y_offset, options.node_x_offset])(d3.hierarchy(raw_tree));\\n\\n  // Boundaries of the node placement.\\n  let x_min = Infinity;\\n  let x_max = -x_min;\\n  let y_min = Infinity;\\n  let y_max = -x_min;\\n\\n  tree_struct.each(d => {\\n    if (d.x > x_max) x_max = d.x;\\n    if (d.x < x_min) x_min = d.x;\\n    if (d.y > y_max) y_max = d.y;\\n    if (d.y < y_min) y_min = d.y;\\n  });\\n\\n  // Size of the plot.\\n  const width = y_max - y_min + options.node_x_size + options.margin * 2;\\n  const height = x_max - x_min + options.node_y_size + options.margin * 2 +\\n      options.node_y_offset - options.node_y_size;\\n\\n  const plot = d3.select(canvas_id);\\n\\n  // Tool tip\\n  options.tooltip = plot.append(\\'div\\')\\n                        .attr(\\'width\\', 100)\\n                        .attr(\\'height\\', 100)\\n                        .style(\\'padding\\', \\'4px\\')\\n                        .style(\\'background\\', \\'#fff\\')\\n                        .style(\\'box-shadow\\', \\'4px 4px 0px rgba(0,0,0,0.1)\\')\\n                        .style(\\'border\\', \\'1px solid black\\')\\n                        .style(\\'font-family\\', \\'sans-serif\\')\\n                        .style(\\'font-size\\', options.font_size)\\n                        .style(\\'position\\', \\'absolute\\')\\n                        .style(\\'z-index\\', \\'10\\')\\n                        .attr(\\'pointer-events\\', \\'none\\')\\n                        .style(\\'display\\', \\'none\\');\\n\\n  // Create canvas\\n  const svg = plot.append(\\'svg\\').attr(\\'width\\', width).attr(\\'height\\', height);\\n  const graph =\\n      svg.style(\\'overflow\\', \\'visible\\')\\n          .append(\\'g\\')\\n          .attr(\\'font-family\\', \\'sans-serif\\')\\n          .attr(\\'font-size\\', options.font_size)\\n          .attr(\\n              \\'transform\\',\\n              () => `translate(${options.margin},${\\n                  - x_min + options.node_y_offset / 2 + options.margin})`);\\n\\n  // Plot bounding box.\\n  if (options.show_plot_bounding_box) {\\n    svg.append(\\'rect\\')\\n        .attr(\\'width\\', width)\\n        .attr(\\'height\\', height)\\n        .attr(\\'fill\\', \\'none\\')\\n        .attr(\\'stroke-width\\', 1.0)\\n        .attr(\\'stroke\\', \\'black\\');\\n  }\\n\\n  // Draw the edges.\\n  display_edges(options, graph, tree_struct);\\n\\n  // Draw the nodes.\\n  display_nodes(options, graph, tree_struct);\\n}\\n\\n/**\\n * Draw the nodes of the tree.\\n * @param {!options} options Dictionary of configurations.\\n * @param {!graph} graph D3 search handle containing the graph.\\n * @param {!tree_struct} tree_struct Structure of the tree (node placement,\\n *     data, etc.).\\n */\\nfunction display_nodes(options, graph, tree_struct) {\\n  const nodes = graph.append(\\'g\\')\\n                    .selectAll(\\'g\\')\\n                    .data(tree_struct.descendants())\\n                    .join(\\'g\\')\\n                    .attr(\\'transform\\', d => `translate(${d.y},${d.x})`);\\n\\n  nodes.append(\\'rect\\')\\n      .attr(\\'x\\', 0.5)\\n      .attr(\\'y\\', 0.5)\\n      .attr(\\'width\\', options.node_x_size)\\n      .attr(\\'height\\', options.node_y_size)\\n      .attr(\\'stroke\\', \\'lightgrey\\')\\n      .attr(\\'stroke-width\\', 1)\\n      .attr(\\'fill\\', \\'white\\')\\n      .attr(\\'y\\', -options.node_y_size / 2);\\n\\n  // Brackets on the right of condition nodes without children.\\n  non_leaf_node_without_children =\\n      nodes.filter(node => node.data.condition != null && node.children == null)\\n          .append(\\'g\\')\\n          .attr(\\'transform\\', `translate(${options.node_x_size},0)`);\\n\\n  non_leaf_node_without_children.append(\\'path\\')\\n      .attr(\\'d\\', \\'M0,0 C 10,0 0,10 10,10\\')\\n      .attr(\\'fill\\', \\'none\\')\\n      .attr(\\'stroke-width\\', 1.0)\\n      .attr(\\'stroke\\', \\'#F00\\');\\n\\n  non_leaf_node_without_children.append(\\'path\\')\\n      .attr(\\'d\\', \\'M0,0 C 10,0 0,-10 10,-10\\')\\n      .attr(\\'fill\\', \\'none\\')\\n      .attr(\\'stroke-width\\', 1.0)\\n      .attr(\\'stroke\\', \\'#0F0\\');\\n\\n  const node_content = nodes.append(\\'g\\').attr(\\n      \\'transform\\',\\n      `translate(0,${options.node_padding - options.node_y_size / 2})`);\\n\\n  node_content.append(node => create_node_element(options, node));\\n}\\n\\n/**\\n * Creates the D3 content for a single node.\\n * @param {!options} options Dictionary of configurations.\\n * @param {!node} node Node to draw.\\n * @return {!d3} D3 content.\\n */\\nfunction create_node_element(options, node) {\\n  // Output accumulator.\\n  let output = {\\n    // Content to draw.\\n    content: d3.create(\\'svg:g\\'),\\n    // Vertical offset to the next element to draw.\\n    vertical_offset: 0\\n  };\\n\\n  // Conditions.\\n  if (node.data.condition != null) {\\n    display_condition(options, node.data.condition, output);\\n  }\\n\\n  // Values.\\n  if (node.data.value != null) {\\n    display_value(options, node.data.value, output);\\n  }\\n\\n  // Explanations.\\n  if (node.data.explanation != null) {\\n    display_explanation(options, node.data.explanation, output);\\n  }\\n\\n  return output.content.node();\\n}\\n\\n\\n/**\\n * Adds a single line of text inside of a node.\\n * @param {!options} options Dictionary of configurations.\\n * @param {string} text Text to display.\\n * @param {!output} output Output display accumulator.\\n */\\nfunction display_node_text(options, text, output) {\\n  output.content.append(\\'text\\')\\n      .attr(\\'x\\', options.node_padding)\\n      .attr(\\'y\\', output.vertical_offset)\\n      .attr(\\'alignment-baseline\\', \\'hanging\\')\\n      .text(text);\\n  output.vertical_offset += 10;\\n}\\n\\n/**\\n * Adds a single line of text inside of a node with a tooltip.\\n * @param {!options} options Dictionary of configurations.\\n * @param {string} text Text to display.\\n * @param {string} tooltip Text in the Tooltip.\\n * @param {!output} output Output display accumulator.\\n */\\nfunction display_node_text_with_tooltip(options, text, tooltip, output) {\\n  const item = output.content.append(\\'text\\')\\n                   .attr(\\'x\\', options.node_padding)\\n                   .attr(\\'alignment-baseline\\', \\'hanging\\')\\n                   .text(text);\\n\\n  add_tooltip(options, item, () => tooltip);\\n  output.vertical_offset += 10;\\n}\\n\\n/**\\n * Adds a tooltip to a dom element.\\n * @param {!options} options Dictionary of configurations.\\n * @param {!dom} target Dom element to equip with a tooltip.\\n * @param {!func} get_content Generates the html content of the tooltip.\\n */\\nfunction add_tooltip(options, target, get_content) {\\n  function show(d) {\\n    options.tooltip.style(\\'display\\', \\'block\\');\\n    options.tooltip.html(get_content());\\n  }\\n\\n  function hide(d) {\\n    options.tooltip.style(\\'display\\', \\'none\\');\\n  }\\n\\n  function move(d) {\\n    options.tooltip.style(\\'display\\', \\'block\\');\\n    options.tooltip.style(\\'left\\', (d.pageX + 5) + \\'px\\');\\n    options.tooltip.style(\\'top\\', d.pageY + \\'px\\');\\n  }\\n\\n  target.on(\\'mouseover\\', show);\\n  target.on(\\'mouseout\\', hide);\\n  target.on(\\'mousemove\\', move);\\n}\\n\\n/**\\n * Adds a condition inside of a node.\\n * @param {!options} options Dictionary of configurations.\\n * @param {!condition} condition Condition to display.\\n * @param {!output} output Output display accumulator.\\n */\\nfunction display_condition(options, condition, output) {\\n  threshold_format = d3.format(\\'r\\');\\n\\n  if (condition.type === \\'IS_MISSING\\') {\\n    display_node_text(options, `${condition.attribute} is missing`, output);\\n    return;\\n  }\\n\\n  if (condition.type === \\'IS_TRUE\\') {\\n    display_node_text(options, `${condition.attribute} is true`, output);\\n    return;\\n  }\\n\\n  if (condition.type === \\'NUMERICAL_IS_HIGHER_THAN\\') {\\n    format = d3.format(\\'r\\');\\n    display_node_text(\\n        options,\\n        `${condition.attribute} >= ${threshold_format(condition.threshold)}`,\\n        output);\\n    return;\\n  }\\n\\n  if (condition.type === \\'CATEGORICAL_IS_IN\\') {\\n    display_node_text_with_tooltip(\\n        options, `${condition.attribute} in [...]`,\\n        `${condition.attribute} in [${condition.mask}]`, output);\\n    return;\\n  }\\n\\n  if (condition.type === \\'CATEGORICAL_SET_CONTAINS\\') {\\n    display_node_text_with_tooltip(\\n        options, `${condition.attribute} intersect [...]`,\\n        `${condition.attribute} intersect [${condition.mask}]`, output);\\n    return;\\n  }\\n\\n  if (condition.type === \\'NUMERICAL_SPARSE_OBLIQUE\\') {\\n    display_node_text_with_tooltip(\\n        options, `Sparse oblique split...`,\\n        `[${condition.attributes}]*[${condition.weights}]>=${\\n            threshold_format(condition.threshold)}`,\\n        output);\\n    return;\\n  }\\n\\n  display_node_text(\\n      options, `Non supported condition ${condition.type}`, output);\\n}\\n\\n/**\\n * Adds a value inside of a node.\\n * @param {!options} options Dictionary of configurations.\\n * @param {!value} value Value to display.\\n * @param {!output} output Output display accumulator.\\n */\\nfunction display_value(options, value, output) {\\n  if (value.type === \\'PROBABILITY\\') {\\n    const left_margin = 0;\\n    const right_margin = 50;\\n    const plot_width = options.node_x_size - options.node_padding * 2 -\\n        left_margin - right_margin;\\n\\n    let cusum = Array.from(d3.cumsum(value.distribution));\\n    cusum.unshift(0);\\n    const distribution_plot = output.content.append(\\'g\\').attr(\\n        \\'transform\\', `translate(0,${output.vertical_offset + 0.5})`);\\n\\n    distribution_plot.selectAll(\\'rect\\')\\n        .data(value.distribution)\\n        .join(\\'rect\\')\\n        .attr(\\'height\\', 10)\\n        .attr(\\n            \\'x\\',\\n            (d, i) =>\\n                (cusum[i] * plot_width + left_margin + options.node_padding))\\n        .attr(\\'width\\', (d, i) => d * plot_width)\\n        .style(\\'fill\\', (d, i) => d3.schemeSet1[i]);\\n\\n    const num_examples =\\n        output.content.append(\\'g\\')\\n            .attr(\\'transform\\', `translate(0,${output.vertical_offset})`)\\n            .append(\\'text\\')\\n            .attr(\\'x\\', options.node_x_size - options.node_padding)\\n            .attr(\\'alignment-baseline\\', \\'hanging\\')\\n            .attr(\\'text-anchor\\', \\'end\\')\\n            .text(`(${value.num_examples})`);\\n\\n    const distribution_details = d3.create(\\'ul\\');\\n    distribution_details.selectAll(\\'li\\')\\n        .data(value.distribution)\\n        .join(\\'li\\')\\n        .append(\\'span\\')\\n        .text(\\n            (d, i) =>\\n                \\'class \\' + i + \\': \\' + d3.format(\\'.3%\\')(value.distribution[i]));\\n\\n    add_tooltip(options, distribution_plot, () => distribution_details.html());\\n    add_tooltip(options, num_examples, () => \\'Number of examples\\');\\n\\n    output.vertical_offset += 10;\\n    return;\\n  }\\n\\n  if (value.type === \\'REGRESSION\\') {\\n    display_node_text(\\n        options,\\n        \\'value: \\' + d3.format(\\'r\\')(value.value) + ` (` +\\n            d3.format(\\'.6\\')(value.num_examples) + `)`,\\n        output);\\n    return;\\n  }\\n\\n  display_node_text(options, `Non supported value ${value.type}`, output);\\n}\\n\\n/**\\n * Adds an explanation inside of a node.\\n * @param {!options} options Dictionary of configurations.\\n * @param {!explanation} explanation Explanation to display.\\n * @param {!output} output Output display accumulator.\\n */\\nfunction display_explanation(options, explanation, output) {\\n  // Margin before the explanation.\\n  output.vertical_offset += 10;\\n\\n  display_node_text(\\n      options, `Non supported explanation ${explanation.type}`, output);\\n}\\n\\n\\n/**\\n * Draw the edges of the tree.\\n * @param {!options} options Dictionary of configurations.\\n * @param {!graph} graph D3 search handle containing the graph.\\n * @param {!tree_struct} tree_struct Structure of the tree (node placement,\\n *     data, etc.).\\n */\\nfunction display_edges(options, graph, tree_struct) {\\n  // Draw an edge between a parent and a child node with a bezier.\\n  function draw_single_edge(d) {\\n    return \\'M\\' + (d.source.y + options.node_x_size) + \\',\\' + d.source.x + \\' C\\' +\\n        (d.source.y + options.node_x_size + options.edge_rounding) + \\',\\' +\\n        d.source.x + \\' \\' + (d.target.y - options.edge_rounding) + \\',\\' +\\n        d.target.x + \\' \\' + d.target.y + \\',\\' + d.target.x;\\n  }\\n\\n  graph.append(\\'g\\')\\n      .attr(\\'fill\\', \\'none\\')\\n      .attr(\\'stroke-width\\', 1.2)\\n      .selectAll(\\'path\\')\\n      .data(tree_struct.links())\\n      .join(\\'path\\')\\n      .attr(\\'d\\', draw_single_edge)\\n      .attr(\\n          \\'stroke\\', d => (d.target === d.source.children[0]) ? \\'#0F0\\' : \\'#F00\\');\\n}\\n\\ndisplay_tree({\"margin\": 10, \"node_x_size\": 160, \"node_y_size\": 28, \"node_x_offset\": 180, \"node_y_offset\": 33, \"font_size\": 10, \"edge_rounding\": 20, \"node_padding\": 2, \"show_plot_bounding_box\": false}, {\"value\": {\"type\": \"PROBABILITY\", \"distribution\": [0.9889588204581053, 0.011041179541894623], \"num_examples\": 704816.0}, \"condition\": {\"type\": \"NUMERICAL_IS_HIGHER_THAN\", \"attribute\": \"fwd_iat_mean\", \"threshold\": 1507806.125}, \"children\": [{\"value\": {\"type\": \"PROBABILITY\", \"distribution\": [0.9403438858065514, 0.05965611419344865], \"num_examples\": 116434.0}, \"condition\": {\"type\": \"NUMERICAL_IS_HIGHER_THAN\", \"attribute\": \"bwd_iat_mean\", \"threshold\": 30996168.0}, \"children\": [{\"value\": {\"type\": \"PROBABILITY\", \"distribution\": [0.30277098614506925, 0.6972290138549307], \"num_examples\": 7362.0}, \"condition\": {\"type\": \"NUMERICAL_IS_HIGHER_THAN\", \"attribute\": \"fwd_iat_mean\", \"threshold\": 9413768.0}, \"children\": [{\"value\": {\"type\": \"PROBABILITY\", \"distribution\": [0.5436110432445639, 0.4563889567554361], \"num_examples\": 4093.0}, \"condition\": {\"type\": \"NUMERICAL_IS_HIGHER_THAN\", \"attribute\": \"fwd_iat_mean\", \"threshold\": 99907888.0}}, {\"value\": {\"type\": \"PROBABILITY\", \"distribution\": [0.001223615784643622, 0.9987763842153564], \"num_examples\": 3269.0}, \"condition\": {\"type\": \"NUMERICAL_IS_HIGHER_THAN\", \"attribute\": \"fwd_iat_min\", \"threshold\": 1451.5}}]}, {\"value\": {\"type\": \"PROBABILITY\", \"distribution\": [0.9833779521783775, 0.016622047821622413], \"num_examples\": 109072.0}, \"condition\": {\"type\": \"NUMERICAL_IS_HIGHER_THAN\", \"attribute\": \"flow_duration\", \"threshold\": 3326373.0}, \"children\": [{\"value\": {\"type\": \"PROBABILITY\", \"distribution\": [0.9978749297884292, 0.002125070211570867], \"num_examples\": 106820.0}, \"condition\": {\"type\": \"NUMERICAL_IS_HIGHER_THAN\", \"attribute\": \"fwd_iat_mean\", \"threshold\": 81446072.0}}, {\"value\": {\"type\": \"PROBABILITY\", \"distribution\": [0.29573712255772644, 0.7042628774422736], \"num_examples\": 2252.0}, \"condition\": {\"type\": \"NUMERICAL_IS_HIGHER_THAN\", \"attribute\": \"fwd_iat_mean\", \"threshold\": 1545693.0}}]}]}, {\"value\": {\"type\": \"PROBABILITY\", \"distribution\": [0.9985791543589029, 0.0014208456410971103], \"num_examples\": 588382.0}, \"condition\": {\"type\": \"NUMERICAL_IS_HIGHER_THAN\", \"attribute\": \"flow_duration\", \"threshold\": 13.5}, \"children\": [{\"value\": {\"type\": \"PROBABILITY\", \"distribution\": [0.9996047633079194, 0.0003952366920806212], \"num_examples\": 566749.0}, \"condition\": {\"type\": \"NUMERICAL_IS_HIGHER_THAN\", \"attribute\": \"flow_duration\", \"threshold\": 375.5}, \"children\": [{\"value\": {\"type\": \"PROBABILITY\", \"distribution\": [0.9998112604895613, 0.00018873951043874677], \"num_examples\": 413268.0}, \"condition\": {\"type\": \"NUMERICAL_IS_HIGHER_THAN\", \"attribute\": \"bwd_iat_mean\", \"threshold\": 1652.166748046875}}, {\"value\": {\"type\": \"PROBABILITY\", \"distribution\": [0.999048742189587, 0.0009512578104130153], \"num_examples\": 153481.0}, \"condition\": {\"type\": \"NUMERICAL_IS_HIGHER_THAN\", \"attribute\": \"bwd_iat_mean\", \"threshold\": 6.5}}]}, {\"value\": {\"type\": \"PROBABILITY\", \"distribution\": [0.9717098876716128, 0.028290112328387185], \"num_examples\": 21633.0}, \"condition\": {\"type\": \"NUMERICAL_IS_HIGHER_THAN\", \"attribute\": \"flow_duration\", \"threshold\": 1.5}, \"children\": [{\"value\": {\"type\": \"PROBABILITY\", \"distribution\": [0.9113338473400154, 0.08866615265998458], \"num_examples\": 6485.0}, \"condition\": {\"type\": \"NUMERICAL_IS_HIGHER_THAN\", \"attribute\": \"fwd_iat_mean\", \"threshold\": 0.3333333432674408}}, {\"value\": {\"type\": \"PROBABILITY\", \"distribution\": [0.9975574333245313, 0.002442566675468709], \"num_examples\": 15148.0}, \"condition\": {\"type\": \"NUMERICAL_IS_HIGHER_THAN\", \"attribute\": \"fwd_iat_mean\", \"threshold\": 0.1666666716337204}}]}]}]}, \"#tree_plot_ea6f1b92cb37443181f142e5b217741f\")\\n</script>\\n'"
      ]
     },
     "metadata": {},
     "execution_count": 13
    }
   ],
   "source": [
    "# Plotten des ersten Baumes innerhalb des Decision Forests\n",
    "with open('../Data/Models/Slowloris_Model_Tree.html', 'w') as f:\n",
    "    f.write(tfdf.model_plotter.plot_model(model, tree_idx=0, max_depth=3))\n",
    "tfdf.model_plotter.plot_model(model, tree_idx=0, max_depth=3)\n"
   ]
  },
  {
   "cell_type": "code",
   "execution_count": 14,
   "metadata": {},
   "outputs": [
    {
     "output_type": "stream",
     "name": "stdout",
     "text": [
      "Model: \"random_forest_model\"\n_________________________________________________________________\nLayer (type)                 Output Shape              Param #   \n=================================================================\nTotal params: 1\nTrainable params: 0\nNon-trainable params: 1\n_________________________________________________________________\nType: \"RANDOM_FOREST\"\nTask: CLASSIFICATION\nLabel: \"__LABEL\"\n\nInput Features (4):\n\tbwd_iat_mean\n\tflow_duration\n\tfwd_iat_mean\n\tfwd_iat_min\n\nNo weights\n\nVariable Importance: NUM_NODES:\n    1. \"flow_duration\" 25092.000000 ################\n    2.   \"fwd_iat_min\" 16146.000000 #######\n    3.  \"fwd_iat_mean\" 14295.000000 ######\n    4.  \"bwd_iat_mean\" 7499.000000 \n\nVariable Importance: NUM_AS_ROOT:\n    1. \"bwd_iat_mean\" 218.000000 ################\n    2. \"fwd_iat_mean\" 82.000000 \n\nVariable Importance: SUM_SCORE:\n    1.  \"bwd_iat_mean\" 5916024.094757 ################\n    2. \"flow_duration\" 2465383.017270 ##\n    3.  \"fwd_iat_mean\" 2156747.636929 #\n    4.   \"fwd_iat_min\" 1899007.519354 \n\nVariable Importance: MEAN_MIN_DEPTH:\n    1.       \"__LABEL\" 10.116379 ################\n    2.   \"fwd_iat_min\"  3.357374 ####\n    3.  \"fwd_iat_mean\"  3.066120 ###\n    4. \"flow_duration\"  2.639148 ###\n    5.  \"bwd_iat_mean\"  0.886922 \n\n\n\nWinner take all: true\nOut-of-bag evaluation: accuracy:0.999451 logloss:0.0124472\nNumber of trees: 300\nTotal number of nodes: 126364\n\nNumber of nodes by tree:\nCount: 300 Average: 421.213 StdDev: 20.5688\nMin: 369 Max: 499 Ignored: 0\n----------------------------------------------\n[ 369, 375)  5   1.67%   1.67% #\n[ 375, 382)  8   2.67%   4.33% #\n[ 382, 388)  4   1.33%   5.67% #\n[ 388, 395) 13   4.33%  10.00% ##\n[ 395, 401) 14   4.67%  14.67% ###\n[ 401, 408) 26   8.67%  23.33% #####\n[ 408, 414) 31  10.33%  33.67% ######\n[ 414, 421) 41  13.67%  47.33% #######\n[ 421, 427) 28   9.33%  56.67% #####\n[ 427, 434) 55  18.33%  75.00% ##########\n[ 434, 441) 30  10.00%  85.00% #####\n[ 441, 447) 13   4.33%  89.33% ##\n[ 447, 454) 20   6.67%  96.00% ####\n[ 454, 460)  2   0.67%  96.67%\n[ 460, 467)  4   1.33%  98.00% #\n[ 467, 473)  3   1.00%  99.00% #\n[ 473, 480)  2   0.67%  99.67%\n[ 480, 486)  0   0.00%  99.67%\n[ 486, 493)  0   0.00%  99.67%\n[ 493, 499]  1   0.33% 100.00%\n\nDepth by leafs:\nCount: 63332 Average: 10.1145 StdDev: 2.76501\nMin: 2 Max: 15 Ignored: 0\n----------------------------------------------\n[  2,  3)    4   0.01%   0.01%\n[  3,  4)  160   0.25%   0.26%\n[  4,  5)  924   1.46%   1.72% #\n[  5,  6) 2349   3.71%   5.43% ###\n[  6,  7) 3599   5.68%  11.11% ####\n[  7,  8) 4534   7.16%  18.27% #####\n[  8,  9) 6315   9.97%  28.24% #######\n[  9, 10) 8463  13.36%  41.60% ##########\n[ 10, 11) 8636  13.64%  55.24% ##########\n[ 11, 12) 7846  12.39%  67.63% #########\n[ 12, 13) 6951  10.98%  78.60% ########\n[ 13, 14) 5434   8.58%  87.18% ######\n[ 14, 15) 3851   6.08%  93.26% ####\n[ 15, 15] 4266   6.74% 100.00% #####\n\nNumber of training obs by leaf:\nCount: 63332 Average: 3338.67 StdDev: 19803.2\nMin: 5 Max: 312528 Ignored: 0\n----------------------------------------------\n[      5,  15631) 61159  96.57%  96.57% ##########\n[  15631,  31257)   692   1.09%  97.66%\n[  31257,  46883)   338   0.53%  98.20%\n[  46883,  62509)   233   0.37%  98.56%\n[  62509,  78136)    61   0.10%  98.66%\n[  78136,  93762)   213   0.34%  99.00%\n[  93762, 109388)    62   0.10%  99.09%\n[ 109388, 125014)    65   0.10%  99.20%\n[ 125014, 140640)    63   0.10%  99.30%\n[ 140640, 156267)   123   0.19%  99.49%\n[ 156267, 171893)    33   0.05%  99.54%\n[ 171893, 187519)    21   0.03%  99.58%\n[ 187519, 203145)    26   0.04%  99.62%\n[ 203145, 218771)    68   0.11%  99.72%\n[ 218771, 234398)    78   0.12%  99.85%\n[ 234398, 250024)    43   0.07%  99.91%\n[ 250024, 265650)     8   0.01%  99.93%\n[ 265650, 281276)    17   0.03%  99.95%\n[ 281276, 296902)    17   0.03%  99.98%\n[ 296902, 312528]    12   0.02% 100.00%\n\nAttribute in nodes:\n\t25092 : flow_duration [NUMERICAL]\n\t16146 : fwd_iat_min [NUMERICAL]\n\t14295 : fwd_iat_mean [NUMERICAL]\n\t7499 : bwd_iat_mean [NUMERICAL]\n\nAttribute in nodes with depth <= 0:\n\t218 : bwd_iat_mean [NUMERICAL]\n\t82 : fwd_iat_mean [NUMERICAL]\n\nAttribute in nodes with depth <= 1:\n\t285 : bwd_iat_mean [NUMERICAL]\n\t232 : fwd_iat_min [NUMERICAL]\n\t218 : flow_duration [NUMERICAL]\n\t165 : fwd_iat_mean [NUMERICAL]\n\nAttribute in nodes with depth <= 2:\n\t641 : flow_duration [NUMERICAL]\n\t545 : bwd_iat_mean [NUMERICAL]\n\t495 : fwd_iat_min [NUMERICAL]\n\t415 : fwd_iat_mean [NUMERICAL]\n\nAttribute in nodes with depth <= 3:\n\t1193 : flow_duration [NUMERICAL]\n\t1188 : fwd_iat_min [NUMERICAL]\n\t983 : bwd_iat_mean [NUMERICAL]\n\t964 : fwd_iat_mean [NUMERICAL]\n\nAttribute in nodes with depth <= 5:\n\t4124 : flow_duration [NUMERICAL]\n\t3289 : fwd_iat_min [NUMERICAL]\n\t2888 : fwd_iat_mean [NUMERICAL]\n\t2298 : bwd_iat_mean [NUMERICAL]\n\nCondition type in nodes:\n\t63032 : HigherCondition\nCondition type in nodes with depth <= 0:\n\t300 : HigherCondition\nCondition type in nodes with depth <= 1:\n\t900 : HigherCondition\nCondition type in nodes with depth <= 2:\n\t2096 : HigherCondition\nCondition type in nodes with depth <= 3:\n\t4328 : HigherCondition\nCondition type in nodes with depth <= 5:\n\t12599 : HigherCondition\nNode format: NOT_SET\n\nTraining OOB:\n\ttrees: 1, Out-of-bag evaluation: accuracy:0.999326 logloss:0.0242916\n\ttrees: 11, Out-of-bag evaluation: accuracy:0.999397 logloss:0.0166246\n\ttrees: 21, Out-of-bag evaluation: accuracy:0.99942 logloss:0.0148823\n\ttrees: 31, Out-of-bag evaluation: accuracy:0.999424 logloss:0.0141646\n\ttrees: 41, Out-of-bag evaluation: accuracy:0.999428 logloss:0.0137426\n\ttrees: 51, Out-of-bag evaluation: accuracy:0.999444 logloss:0.0135101\n\ttrees: 61, Out-of-bag evaluation: accuracy:0.999444 logloss:0.0132754\n\ttrees: 71, Out-of-bag evaluation: accuracy:0.999445 logloss:0.0131358\n\ttrees: 81, Out-of-bag evaluation: accuracy:0.999448 logloss:0.013042\n\ttrees: 91, Out-of-bag evaluation: accuracy:0.999445 logloss:0.0129979\n\ttrees: 101, Out-of-bag evaluation: accuracy:0.999447 logloss:0.0128564\n\ttrees: 111, Out-of-bag evaluation: accuracy:0.999447 logloss:0.0128062\n\ttrees: 121, Out-of-bag evaluation: accuracy:0.999445 logloss:0.0127567\n\ttrees: 131, Out-of-bag evaluation: accuracy:0.999447 logloss:0.0127154\n\ttrees: 141, Out-of-bag evaluation: accuracy:0.999449 logloss:0.0127168\n\ttrees: 151, Out-of-bag evaluation: accuracy:0.999451 logloss:0.0126243\n\ttrees: 161, Out-of-bag evaluation: accuracy:0.999448 logloss:0.0125751\n\ttrees: 171, Out-of-bag evaluation: accuracy:0.999445 logloss:0.012576\n\ttrees: 181, Out-of-bag evaluation: accuracy:0.999448 logloss:0.0125753\n\ttrees: 191, Out-of-bag evaluation: accuracy:0.999452 logloss:0.0125782\n\ttrees: 201, Out-of-bag evaluation: accuracy:0.999448 logloss:0.012579\n\ttrees: 211, Out-of-bag evaluation: accuracy:0.999449 logloss:0.0125325\n\ttrees: 221, Out-of-bag evaluation: accuracy:0.999454 logloss:0.0124888\n\ttrees: 231, Out-of-bag evaluation: accuracy:0.999451 logloss:0.0124894\n\ttrees: 241, Out-of-bag evaluation: accuracy:0.999452 logloss:0.0124883\n\ttrees: 251, Out-of-bag evaluation: accuracy:0.999452 logloss:0.0124912\n\ttrees: 261, Out-of-bag evaluation: accuracy:0.999451 logloss:0.0124918\n\ttrees: 271, Out-of-bag evaluation: accuracy:0.999448 logloss:0.0124908\n\ttrees: 281, Out-of-bag evaluation: accuracy:0.999451 logloss:0.0124922\n\ttrees: 291, Out-of-bag evaluation: accuracy:0.999452 logloss:0.012446\n\ttrees: 300, Out-of-bag evaluation: accuracy:0.999451 logloss:0.0124472\n\n"
     ]
    }
   ],
   "source": [
    "# Erstellen einer Bilanz für das trainierte Modell\n",
    "model.summary()"
   ]
  },
  {
   "cell_type": "code",
   "execution_count": 15,
   "metadata": {},
   "outputs": [
    {
     "output_type": "display_data",
     "data": {
      "text/plain": "<Figure size 864x288 with 0 Axes>"
     },
     "metadata": {}
    }
   ],
   "source": [
    "# Erstellen von Grafiken für die Effizienz des Trainings\n",
    "logs = model.make_inspector().training_logs()\n",
    "plt.figure(figsize=(12,4))\n",
    "\n",
    "plt.subplot(1,2,1)\n",
    "plt.plot([log.num_trees for log in logs], [log.evaluation.accuracy for log in logs])\n",
    "plt.xlabel(\"Number of trees\")\n",
    "plt.ylabel(\"Accuracy (out-of-bag)\")\n",
    "\n",
    "plt.subplot(1,2,2)\n",
    "plt.plot([log.num_trees for log in logs], [log.evaluation.loss for log in logs])\n",
    "plt.xlabel(\"Number of trees\")\n",
    "plt.ylabel(\"Logloss (out-of-bag)\")\n",
    "\n",
    "plt.savefig('../Data/Visualized/Slowloris_Model.png')\n",
    "plt.clf()"
   ]
  }
 ]
}