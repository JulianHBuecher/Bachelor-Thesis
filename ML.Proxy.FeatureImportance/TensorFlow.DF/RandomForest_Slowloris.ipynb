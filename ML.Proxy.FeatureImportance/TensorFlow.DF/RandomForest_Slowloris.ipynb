{
 "metadata": {
  "language_info": {
   "codemirror_mode": {
    "name": "ipython",
    "version": 3
   },
   "file_extension": ".py",
   "mimetype": "text/x-python",
   "name": "python",
   "nbconvert_exporter": "python",
   "pygments_lexer": "ipython3",
   "version": "3.8.5"
  },
  "orig_nbformat": 4,
  "kernelspec": {
   "name": "python3",
   "display_name": "Python 3.8.5 64-bit"
  },
  "interpreter": {
   "hash": "31f2aee4e71d21fbe5cf8b01ff0e069b9275f58929596ceb00d14d90e3e16cd6"
  }
 },
 "nbformat": 4,
 "nbformat_minor": 2,
 "cells": [
  {
   "cell_type": "code",
   "execution_count": 11,
   "metadata": {},
   "outputs": [],
   "source": [
    "\n",
    "###############################################################################\n",
    "# Random Forest Classification Model (TensorFlow)                             #\n",
    "# For Slowloris Dataset                                                       #\n",
    "# Based on the Implementation of:                                             #\n",
    "# https://www.tensorflow.org/decision_forests/tutorials/beginner_colab        #\n",
    "###############################################################################\n"
   ]
  },
  {
   "cell_type": "code",
   "execution_count": 12,
   "metadata": {},
   "outputs": [
    {
     "output_type": "stream",
     "name": "stdout",
     "text": [
      "Requirement already satisfied: pandas in /home/julianbuecher/Projects/Bachelor-Thesis/ML.Proxy.FeatureImportance/lib/python3.8/site-packages (1.2.5)\n",
      "Requirement already satisfied: pytz>=2017.3 in /home/julianbuecher/Projects/Bachelor-Thesis/ML.Proxy.FeatureImportance/lib/python3.8/site-packages (from pandas) (2021.1)\n",
      "Requirement already satisfied: python-dateutil>=2.7.3 in /home/julianbuecher/Projects/Bachelor-Thesis/ML.Proxy.FeatureImportance/lib/python3.8/site-packages (from pandas) (2.8.1)\n",
      "Requirement already satisfied: numpy>=1.16.5 in /home/julianbuecher/Projects/Bachelor-Thesis/ML.Proxy.FeatureImportance/lib/python3.8/site-packages (from pandas) (1.19.2)\n",
      "Requirement already satisfied: six>=1.5 in /home/julianbuecher/Projects/Bachelor-Thesis/ML.Proxy.FeatureImportance/lib/python3.8/site-packages (from python-dateutil>=2.7.3->pandas) (1.15.0)\n",
      "Requirement already satisfied: tensorflow_decision_forests in /home/julianbuecher/Projects/Bachelor-Thesis/ML.Proxy.FeatureImportance/lib/python3.8/site-packages (0.1.7)\n",
      "Requirement already satisfied: numpy in /home/julianbuecher/Projects/Bachelor-Thesis/ML.Proxy.FeatureImportance/lib/python3.8/site-packages (from tensorflow_decision_forests) (1.19.2)\n",
      "Requirement already satisfied: absl-py in /home/julianbuecher/Projects/Bachelor-Thesis/ML.Proxy.FeatureImportance/lib/python3.8/site-packages (from tensorflow_decision_forests) (0.13.0)\n",
      "Requirement already satisfied: wheel in /home/julianbuecher/Projects/Bachelor-Thesis/ML.Proxy.FeatureImportance/lib/python3.8/site-packages (from tensorflow_decision_forests) (0.35.0)\n",
      "Requirement already satisfied: tensorflow~=2.5 in /home/julianbuecher/Projects/Bachelor-Thesis/ML.Proxy.FeatureImportance/lib/python3.8/site-packages (from tensorflow_decision_forests) (2.5.0)\n",
      "Requirement already satisfied: six in /home/julianbuecher/Projects/Bachelor-Thesis/ML.Proxy.FeatureImportance/lib/python3.8/site-packages (from tensorflow_decision_forests) (1.15.0)\n",
      "Requirement already satisfied: pandas in /home/julianbuecher/Projects/Bachelor-Thesis/ML.Proxy.FeatureImportance/lib/python3.8/site-packages (from tensorflow_decision_forests) (1.2.5)\n",
      "Requirement already satisfied: packaging>=20.2 in /home/julianbuecher/Projects/Bachelor-Thesis/ML.Proxy.FeatureImportance/lib/python3.8/site-packages (from wheel->tensorflow_decision_forests) (20.9)\n",
      "Requirement already satisfied: typing-extensions~=3.7.4 in /home/julianbuecher/Projects/Bachelor-Thesis/ML.Proxy.FeatureImportance/lib/python3.8/site-packages (from tensorflow~=2.5->tensorflow_decision_forests) (3.7.4.3)\n",
      "Requirement already satisfied: astunparse~=1.6.3 in /home/julianbuecher/Projects/Bachelor-Thesis/ML.Proxy.FeatureImportance/lib/python3.8/site-packages (from tensorflow~=2.5->tensorflow_decision_forests) (1.6.3)\n",
      "Requirement already satisfied: protobuf>=3.9.2 in /home/julianbuecher/Projects/Bachelor-Thesis/ML.Proxy.FeatureImportance/lib/python3.8/site-packages (from tensorflow~=2.5->tensorflow_decision_forests) (3.17.3)\n",
      "Requirement already satisfied: flatbuffers~=1.12.0 in /home/julianbuecher/Projects/Bachelor-Thesis/ML.Proxy.FeatureImportance/lib/python3.8/site-packages (from tensorflow~=2.5->tensorflow_decision_forests) (1.12)\n",
      "Requirement already satisfied: grpcio~=1.34.0 in /home/julianbuecher/Projects/Bachelor-Thesis/ML.Proxy.FeatureImportance/lib/python3.8/site-packages (from tensorflow~=2.5->tensorflow_decision_forests) (1.34.1)\n",
      "Requirement already satisfied: keras-nightly~=2.5.0.dev in /home/julianbuecher/Projects/Bachelor-Thesis/ML.Proxy.FeatureImportance/lib/python3.8/site-packages (from tensorflow~=2.5->tensorflow_decision_forests) (2.5.0.dev2021032900)\n",
      "Requirement already satisfied: tensorflow-estimator<2.6.0,>=2.5.0rc0 in /home/julianbuecher/Projects/Bachelor-Thesis/ML.Proxy.FeatureImportance/lib/python3.8/site-packages (from tensorflow~=2.5->tensorflow_decision_forests) (2.5.0)\n",
      "Requirement already satisfied: opt-einsum~=3.3.0 in /home/julianbuecher/Projects/Bachelor-Thesis/ML.Proxy.FeatureImportance/lib/python3.8/site-packages (from tensorflow~=2.5->tensorflow_decision_forests) (3.3.0)\n",
      "Requirement already satisfied: google-pasta~=0.2 in /home/julianbuecher/Projects/Bachelor-Thesis/ML.Proxy.FeatureImportance/lib/python3.8/site-packages (from tensorflow~=2.5->tensorflow_decision_forests) (0.2.0)\n",
      "Requirement already satisfied: keras-preprocessing~=1.1.2 in /home/julianbuecher/Projects/Bachelor-Thesis/ML.Proxy.FeatureImportance/lib/python3.8/site-packages (from tensorflow~=2.5->tensorflow_decision_forests) (1.1.2)\n",
      "Requirement already satisfied: wrapt~=1.12.1 in /home/julianbuecher/Projects/Bachelor-Thesis/ML.Proxy.FeatureImportance/lib/python3.8/site-packages (from tensorflow~=2.5->tensorflow_decision_forests) (1.12.1)\n",
      "Requirement already satisfied: gast==0.4.0 in /home/julianbuecher/Projects/Bachelor-Thesis/ML.Proxy.FeatureImportance/lib/python3.8/site-packages (from tensorflow~=2.5->tensorflow_decision_forests) (0.4.0)\n",
      "Requirement already satisfied: tensorboard~=2.5 in /home/julianbuecher/Projects/Bachelor-Thesis/ML.Proxy.FeatureImportance/lib/python3.8/site-packages (from tensorflow~=2.5->tensorflow_decision_forests) (2.5.0)\n",
      "Requirement already satisfied: termcolor~=1.1.0 in /home/julianbuecher/Projects/Bachelor-Thesis/ML.Proxy.FeatureImportance/lib/python3.8/site-packages (from tensorflow~=2.5->tensorflow_decision_forests) (1.1.0)\n",
      "Requirement already satisfied: h5py~=3.1.0 in /home/julianbuecher/Projects/Bachelor-Thesis/ML.Proxy.FeatureImportance/lib/python3.8/site-packages (from tensorflow~=2.5->tensorflow_decision_forests) (3.1.0)\n",
      "Requirement already satisfied: python-dateutil>=2.7.3 in /home/julianbuecher/Projects/Bachelor-Thesis/ML.Proxy.FeatureImportance/lib/python3.8/site-packages (from pandas->tensorflow_decision_forests) (2.8.1)\n",
      "Requirement already satisfied: pytz>=2017.3 in /home/julianbuecher/Projects/Bachelor-Thesis/ML.Proxy.FeatureImportance/lib/python3.8/site-packages (from pandas->tensorflow_decision_forests) (2021.1)\n",
      "Requirement already satisfied: pyparsing>=2.0.2 in /home/julianbuecher/Projects/Bachelor-Thesis/ML.Proxy.FeatureImportance/lib/python3.8/site-packages (from packaging>=20.2->wheel->tensorflow_decision_forests) (2.4.7)\n",
      "Requirement already satisfied: google-auth-oauthlib<0.5,>=0.4.1 in /home/julianbuecher/Projects/Bachelor-Thesis/ML.Proxy.FeatureImportance/lib/python3.8/site-packages (from tensorboard~=2.5->tensorflow~=2.5->tensorflow_decision_forests) (0.4.4)\n",
      "Requirement already satisfied: tensorboard-data-server<0.7.0,>=0.6.0 in /home/julianbuecher/Projects/Bachelor-Thesis/ML.Proxy.FeatureImportance/lib/python3.8/site-packages (from tensorboard~=2.5->tensorflow~=2.5->tensorflow_decision_forests) (0.6.1)\n",
      "Requirement already satisfied: markdown>=2.6.8 in /home/julianbuecher/Projects/Bachelor-Thesis/ML.Proxy.FeatureImportance/lib/python3.8/site-packages (from tensorboard~=2.5->tensorflow~=2.5->tensorflow_decision_forests) (3.3.4)\n",
      "Requirement already satisfied: werkzeug>=0.11.15 in /home/julianbuecher/Projects/Bachelor-Thesis/ML.Proxy.FeatureImportance/lib/python3.8/site-packages (from tensorboard~=2.5->tensorflow~=2.5->tensorflow_decision_forests) (2.0.1)\n",
      "Requirement already satisfied: google-auth<2,>=1.6.3 in /home/julianbuecher/Projects/Bachelor-Thesis/ML.Proxy.FeatureImportance/lib/python3.8/site-packages (from tensorboard~=2.5->tensorflow~=2.5->tensorflow_decision_forests) (1.32.0)\n",
      "Requirement already satisfied: requests<3,>=2.21.0 in /home/julianbuecher/Projects/Bachelor-Thesis/ML.Proxy.FeatureImportance/lib/python3.8/site-packages (from tensorboard~=2.5->tensorflow~=2.5->tensorflow_decision_forests) (2.25.1)\n",
      "Requirement already satisfied: setuptools>=41.0.0 in /home/julianbuecher/Projects/Bachelor-Thesis/ML.Proxy.FeatureImportance/lib/python3.8/site-packages (from tensorboard~=2.5->tensorflow~=2.5->tensorflow_decision_forests) (44.0.0)\n",
      "Requirement already satisfied: tensorboard-plugin-wit>=1.6.0 in /home/julianbuecher/Projects/Bachelor-Thesis/ML.Proxy.FeatureImportance/lib/python3.8/site-packages (from tensorboard~=2.5->tensorflow~=2.5->tensorflow_decision_forests) (1.8.0)\n",
      "Requirement already satisfied: requests-oauthlib>=0.7.0 in /home/julianbuecher/Projects/Bachelor-Thesis/ML.Proxy.FeatureImportance/lib/python3.8/site-packages (from google-auth-oauthlib<0.5,>=0.4.1->tensorboard~=2.5->tensorflow~=2.5->tensorflow_decision_forests) (1.3.0)\n",
      "Requirement already satisfied: rsa<5,>=3.1.4; python_version >= \"3.6\" in /home/julianbuecher/Projects/Bachelor-Thesis/ML.Proxy.FeatureImportance/lib/python3.8/site-packages (from google-auth<2,>=1.6.3->tensorboard~=2.5->tensorflow~=2.5->tensorflow_decision_forests) (4.7.2)\n",
      "Requirement already satisfied: cachetools<5.0,>=2.0.0 in /home/julianbuecher/Projects/Bachelor-Thesis/ML.Proxy.FeatureImportance/lib/python3.8/site-packages (from google-auth<2,>=1.6.3->tensorboard~=2.5->tensorflow~=2.5->tensorflow_decision_forests) (4.2.2)\n",
      "Requirement already satisfied: pyasn1-modules>=0.2.1 in /home/julianbuecher/Projects/Bachelor-Thesis/ML.Proxy.FeatureImportance/lib/python3.8/site-packages (from google-auth<2,>=1.6.3->tensorboard~=2.5->tensorflow~=2.5->tensorflow_decision_forests) (0.2.8)\n",
      "Requirement already satisfied: idna<3,>=2.5 in /home/julianbuecher/Projects/Bachelor-Thesis/ML.Proxy.FeatureImportance/lib/python3.8/site-packages (from requests<3,>=2.21.0->tensorboard~=2.5->tensorflow~=2.5->tensorflow_decision_forests) (2.10)\n",
      "Requirement already satisfied: certifi>=2017.4.17 in /home/julianbuecher/Projects/Bachelor-Thesis/ML.Proxy.FeatureImportance/lib/python3.8/site-packages (from requests<3,>=2.21.0->tensorboard~=2.5->tensorflow~=2.5->tensorflow_decision_forests) (2021.5.30)\n",
      "Requirement already satisfied: chardet<5,>=3.0.2 in /home/julianbuecher/Projects/Bachelor-Thesis/ML.Proxy.FeatureImportance/lib/python3.8/site-packages (from requests<3,>=2.21.0->tensorboard~=2.5->tensorflow~=2.5->tensorflow_decision_forests) (4.0.0)\n",
      "Requirement already satisfied: urllib3<1.27,>=1.21.1 in /home/julianbuecher/Projects/Bachelor-Thesis/ML.Proxy.FeatureImportance/lib/python3.8/site-packages (from requests<3,>=2.21.0->tensorboard~=2.5->tensorflow~=2.5->tensorflow_decision_forests) (1.26.6)\n",
      "Requirement already satisfied: oauthlib>=3.0.0 in /home/julianbuecher/Projects/Bachelor-Thesis/ML.Proxy.FeatureImportance/lib/python3.8/site-packages (from requests-oauthlib>=0.7.0->google-auth-oauthlib<0.5,>=0.4.1->tensorboard~=2.5->tensorflow~=2.5->tensorflow_decision_forests) (3.1.1)\n",
      "Requirement already satisfied: pyasn1>=0.1.3 in /home/julianbuecher/Projects/Bachelor-Thesis/ML.Proxy.FeatureImportance/lib/python3.8/site-packages (from rsa<5,>=3.1.4; python_version >= \"3.6\"->google-auth<2,>=1.6.3->tensorboard~=2.5->tensorflow~=2.5->tensorflow_decision_forests) (0.4.8)\n",
      "Requirement already satisfied: wurlitzer in /home/julianbuecher/Projects/Bachelor-Thesis/ML.Proxy.FeatureImportance/lib/python3.8/site-packages (2.1.0)\n",
      "Requirement already satisfied: matplotlib in /home/julianbuecher/Projects/Bachelor-Thesis/ML.Proxy.FeatureImportance/lib/python3.8/site-packages (3.4.2)\n",
      "Requirement already satisfied: pillow>=6.2.0 in /home/julianbuecher/Projects/Bachelor-Thesis/ML.Proxy.FeatureImportance/lib/python3.8/site-packages (from matplotlib) (8.2.0)\n",
      "Requirement already satisfied: numpy>=1.16 in /home/julianbuecher/Projects/Bachelor-Thesis/ML.Proxy.FeatureImportance/lib/python3.8/site-packages (from matplotlib) (1.19.2)\n",
      "Requirement already satisfied: python-dateutil>=2.7 in /home/julianbuecher/Projects/Bachelor-Thesis/ML.Proxy.FeatureImportance/lib/python3.8/site-packages (from matplotlib) (2.8.1)\n",
      "Requirement already satisfied: kiwisolver>=1.0.1 in /home/julianbuecher/Projects/Bachelor-Thesis/ML.Proxy.FeatureImportance/lib/python3.8/site-packages (from matplotlib) (1.3.1)\n",
      "Requirement already satisfied: pyparsing>=2.2.1 in /home/julianbuecher/Projects/Bachelor-Thesis/ML.Proxy.FeatureImportance/lib/python3.8/site-packages (from matplotlib) (2.4.7)\n",
      "Requirement already satisfied: cycler>=0.10 in /home/julianbuecher/Projects/Bachelor-Thesis/ML.Proxy.FeatureImportance/lib/python3.8/site-packages (from matplotlib) (0.10.0)\n",
      "Requirement already satisfied: six>=1.5 in /home/julianbuecher/Projects/Bachelor-Thesis/ML.Proxy.FeatureImportance/lib/python3.8/site-packages (from python-dateutil>=2.7->matplotlib) (1.15.0)\n",
      "Requirement already satisfied: ipython in /home/julianbuecher/Projects/Bachelor-Thesis/ML.Proxy.FeatureImportance/lib/python3.8/site-packages (7.25.0)\n",
      "Requirement already satisfied: setuptools>=18.5 in /home/julianbuecher/Projects/Bachelor-Thesis/ML.Proxy.FeatureImportance/lib/python3.8/site-packages (from ipython) (44.0.0)\n",
      "Requirement already satisfied: traitlets>=4.2 in /home/julianbuecher/Projects/Bachelor-Thesis/ML.Proxy.FeatureImportance/lib/python3.8/site-packages (from ipython) (5.0.5)\n",
      "Requirement already satisfied: pexpect>4.3; sys_platform != \"win32\" in /home/julianbuecher/Projects/Bachelor-Thesis/ML.Proxy.FeatureImportance/lib/python3.8/site-packages (from ipython) (4.8.0)\n",
      "Requirement already satisfied: pygments in /home/julianbuecher/Projects/Bachelor-Thesis/ML.Proxy.FeatureImportance/lib/python3.8/site-packages (from ipython) (2.9.0)\n",
      "Requirement already satisfied: decorator in /home/julianbuecher/Projects/Bachelor-Thesis/ML.Proxy.FeatureImportance/lib/python3.8/site-packages (from ipython) (5.0.9)\n",
      "Requirement already satisfied: pickleshare in /home/julianbuecher/Projects/Bachelor-Thesis/ML.Proxy.FeatureImportance/lib/python3.8/site-packages (from ipython) (0.7.5)\n",
      "Requirement already satisfied: backcall in /home/julianbuecher/Projects/Bachelor-Thesis/ML.Proxy.FeatureImportance/lib/python3.8/site-packages (from ipython) (0.2.0)\n",
      "Requirement already satisfied: jedi>=0.16 in /home/julianbuecher/Projects/Bachelor-Thesis/ML.Proxy.FeatureImportance/lib/python3.8/site-packages (from ipython) (0.18.0)\n",
      "Requirement already satisfied: prompt-toolkit!=3.0.0,!=3.0.1,<3.1.0,>=2.0.0 in /home/julianbuecher/Projects/Bachelor-Thesis/ML.Proxy.FeatureImportance/lib/python3.8/site-packages (from ipython) (3.0.19)\n",
      "Requirement already satisfied: matplotlib-inline in /home/julianbuecher/Projects/Bachelor-Thesis/ML.Proxy.FeatureImportance/lib/python3.8/site-packages (from ipython) (0.1.2)\n",
      "Requirement already satisfied: ipython-genutils in /home/julianbuecher/Projects/Bachelor-Thesis/ML.Proxy.FeatureImportance/lib/python3.8/site-packages (from traitlets>=4.2->ipython) (0.2.0)\n",
      "Requirement already satisfied: ptyprocess>=0.5 in /home/julianbuecher/Projects/Bachelor-Thesis/ML.Proxy.FeatureImportance/lib/python3.8/site-packages (from pexpect>4.3; sys_platform != \"win32\"->ipython) (0.7.0)\n",
      "Requirement already satisfied: parso<0.9.0,>=0.8.0 in /home/julianbuecher/Projects/Bachelor-Thesis/ML.Proxy.FeatureImportance/lib/python3.8/site-packages (from jedi>=0.16->ipython) (0.8.2)\n",
      "Requirement already satisfied: wcwidth in /home/julianbuecher/Projects/Bachelor-Thesis/ML.Proxy.FeatureImportance/lib/python3.8/site-packages (from prompt-toolkit!=3.0.0,!=3.0.1,<3.1.0,>=2.0.0->ipython) (0.2.5)\n"
     ]
    }
   ],
   "source": [
    "# Installieren aller benötigten Pakete\n",
    "!pip install pandas\n",
    "!pip install tensorflow_decision_forests\n",
    "!pip install wurlitzer\n",
    "!pip install matplotlib\n",
    "!pip install ipython"
   ]
  },
  {
   "cell_type": "code",
   "execution_count": 13,
   "metadata": {},
   "outputs": [],
   "source": [
    "# Laden der benötigten Python Pakete\n",
    "import pandas as pd\n",
    "import numpy as np\n",
    "import tensorflow_decision_forests as tfdf\n",
    "from wurlitzer import sys_pipes\n",
    "import matplotlib.pyplot as plt"
   ]
  },
  {
   "cell_type": "code",
   "execution_count": 14,
   "metadata": {},
   "outputs": [
    {
     "output_type": "stream",
     "name": "stdout",
     "text": [
      "Found TensorFlow Decision Forests v0.1.7\n"
     ]
    }
   ],
   "source": [
    "# Prüfung der installierten TensorFlow Decision Forests Version\n",
    "print(f\"Found TensorFlow Decision Forests v{tfdf.__version__}\")\n"
   ]
  },
  {
   "cell_type": "code",
   "execution_count": 15,
   "metadata": {},
   "outputs": [],
   "source": [
    "# Laden der Netzwerk Traffic Daten für den GoldenEye Angriff\n",
    "data_Slowloris = pd.read_csv('../Data/Optimized/Thursday-15-02-2018_Slowloris-Attack.csv')\n"
   ]
  },
  {
   "cell_type": "code",
   "execution_count": 16,
   "metadata": {},
   "outputs": [
    {
     "output_type": "stream",
     "name": "stdout",
     "text": [
      "Initial Count of NaN in Dataset: 4921\n",
      "Count of NaN in Dataset after Cleanse: 0\n"
     ]
    }
   ],
   "source": [
    "# Suchen und Ersetzen von NaN Werten im Dataset\n",
    "nan_count = data_Slowloris.isna().sum().sum()\n",
    "print(f\"Initial Count of NaN in Dataset: {nan_count}\")\n",
    "\n",
    "data_Slowloris = data_Slowloris.replace([np.inf, -np.inf], np.nan)\n",
    "data_Slowloris = data_Slowloris.interpolate()\n",
    "\n",
    "nan_count = data_Slowloris.isna().sum().sum()\n",
    "print(f\"Count of NaN in Dataset after Cleanse: {nan_count}\")"
   ]
  },
  {
   "cell_type": "code",
   "execution_count": 17,
   "metadata": {},
   "outputs": [],
   "source": [
    "# Festlegen des Wertes der bestimmten Variable\n",
    "label = 'label'"
   ]
  },
  {
   "cell_type": "code",
   "execution_count": 18,
   "metadata": {},
   "outputs": [
    {
     "output_type": "stream",
     "name": "stdout",
     "text": [
      "704941 examples in training, 302126 examples for testing.\n"
     ]
    }
   ],
   "source": [
    "# Aufteilen des Datasets in Training- und Test-Daten\n",
    "def split_dataset(dataset,  test_ratio=0.30):\n",
    "    \"\"\"Splits a panda dataframe in two dataframes.\"\"\"\n",
    "    test_indices = np.random.rand(len(dataset)) < test_ratio\n",
    "    return dataset[~test_indices], dataset[test_indices]\n",
    "\n",
    "training_data_Slowloris, testing_data_Slowloris = split_dataset(data_Slowloris)\n",
    "\n",
    "print(\"{} examples in training, {} examples for testing.\".format(\n",
    "    len(training_data_Slowloris), len(testing_data_Slowloris)))\n"
   ]
  },
  {
   "cell_type": "code",
   "execution_count": 19,
   "metadata": {},
   "outputs": [
    {
     "output_type": "stream",
     "name": "stdout",
     "text": [
      "Converting Panda Dataframe into TensorFlow Dataset...\n"
     ]
    }
   ],
   "source": [
    "# Konvertieren des Panda Dataframes in ein TensorFlow Dataset\n",
    "print(\"Converting Panda Dataframe into TensorFlow Dataset...\")\n",
    "training_dataset_Slowloris = tfdf.keras.pd_dataframe_to_tf_dataset(training_data_Slowloris, label=label)\n",
    "testing_dataset_Slowloris = tfdf.keras.pd_dataframe_to_tf_dataset(testing_data_Slowloris, label=label)\n"
   ]
  },
  {
   "cell_type": "code",
   "execution_count": 20,
   "metadata": {},
   "outputs": [],
   "source": [
    "# Erstellen des Random Forest Modells\n",
    "model = tfdf.keras.RandomForestModel()\n",
    "model.compile(metrics=[\"accuracy\"])\n"
   ]
  },
  {
   "cell_type": "code",
   "execution_count": 21,
   "metadata": {},
   "outputs": [
    {
     "output_type": "stream",
     "name": "stdout",
     "text": [
      "Training the Model: \n",
      "11015/11015 [==============================] - 63s 6ms/step\n",
      "[INFO kernel.cc:746] Start Yggdrasil model training\n",
      "[INFO kernel.cc:747] Collect training examples\n",
      "[INFO kernel.cc:392] Number of batches: 11015\n",
      "[INFO kernel.cc:393] Number of examples: 704941\n",
      "[INFO data_spec_inference.cc:289] 31737 item(s) have been pruned (i.e. they are considered out of dictionary) for the column timestamp (2000 item(s) left) because min_value_count=5 and max_number_of_unique_values=2000\n",
      "[INFO kernel.cc:769] Dataset:\n",
      "Number of records: 704941\n",
      "Number of columns: 80\n",
      "\n",
      "Number of columns by type:\n",
      "\tNUMERICAL: 78 (97.5%)\n",
      "\tCATEGORICAL: 2 (2.5%)\n",
      "\n",
      "Columns:\n",
      "\n",
      "NUMERICAL: 78 (97.5%)\n",
      "\t0: \"ack_flag_cnt\" NUMERICAL mean:0.283114 min:0 max:1 sd:0.450512\n",
      "\t1: \"active_max\" NUMERICAL mean:182167 min:0 max:1.11992e+08 sd:1.20938e+06\n",
      "\t2: \"active_mean\" NUMERICAL mean:111171 min:0 max:1.11992e+08 sd:950296\n",
      "\t3: \"active_min\" NUMERICAL mean:81805.5 min:0 max:1.11992e+08 sd:871158\n",
      "\t4: \"active_std\" NUMERICAL mean:49027.7 min:0 max:6.01771e+07 sd:379077\n",
      "\t5: \"bwd_blk_rate_avg\" NUMERICAL mean:0 min:0 max:0 sd:0\n",
      "\t6: \"bwd_byts/b_avg\" NUMERICAL mean:0 min:0 max:0 sd:0\n",
      "\t7: \"bwd_header_len\" NUMERICAL mean:135.282 min:0 max:379492 sd:1931.16\n",
      "\t8: \"bwd_iat_max\" NUMERICAL mean:3.68954e+06 min:0 max:1.19714e+08 sd:1.30593e+07\n",
      "\t9: \"bwd_iat_mean\" NUMERICAL mean:1.41581e+06 min:0 max:1.19714e+08 sd:7.47293e+06\n",
      "\t10: \"bwd_iat_min\" NUMERICAL mean:679332 min:0 max:1.19714e+08 sd:6.60057e+06\n",
      "\t11: \"bwd_iat_std\" NUMERICAL mean:1.15221e+06 min:0 max:8.45025e+07 sd:4.20646e+06\n",
      "\t12: \"bwd_iat_tot\" NUMERICAL mean:1.02694e+07 min:0 max:1.2e+08 sd:2.99989e+07\n",
      "\t13: \"bwd_pkt_len_max\" NUMERICAL mean:320.72 min:0 max:2708 sd:493.76\n",
      "\t14: \"bwd_pkt_len_mean\" NUMERICAL mean:118.86 min:0 max:1457.94 sd:186.594\n",
      "\t15: \"bwd_pkt_len_min\" NUMERICAL mean:35.029 min:0 max:1176 sd:56.3532\n",
      "\t16: \"bwd_pkt_len_std\" NUMERICAL mean:113.145 min:0 max:931.26 sd:202.496\n",
      "\t17: \"bwd_pkts/b_avg\" NUMERICAL mean:0 min:0 max:0 sd:0\n",
      "\t18: \"bwd_pkts/s\" NUMERICAL mean:3789.02 min:0 max:2e+06 sd:44967.2\n",
      "\t19: \"bwd_psh_flags\" NUMERICAL mean:0 min:0 max:0 sd:0\n",
      "\t20: \"bwd_seg_size_avg\" NUMERICAL mean:118.86 min:0 max:1457.94 sd:186.594\n",
      "\t21: \"bwd_urg_flags\" NUMERICAL mean:0 min:0 max:0 sd:0\n",
      "\t22: \"cwe_flag_count\" NUMERICAL mean:0 min:0 max:0 sd:0\n",
      "\t23: \"down/up_ratio\" NUMERICAL mean:0.583372 min:0 max:126 sd:0.746481\n",
      "\t24: \"dst_port\" NUMERICAL mean:7704.81 min:0 max:65534 sd:17846.1\n",
      "\t25: \"ece_flag_cnt\" NUMERICAL mean:0.0635358 min:0 max:1 sd:0.243924\n",
      "\t26: \"fin_flag_cnt\" NUMERICAL mean:0.00608703 min:0 max:1 sd:0.0777816\n",
      "\t27: \"flow_byts/s\" NUMERICAL mean:443755 min:0 max:9.12e+08 sd:5.29728e+06\n",
      "\t28: \"flow_duration\" NUMERICAL mean:1.44381e+07 min:0 max:1.2e+08 sd:3.38551e+07\n",
      "\t29: \"flow_iat_max\" NUMERICAL mean:6.66201e+06 min:0 max:1.19992e+08 sd:1.73406e+07\n",
      "\t30: \"flow_iat_mean\" NUMERICAL mean:2.93892e+06 min:0 max:1.19992e+08 sd:1.12358e+07\n",
      "\t31: \"flow_iat_min\" NUMERICAL mean:2.29248e+06 min:0 max:1.19992e+08 sd:1.10278e+07\n",
      "\t32: \"flow_iat_std\" NUMERICAL mean:1.41179e+06 min:0 max:8.43107e+07 sd:5.13121e+06\n",
      "\t33: \"flow_pkts/s\" NUMERICAL mean:44763.7 min:0.0166678 max:4e+06 sd:269344\n",
      "\t34: \"fwd_act_data_pkts\" NUMERICAL mean:1.92331 min:0 max:1468 sd:5.7925\n",
      "\t35: \"fwd_blk_rate_avg\" NUMERICAL mean:0 min:0 max:0 sd:0\n",
      "\t36: \"fwd_byts/b_avg\" NUMERICAL mean:0 min:0 max:0 sd:0\n",
      "\t37: \"fwd_header_len\" NUMERICAL mean:105.033 min:0 max:204920 sd:823.22\n",
      "\t38: \"fwd_iat_max\" NUMERICAL mean:6.36229e+06 min:0 max:1.19992e+08 sd:1.71809e+07\n",
      "\t39: \"fwd_iat_mean\" NUMERICAL mean:3.48917e+06 min:0 max:1.19992e+08 sd:1.24199e+07\n",
      "\t40: \"fwd_iat_min\" NUMERICAL mean:2.65785e+06 min:0 max:1.19992e+08 sd:1.2318e+07\n",
      "\t41: \"fwd_iat_std\" NUMERICAL mean:1.3764e+06 min:0 max:8.43894e+07 sd:4.72503e+06\n",
      "\t42: \"fwd_iat_tot\" NUMERICAL mean:1.40196e+07 min:0 max:1.2e+08 sd:3.37546e+07\n",
      "\t43: \"fwd_pkt_len_max\" NUMERICAL mean:146.036 min:0 max:64440 sd:270.909\n",
      "\t44: \"fwd_pkt_len_mean\" NUMERICAL mean:43.5759 min:0 max:16529.3 sd:57.7645\n",
      "\t45: \"fwd_pkt_len_min\" NUMERICAL mean:14.5419 min:0 max:1460 sd:23.8856\n",
      "\t46: \"fwd_pkt_len_std\" NUMERICAL mean:47.2455 min:0 max:18401.6 sd:87.9603\n",
      "\t47: \"fwd_pkts/b_avg\" NUMERICAL mean:0 min:0 max:0 sd:0\n",
      "\t48: \"fwd_pkts/s\" NUMERICAL mean:38382.8 min:0 max:4e+06 sd:255230\n",
      "\t49: \"fwd_psh_flags\" NUMERICAL mean:0.0536272 min:0 max:1 sd:0.225281\n",
      "\t50: \"fwd_seg_size_avg\" NUMERICAL mean:43.5759 min:0 max:16529.3 sd:57.7645\n",
      "\t51: \"fwd_seg_size_min\" NUMERICAL mean:15.9548 min:0 max:56 sd:6.92459\n",
      "\t52: \"fwd_urg_flags\" NUMERICAL mean:0 min:0 max:0 sd:0\n",
      "\t53: \"idle_max\" NUMERICAL mean:4.47742e+06 min:0 max:1.19992e+08 sd:1.47679e+07\n",
      "\t54: \"idle_mean\" NUMERICAL mean:4.2012e+06 min:0 max:1.19992e+08 sd:1.40996e+07\n",
      "\t55: \"idle_min\" NUMERICAL mean:3.95608e+06 min:0 max:1.19992e+08 sd:1.38471e+07\n",
      "\t56: \"idle_std\" NUMERICAL mean:273348 min:0 max:6.81937e+07 sd:2.38528e+06\n",
      "\t57: \"init_bwd_win_byts\" NUMERICAL mean:5821.24 min:-1 max:65535 sd:17432.4\n",
      "\t58: \"init_fwd_win_byts\" NUMERICAL mean:4712.16 min:-1 max:65535 sd:10111.8\n",
      "\t59: \"pkt_len_max\" NUMERICAL mean:330.349 min:0 max:64440 sd:509.607\n",
      "\t60: \"pkt_len_mean\" NUMERICAL mean:79.1216 min:0 max:3326.99 sd:119.921\n",
      "\t61: \"pkt_len_min\" NUMERICAL mean:14.3694 min:0 max:1460 sd:22.6913\n",
      "\t62: \"pkt_len_std\" NUMERICAL mean:105.728 min:0 max:10579.8 sd:162.827\n",
      "\t63: \"pkt_len_var\" NUMERICAL mean:37690.8 min:0 max:1.11932e+08 sd:169145\n",
      "\t64: \"pkt_size_avg\" NUMERICAL mean:92.3922 min:0 max:3328.3 sd:123.421\n",
      "\t65: \"protocol\" NUMERICAL mean:9.66535 min:0 max:17 sd:5.3622\n",
      "\t66: \"psh_flag_cnt\" NUMERICAL mean:0.351532 min:0 max:1 sd:0.477449\n",
      "\t67: \"rst_flag_cnt\" NUMERICAL mean:0.0635387 min:0 max:1 sd:0.243929\n",
      "\t68: \"subflow_bwd_byts\" NUMERICAL mean:5002.94 min:0 max:2.7425e+07 sd:137460\n",
      "\t69: \"subflow_bwd_pkts\" NUMERICAL mean:6.51502 min:0 max:18974 sd:96.2729\n",
      "\t70: \"subflow_fwd_byts\" NUMERICAL mean:431.849 min:0 max:8.73731e+06 sd:28518\n",
      "\t71: \"subflow_fwd_pkts\" NUMERICAL mean:5.20759 min:1 max:8832 sd:34.989\n",
      "\t72: \"syn_flag_cnt\" NUMERICAL mean:0.0536272 min:0 max:1 sd:0.225281\n",
      "\t74: \"tot_bwd_pkts\" NUMERICAL mean:6.51502 min:0 max:18974 sd:96.2729\n",
      "\t75: \"tot_fwd_pkts\" NUMERICAL mean:5.20759 min:1 max:8832 sd:34.989\n",
      "\t76: \"totlen_bwd_pkts\" NUMERICAL mean:5002.94 min:0 max:2.7425e+07 sd:137460\n",
      "\t77: \"totlen_fwd_pkts\" NUMERICAL mean:431.849 min:0 max:8.73731e+06 sd:28518\n",
      "\t78: \"urg_flag_cnt\" NUMERICAL mean:0.0496155 min:0 max:1 sd:0.217149\n",
      "\n",
      "CATEGORICAL: 2 (2.5%)\n",
      "\t73: \"timestamp\" CATEGORICAL has-dict vocab-size:2001 num-oods:31737 (4.50208%) most-frequent:\"<OOD>\" 31737 (4.50208%)\n",
      "\t79: \"__LABEL\" CATEGORICAL integerized vocab-size:3 no-ood-item\n",
      "\n",
      "Terminology:\n",
      "\tnas: Number of non-available (i.e. missing) values.\n",
      "\tood: Out of dictionary.\n",
      "\tmanually-defined: Attribute which type is manually defined by the user i.e. the type was not automatically inferred.\n",
      "\ttokenized: The attribute value is obtained through tokenization.\n",
      "\thas-dict: The attribute is attached to a string dictionary e.g. a categorical attribute stored as a string.\n",
      "\tvocab-size: Number of unique values.\n",
      "\n",
      "[INFO kernel.cc:772] Configure learner\n",
      "[INFO kernel.cc:797] Training config:\n",
      "learner: \"RANDOM_FOREST\"\n",
      "features: \"ack_flag_cnt\"\n",
      "features: \"active_max\"\n",
      "features: \"active_mean\"\n",
      "features: \"active_min\"\n",
      "features: \"active_std\"\n",
      "features: \"bwd_blk_rate_avg\"\n",
      "features: \"bwd_byts/b_avg\"\n",
      "features: \"bwd_header_len\"\n",
      "features: \"bwd_iat_max\"\n",
      "features: \"bwd_iat_mean\"\n",
      "features: \"bwd_iat_min\"\n",
      "features: \"bwd_iat_std\"\n",
      "features: \"bwd_iat_tot\"\n",
      "features: \"bwd_pkt_len_max\"\n",
      "features: \"bwd_pkt_len_mean\"\n",
      "features: \"bwd_pkt_len_min\"\n",
      "features: \"bwd_pkt_len_std\"\n",
      "features: \"bwd_pkts/b_avg\"\n",
      "features: \"bwd_pkts/s\"\n",
      "features: \"bwd_psh_flags\"\n",
      "features: \"bwd_seg_size_avg\"\n",
      "features: \"bwd_urg_flags\"\n",
      "features: \"cwe_flag_count\"\n",
      "features: \"down/up_ratio\"\n",
      "features: \"dst_port\"\n",
      "features: \"ece_flag_cnt\"\n",
      "features: \"fin_flag_cnt\"\n",
      "features: \"flow_byts/s\"\n",
      "features: \"flow_duration\"\n",
      "features: \"flow_iat_max\"\n",
      "features: \"flow_iat_mean\"\n",
      "features: \"flow_iat_min\"\n",
      "features: \"flow_iat_std\"\n",
      "features: \"flow_pkts/s\"\n",
      "features: \"fwd_act_data_pkts\"\n",
      "features: \"fwd_blk_rate_avg\"\n",
      "features: \"fwd_byts/b_avg\"\n",
      "features: \"fwd_header_len\"\n",
      "features: \"fwd_iat_max\"\n",
      "features: \"fwd_iat_mean\"\n",
      "features: \"fwd_iat_min\"\n",
      "features: \"fwd_iat_std\"\n",
      "features: \"fwd_iat_tot\"\n",
      "features: \"fwd_pkt_len_max\"\n",
      "features: \"fwd_pkt_len_mean\"\n",
      "features: \"fwd_pkt_len_min\"\n",
      "features: \"fwd_pkt_len_std\"\n",
      "features: \"fwd_pkts/b_avg\"\n",
      "features: \"fwd_pkts/s\"\n",
      "features: \"fwd_psh_flags\"\n",
      "features: \"fwd_seg_size_avg\"\n",
      "features: \"fwd_seg_size_min\"\n",
      "features: \"fwd_urg_flags\"\n",
      "features: \"idle_max\"\n",
      "features: \"idle_mean\"\n",
      "features: \"idle_min\"\n",
      "features: \"idle_std\"\n",
      "features: \"init_bwd_win_byts\"\n",
      "features: \"init_fwd_win_byts\"\n",
      "features: \"pkt_len_max\"\n",
      "features: \"pkt_len_mean\"\n",
      "features: \"pkt_len_min\"\n",
      "features: \"pkt_len_std\"\n",
      "features: \"pkt_len_var\"\n",
      "features: \"pkt_size_avg\"\n",
      "features: \"protocol\"\n",
      "features: \"psh_flag_cnt\"\n",
      "features: \"rst_flag_cnt\"\n",
      "features: \"subflow_bwd_byts\"\n",
      "features: \"subflow_bwd_pkts\"\n",
      "features: \"subflow_fwd_byts\"\n",
      "features: \"subflow_fwd_pkts\"\n",
      "features: \"syn_flag_cnt\"\n",
      "features: \"timestamp\"\n",
      "features: \"tot_bwd_pkts\"\n",
      "features: \"tot_fwd_pkts\"\n",
      "features: \"totlen_bwd_pkts\"\n",
      "features: \"totlen_fwd_pkts\"\n",
      "features: \"urg_flag_cnt\"\n",
      "label: \"__LABEL\"\n",
      "task: CLASSIFICATION\n",
      "[yggdrasil_decision_forests.model.random_forest.proto.random_forest_config] {\n",
      "  num_trees: 300\n",
      "  decision_tree {\n",
      "    max_depth: 16\n",
      "    min_examples: 5\n",
      "    in_split_min_examples_check: true\n",
      "    missing_value_policy: GLOBAL_IMPUTATION\n",
      "    allow_na_conditions: false\n",
      "    categorical_set_greedy_forward {\n",
      "      sampling: 0.1\n",
      "      max_num_items: -1\n",
      "      min_item_frequency: 1\n",
      "    }\n",
      "    growing_strategy_local {\n",
      "    }\n",
      "    categorical {\n",
      "      cart {\n",
      "      }\n",
      "    }\n",
      "    num_candidate_attributes_ratio: -1\n",
      "    axis_aligned_split {\n",
      "    }\n",
      "    internal {\n",
      "      sorting_strategy: PRESORTED\n",
      "    }\n",
      "  }\n",
      "  winner_take_all_inference: true\n",
      "  compute_oob_performances: true\n",
      "  compute_oob_variable_importances: false\n",
      "  adapt_bootstrap_size_ratio_for_maximum_training_duration: false\n",
      "}\n",
      "\n",
      "[INFO kernel.cc:800] Deployment config:\n",
      "\n",
      "[INFO kernel.cc:837] Train model\n",
      "[INFO random_forest.cc:303] Training random forest on 704941 example(s) and 79 feature(s).\n",
      "[INFO random_forest.cc:578] Training of tree  1/300 (tree index:4) done accuracy:0.999958 logloss:0.00152823\n",
      "[INFO random_forest.cc:578] Training of tree  11/300 (tree index:8) done accuracy:0.999974 logloss:0.000371098\n",
      "[INFO random_forest.cc:578] Training of tree  21/300 (tree index:21) done accuracy:0.999984 logloss:0.000116897\n",
      "[INFO random_forest.cc:578] Training of tree  31/300 (tree index:29) done accuracy:0.999984 logloss:6.43326e-05\n",
      "[INFO random_forest.cc:578] Training of tree  41/300 (tree index:40) done accuracy:0.999986 logloss:6.26781e-05\n",
      "[INFO random_forest.cc:578] Training of tree  51/300 (tree index:49) done accuracy:0.999987 logloss:6.16098e-05\n",
      "[INFO random_forest.cc:578] Training of tree  61/300 (tree index:59) done accuracy:0.999987 logloss:5.90725e-05\n",
      "[INFO random_forest.cc:578] Training of tree  71/300 (tree index:73) done accuracy:0.999989 logloss:5.90699e-05\n",
      "[INFO random_forest.cc:578] Training of tree  81/300 (tree index:79) done accuracy:0.999987 logloss:5.93677e-05\n",
      "[INFO random_forest.cc:578] Training of tree  91/300 (tree index:90) done accuracy:0.999989 logloss:5.82467e-05\n",
      "[INFO random_forest.cc:578] Training of tree  101/300 (tree index:99) done accuracy:0.999989 logloss:5.72201e-05\n",
      "[INFO random_forest.cc:578] Training of tree  111/300 (tree index:110) done accuracy:0.999991 logloss:5.76986e-05\n",
      "[INFO random_forest.cc:578] Training of tree  121/300 (tree index:122) done accuracy:0.99999 logloss:5.72194e-05\n",
      "[INFO random_forest.cc:578] Training of tree  131/300 (tree index:129) done accuracy:0.99999 logloss:5.82669e-05\n",
      "[INFO random_forest.cc:578] Training of tree  141/300 (tree index:140) done accuracy:0.999989 logloss:5.85682e-05\n",
      "[INFO random_forest.cc:578] Training of tree  151/300 (tree index:150) done accuracy:0.99999 logloss:5.92311e-05\n",
      "[INFO random_forest.cc:578] Training of tree  161/300 (tree index:160) done accuracy:0.99999 logloss:5.92355e-05\n",
      "[INFO random_forest.cc:578] Training of tree  171/300 (tree index:168) done accuracy:0.999989 logloss:6.00446e-05\n",
      "[INFO random_forest.cc:578] Training of tree  181/300 (tree index:180) done accuracy:0.999991 logloss:6.05264e-05\n",
      "[INFO random_forest.cc:578] Training of tree  191/300 (tree index:190) done accuracy:0.999986 logloss:6.01335e-05\n",
      "[INFO random_forest.cc:578] Training of tree  201/300 (tree index:200) done accuracy:0.999984 logloss:6.08181e-05\n",
      "[INFO random_forest.cc:578] Training of tree  211/300 (tree index:209) done accuracy:0.999987 logloss:6.05704e-05\n",
      "[INFO random_forest.cc:578] Training of tree  221/300 (tree index:218) done accuracy:0.999987 logloss:6.02536e-05\n",
      "[INFO random_forest.cc:578] Training of tree  231/300 (tree index:231) done accuracy:0.999989 logloss:5.98425e-05\n",
      "[INFO random_forest.cc:578] Training of tree  241/300 (tree index:240) done accuracy:0.999987 logloss:5.97918e-05\n",
      "[INFO random_forest.cc:578] Training of tree  251/300 (tree index:251) done accuracy:0.99999 logloss:5.97172e-05\n",
      "[INFO random_forest.cc:578] Training of tree  261/300 (tree index:258) done accuracy:0.99999 logloss:5.98936e-05\n",
      "[INFO random_forest.cc:578] Training of tree  271/300 (tree index:270) done accuracy:0.999989 logloss:6.01438e-05\n",
      "[INFO random_forest.cc:578] Training of tree  281/300 (tree index:279) done accuracy:0.999989 logloss:6.02035e-05\n",
      "[INFO random_forest.cc:578] Training of tree  291/300 (tree index:288) done accuracy:0.999989 logloss:6.03442e-05\n",
      "[INFO random_forest.cc:578] Training of tree  300/300 (tree index:299) done accuracy:0.999989 logloss:5.98876e-05\n",
      "[INFO random_forest.cc:645] Final OOB metrics: accuracy:0.999989 logloss:5.98876e-05\n",
      "[INFO kernel.cc:856] Export model in log directory: /tmp/tmpz7mqurqp\n",
      "[INFO kernel.cc:864] Save model in resources\n",
      "[INFO kernel.cc:960] Loading model from path\n",
      "[INFO decision_forest.cc:590] Model loaded with 300 root(s), 27116 node(s), and 67 input feature(s).\n",
      "[INFO abstract_model.cc:973] Engine \"RandomForestGeneric\" built\n",
      "[INFO kernel.cc:820] Use fast generic engine\n"
     ]
    }
   ],
   "source": [
    "# Trainieren des Modells\n",
    "print(\"Training the Model: \")\n",
    "with sys_pipes():\n",
    "    model.fit(x=training_dataset_Slowloris)"
   ]
  },
  {
   "cell_type": "code",
   "execution_count": 22,
   "metadata": {},
   "outputs": [
    {
     "output_type": "stream",
     "name": "stdout",
     "text": [
      "Evaluating the Model...\n",
      "4721/4721 [==============================] - 30s 6ms/step - loss: 0.0000e+00 - accuracy: 1.0000\n",
      "\n",
      "loss: 0.0000\n",
      "accuracy: 1.0000\n"
     ]
    }
   ],
   "source": [
    "# Evaluation des trainierten Modells mit den Testdaten\n",
    "print(\"Evaluating the Model...\")\n",
    "evaluation = model.evaluate(testing_dataset_Slowloris, return_dict=True)\n",
    "\n",
    "print()\n",
    "\n",
    "for name, value in evaluation.items():\n",
    "    print(f\"{name}: {value:.4f}\")"
   ]
  },
  {
   "cell_type": "code",
   "execution_count": 23,
   "metadata": {
    "tags": [
     "outputPrepend"
    ]
   },
   "outputs": [
    {
     "output_type": "stream",
     "name": "stdout",
     "text": [
      "4.          \"protocol\"  7.225300 ###############\n   15. \"fwd_act_data_pkts\"  7.219609 ###############\n   16.      \"urg_flag_cnt\"  7.210363 ###############\n   17.   \"bwd_pkt_len_min\"  7.197026 ###############\n   18.     \"down/up_ratio\"  7.194212 ###############\n   19.       \"pkt_len_min\"  7.191280 ###############\n   20.      \"psh_flag_cnt\"  7.180366 ###############\n   21.      \"tot_bwd_pkts\"  7.172341 ###############\n   22.  \"subflow_fwd_pkts\"  7.170572 ###############\n   23.   \"fwd_pkt_len_std\"  7.167852 ###############\n   24.   \"bwd_pkt_len_std\"  7.161721 ###############\n   25.  \"subflow_bwd_pkts\"  7.156462 ###############\n   26.      \"tot_fwd_pkts\"  7.152198 ###############\n   27.         \"timestamp\"  7.150396 ###############\n   28.       \"bwd_iat_tot\"  7.139798 ###############\n   29.          \"idle_max\"  7.101867 ###############\n   30.          \"idle_min\"  7.085014 ##############\n   31.      \"syn_flag_cnt\"  7.080036 ##############\n   32.    \"bwd_header_len\"  7.066946 ##############\n   33.     \"fwd_psh_flags\"  7.064813 ##############\n   34.        \"active_std\"  7.062241 ##############\n   35.       \"pkt_len_max\"  7.036115 ##############\n   36.      \"pkt_len_mean\"  7.016146 ##############\n   37.  \"bwd_seg_size_avg\"  6.997092 ##############\n   38. \"init_bwd_win_byts\"  6.995345 ##############\n   39.      \"ack_flag_cnt\"  6.992150 ##############\n   40.       \"pkt_len_std\"  6.985186 ##############\n   41.       \"pkt_len_var\"  6.970307 ##############\n   42.  \"subflow_fwd_byts\"  6.966463 ##############\n   43.         \"idle_mean\"  6.962201 ##############\n   44.   \"totlen_bwd_pkts\"  6.956871 ##############\n   45.   \"bwd_pkt_len_max\"  6.945252 #############\n   46.  \"subflow_bwd_byts\"  6.927178 #############\n   47.      \"pkt_size_avg\"  6.922550 #############\n   48.        \"active_min\"  6.918933 #############\n   49.   \"fwd_pkt_len_min\"  6.914335 #############\n   50.  \"bwd_pkt_len_mean\"  6.902844 #############\n   51.       \"fwd_iat_std\"  6.873784 #############\n   52.          \"idle_std\"  6.872637 #############\n   53.   \"totlen_fwd_pkts\"  6.863553 #############\n   54.      \"fin_flag_cnt\"  6.848130 #############\n   55.   \"fwd_pkt_len_max\"  6.819533 #############\n   56.       \"active_mean\"  6.818260 #############\n   57.        \"active_max\"  6.813350 #############\n   58.  \"fwd_pkt_len_mean\"  6.807699 #############\n   59.  \"fwd_seg_size_avg\"  6.741335 ############\n   60.       \"flow_byts/s\"  6.707868 ############\n   61.        \"bwd_pkts/s\"  6.687029 ############\n   62.       \"fwd_iat_tot\"  6.643890 ###########\n   63.    \"fwd_header_len\"  6.640266 ###########\n   64.     \"flow_duration\"  6.511651 ##########\n   65.       \"bwd_iat_std\"  6.511062 ##########\n   66.     \"flow_iat_mean\"  6.435049 ##########\n   67.      \"flow_iat_min\"  6.384849 ##########\n   68.       \"fwd_iat_max\"  6.369104 #########\n   69.      \"flow_iat_max\"  6.352430 #########\n   70.      \"fwd_iat_mean\"  6.345549 #########\n   71.       \"fwd_iat_min\"  6.204718 ########\n   72.          \"dst_port\"  6.178456 ########\n   73.        \"fwd_pkts/s\"  6.172157 ########\n   74.       \"flow_pkts/s\"  6.170163 ########\n   75.       \"bwd_iat_min\"  6.159928 ########\n   76.      \"flow_iat_std\"  6.107963 ########\n   77.      \"bwd_iat_mean\"  5.994053 #######\n   78.       \"bwd_iat_max\"  5.797237 ######\n   79. \"init_fwd_win_byts\"  5.058868 \n   80.  \"fwd_seg_size_min\"  4.933844 \n\n\n\nWinner take all: true\nOut-of-bag evaluation: accuracy:0.999989 logloss:5.98876e-05\nNumber of trees: 300\nTotal number of nodes: 27116\n\nNumber of nodes by tree:\nCount: 300 Average: 90.3867 StdDev: 20.2115\nMin: 45 Max: 153 Ignored: 0\n----------------------------------------------\n[  45,  50)  4   1.33%   1.33% #\n[  50,  55)  4   1.33%   2.67% #\n[  55,  61) 12   4.00%   6.67% ###\n[  61,  66) 15   5.00%  11.67% ####\n[  66,  72) 21   7.00%  18.67% ######\n[  72,  77) 19   6.33%  25.00% #####\n[  77,  83) 35  11.67%  36.67% ##########\n[  83,  88) 32  10.67%  47.33% #########\n[  88,  94) 31  10.33%  57.67% #########\n[  94,  99) 17   5.67%  63.33% #####\n[  99, 104) 35  11.67%  75.00% ##########\n[ 104, 110) 23   7.67%  82.67% #######\n[ 110, 115) 14   4.67%  87.33% ####\n[ 115, 121) 20   6.67%  94.00% ######\n[ 121, 126)  4   1.33%  95.33% #\n[ 126, 132)  2   0.67%  96.00% #\n[ 132, 137)  4   1.33%  97.33% #\n[ 137, 143)  6   2.00%  99.33% ##\n[ 143, 148)  0   0.00%  99.33%\n[ 148, 153]  2   0.67% 100.00% #\n\nDepth by leafs:\nCount: 13708 Average: 7.36475 StdDev: 2.5504\nMin: 2 Max: 15 Ignored: 0\n----------------------------------------------\n[  2,  3)  189   1.38%   1.38% #\n[  3,  4)  717   5.23%   6.61% ###\n[  4,  5)  954   6.96%  13.57% ####\n[  5,  6) 1384  10.10%  23.67% ######\n[  6,  7) 1975  14.41%  38.07% #########\n[  7,  8) 2152  15.70%  53.77% ##########\n[  8,  9) 1995  14.55%  68.33% #########\n[  9, 10) 1614  11.77%  80.10% ########\n[ 10, 11) 1149   8.38%  88.48% #####\n[ 11, 12)  761   5.55%  94.03% ####\n[ 12, 13)  415   3.03%  97.06% ##\n[ 13, 14)  242   1.77%  98.83% #\n[ 14, 15)  111   0.81%  99.64% #\n[ 15, 15]   50   0.36% 100.00%\n\nNumber of training obs by leaf:\nCount: 13708 Average: 15427.7 StdDev: 68342.5\nMin: 5 Max: 682791 Ignored: 0\n----------------------------------------------\n[      5,  34144) 12681  92.51%  92.51% ##########\n[  34144,  68283)   374   2.73%  95.24%\n[  68283, 102423)   159   1.16%  96.40%\n[ 102423, 136562)    83   0.61%  97.00%\n[ 136562, 170701)    72   0.53%  97.53%\n[ 170701, 204841)    19   0.14%  97.67%\n[ 204841, 238980)    15   0.11%  97.78%\n[ 238980, 273119)    19   0.14%  97.91%\n[ 273119, 307259)    22   0.16%  98.07%\n[ 307259, 341398)    14   0.10%  98.18%\n[ 341398, 375537)    23   0.17%  98.34%\n[ 375537, 409677)    32   0.23%  98.58%\n[ 409677, 443816)    31   0.23%  98.80%\n[ 443816, 477955)    68   0.50%  99.30%\n[ 477955, 512095)    36   0.26%  99.56%\n[ 512095, 546234)    24   0.18%  99.74%\n[ 546234, 580373)    21   0.15%  99.89%\n[ 580373, 614513)     5   0.04%  99.93%\n[ 614513, 648652)     0   0.00%  99.93%\n[ 648652, 682791]    10   0.07% 100.00%\n\nAttribute in nodes:\n\t1688 : dst_port [NUMERICAL]\n\t945 : init_fwd_win_byts [NUMERICAL]\n\t567 : fwd_seg_size_min [NUMERICAL]\n\t545 : flow_iat_min [NUMERICAL]\n\t487 : flow_iat_max [NUMERICAL]\n\t486 : fwd_pkts/s [NUMERICAL]\n\t466 : fwd_iat_min [NUMERICAL]\n\t445 : fwd_iat_max [NUMERICAL]\n\t445 : flow_pkts/s [NUMERICAL]\n\t397 : flow_duration [NUMERICAL]\n\t390 : fwd_iat_mean [NUMERICAL]\n\t367 : fwd_iat_tot [NUMERICAL]\n\t365 : flow_iat_mean [NUMERICAL]\n\t310 : fin_flag_cnt [NUMERICAL]\n\t258 : fwd_header_len [NUMERICAL]\n\t246 : flow_iat_std [NUMERICAL]\n\t235 : bwd_pkts/s [NUMERICAL]\n\t203 : flow_byts/s [NUMERICAL]\n\t195 : fwd_seg_size_avg [NUMERICAL]\n\t189 : fwd_pkt_len_max [NUMERICAL]\n\t183 : fwd_pkt_len_mean [NUMERICAL]\n\t178 : ack_flag_cnt [NUMERICAL]\n\t163 : pkt_len_std [NUMERICAL]\n\t163 : init_bwd_win_byts [NUMERICAL]\n\t160 : bwd_iat_mean [NUMERICAL]\n\t157 : fwd_iat_std [NUMERICAL]\n\t154 : pkt_len_var [NUMERICAL]\n\t154 : bwd_iat_max [NUMERICAL]\n\t150 : bwd_header_len [NUMERICAL]\n\t145 : totlen_fwd_pkts [NUMERICAL]\n\t142 : pkt_len_max [NUMERICAL]\n\t137 : pkt_size_avg [NUMERICAL]\n\t135 : subflow_fwd_byts [NUMERICAL]\n\t126 : pkt_len_mean [NUMERICAL]\n\t120 : fwd_pkt_len_std [NUMERICAL]\n\t111 : timestamp [CATEGORICAL]\n\t109 : totlen_bwd_pkts [NUMERICAL]\n\t108 : subflow_bwd_byts [NUMERICAL]\n\t107 : bwd_iat_min [NUMERICAL]\n\t106 : bwd_pkt_len_mean [NUMERICAL]\n\t103 : fwd_pkt_len_min [NUMERICAL]\n\t94 : bwd_seg_size_avg [NUMERICAL]\n\t79 : bwd_pkt_len_max [NUMERICAL]\n\t79 : bwd_iat_std [NUMERICAL]\n\t78 : bwd_iat_tot [NUMERICAL]\n\t76 : bwd_pkt_len_std [NUMERICAL]\n\t75 : subflow_bwd_pkts [NUMERICAL]\n\t72 : fwd_psh_flags [NUMERICAL]\n\t70 : tot_fwd_pkts [NUMERICAL]\n\t65 : tot_bwd_pkts [NUMERICAL]\n\t63 : syn_flag_cnt [NUMERICAL]\n\t60 : subflow_fwd_pkts [NUMERICAL]\n\t41 : idle_max [NUMERICAL]\n\t40 : active_mean [NUMERICAL]\n\t39 : psh_flag_cnt [NUMERICAL]\n\t38 : idle_mean [NUMERICAL]\n\t38 : active_min [NUMERICAL]\n\t36 : urg_flag_cnt [NUMERICAL]\n\t36 : fwd_act_data_pkts [NUMERICAL]\n\t35 : active_max [NUMERICAL]\n\t32 : down/up_ratio [NUMERICAL]\n\t30 : idle_min [NUMERICAL]\n\t28 : idle_std [NUMERICAL]\n\t23 : protocol [NUMERICAL]\n\t19 : active_std [NUMERICAL]\n\t13 : bwd_pkt_len_min [NUMERICAL]\n\t9 : pkt_len_min [NUMERICAL]\n\nAttribute in nodes with depth <= 0:\n\t44 : bwd_iat_max [NUMERICAL]\n\t33 : bwd_iat_mean [NUMERICAL]\n\t32 : bwd_iat_min [NUMERICAL]\n\t31 : fwd_seg_size_min [NUMERICAL]\n\t25 : bwd_iat_std [NUMERICAL]\n\t23 : init_fwd_win_byts [NUMERICAL]\n\t20 : flow_iat_std [NUMERICAL]\n\t14 : active_mean [NUMERICAL]\n\t14 : active_max [NUMERICAL]\n\t13 : idle_std [NUMERICAL]\n\t11 : active_min [NUMERICAL]\n\t6 : active_std [NUMERICAL]\n\t5 : fwd_iat_max [NUMERICAL]\n\t5 : flow_iat_mean [NUMERICAL]\n\t4 : idle_mean [NUMERICAL]\n\t4 : fwd_iat_mean [NUMERICAL]\n\t4 : flow_pkts/s [NUMERICAL]\n\t3 : subflow_bwd_byts [NUMERICAL]\n\t2 : idle_max [NUMERICAL]\n\t1 : totlen_fwd_pkts [NUMERICAL]\n\t1 : subflow_fwd_byts [NUMERICAL]\n\t1 : fwd_pkt_len_mean [NUMERICAL]\n\t1 : fwd_header_len [NUMERICAL]\n\t1 : flow_iat_max [NUMERICAL]\n\t1 : flow_duration [NUMERICAL]\n\t1 : bwd_iat_tot [NUMERICAL]\n\nAttribute in nodes with depth <= 1:\n\t98 : fwd_seg_size_min [NUMERICAL]\n\t78 : bwd_iat_max [NUMERICAL]\n\t62 : init_fwd_win_byts [NUMERICAL]\n\t60 : bwd_iat_mean [NUMERICAL]\n\t51 : bwd_iat_min [NUMERICAL]\n\t39 : flow_iat_std [NUMERICAL]\n\t33 : bwd_iat_std [NUMERICAL]\n\t23 : bwd_pkts/s [NUMERICAL]\n\t22 : fwd_iat_min [NUMERICAL]\n\t22 : flow_iat_min [NUMERICAL]\n\t20 : totlen_bwd_pkts [NUMERICAL]\n\t20 : dst_port [NUMERICAL]\n\t19 : flow_pkts/s [NUMERICAL]\n\t17 : subflow_bwd_byts [NUMERICAL]\n\t17 : fwd_iat_max [NUMERICAL]\n\t16 : idle_std [NUMERICAL]\n\t16 : active_mean [NUMERICAL]\n\t16 : active_max [NUMERICAL]\n\t15 : fwd_iat_mean [NUMERICAL]\n\t14 : flow_iat_mean [NUMERICAL]\n\t14 : active_min [NUMERICAL]\n\t13 : bwd_seg_size_avg [NUMERICAL]\n\t13 : bwd_iat_tot [NUMERICAL]\n\t12 : fwd_iat_tot [NUMERICAL]\n\t12 : bwd_pkt_len_mean [NUMERICAL]\n\t12 : bwd_pkt_len_max [NUMERICAL]\n\t11 : idle_mean [NUMERICAL]\n\t11 : fwd_pkts/s [NUMERICAL]\n\t11 : fwd_pkt_len_max [NUMERICAL]\n\t11 : flow_iat_max [NUMERICAL]\n\t11 : flow_duration [NUMERICAL]\n\t10 : fwd_seg_size_avg [NUMERICAL]\n\t10 : fwd_iat_std [NUMERICAL]\n\t9 : fwd_pkt_len_mean [NUMERICAL]\n\t9 : bwd_header_len [NUMERICAL]\n\t7 : totlen_fwd_pkts [NUMERICAL]\n\t7 : subflow_fwd_byts [NUMERICAL]\n\t7 : idle_min [NUMERICAL]\n\t6 : pkt_size_avg [NUMERICAL]\n\t6 : idle_max [NUMERICAL]\n\t6 : active_std [NUMERICAL]\n\t5 : flow_byts/s [NUMERICAL]\n\t4 : fin_flag_cnt [NUMERICAL]\n\t4 : bwd_pkt_len_std [NUMERICAL]\n\t3 : pkt_len_max [NUMERICAL]\n\t3 : bwd_pkt_len_min [NUMERICAL]\n\t2 : pkt_len_var [NUMERICAL]\n\t2 : pkt_len_mean [NUMERICAL]\n\t2 : fwd_psh_flags [NUMERICAL]\n\t2 : fwd_header_len [NUMERICAL]\n\t1 : tot_fwd_pkts [NUMERICAL]\n\t1 : tot_bwd_pkts [NUMERICAL]\n\t1 : psh_flag_cnt [NUMERICAL]\n\t1 : pkt_len_std [NUMERICAL]\n\t1 : init_bwd_win_byts [NUMERICAL]\n\t1 : fwd_pkt_len_std [NUMERICAL]\n\t1 : down/up_ratio [NUMERICAL]\n\nAttribute in nodes with depth <= 2:\n\t196 : fwd_seg_size_min [NUMERICAL]\n\t128 : init_fwd_win_byts [NUMERICAL]\n\t93 : bwd_iat_max [NUMERICAL]\n\t82 : bwd_iat_mean [NUMERICAL]\n\t61 : bwd_iat_min [NUMERICAL]\n\t58 : flow_iat_min [NUMERICAL]\n\t53 : flow_iat_std [NUMERICAL]\n\t53 : dst_port [NUMERICAL]\n\t52 : flow_pkts/s [NUMERICAL]\n\t46 : fwd_iat_min [NUMERICAL]\n\t44 : bwd_pkts/s [NUMERICAL]\n\t41 : flow_iat_mean [NUMERICAL]\n\t40 : fwd_seg_size_avg [NUMERICAL]\n\t36 : fwd_iat_mean [NUMERICAL]\n\t36 : bwd_iat_std [NUMERICAL]\n\t35 : fwd_iat_tot [NUMERICAL]\n\t35 : flow_iat_max [NUMERICAL]\n\t35 : flow_byts/s [NUMERICAL]\n\t34 : fwd_pkts/s [NUMERICAL]\n\t34 : fwd_iat_max [NUMERICAL]\n\t34 : flow_duration [NUMERICAL]\n\t33 : totlen_bwd_pkts [NUMERICAL]\n\t32 : subflow_bwd_byts [NUMERICAL]\n\t32 : fwd_pkt_len_max [NUMERICAL]\n\t31 : fwd_header_len [NUMERICAL]\n\t29 : bwd_seg_size_avg [NUMERICAL]\n\t28 : bwd_pkt_len_max [NUMERICAL]\n\t28 : bwd_header_len [NUMERICAL]\n\t27 : fwd_pkt_len_mean [NUMERICAL]\n\t25 : totlen_fwd_pkts [NUMERICAL]\n\t25 : bwd_pkt_len_mean [NUMERICAL]\n\t22 : init_bwd_win_byts [NUMERICAL]\n\t21 : pkt_size_avg [NUMERICAL]\n\t21 : fwd_iat_std [NUMERICAL]\n\t21 : bwd_iat_tot [NUMERICAL]\n\t21 : active_mean [NUMERICAL]\n\t19 : fwd_psh_flags [NUMERICAL]\n\t18 : idle_std [NUMERICAL]\n\t18 : active_min [NUMERICAL]\n\t18 : active_max [NUMERICAL]\n\t17 : subflow_fwd_byts [NUMERICAL]\n\t17 : idle_mean [NUMERICAL]\n\t16 : syn_flag_cnt [NUMERICAL]\n\t13 : pkt_len_std [NUMERICAL]\n\t13 : pkt_len_max [NUMERICAL]\n\t12 : pkt_len_var [NUMERICAL]\n\t12 : fin_flag_cnt [NUMERICAL]\n\t12 : bwd_pkt_len_std [NUMERICAL]\n\t11 : pkt_len_mean [NUMERICAL]\n\t10 : tot_fwd_pkts [NUMERICAL]\n\t10 : idle_min [NUMERICAL]\n\t10 : fwd_pkt_len_min [NUMERICAL]\n\t10 : down/up_ratio [NUMERICAL]\n\t9 : active_std [NUMERICAL]\n\t8 : idle_max [NUMERICAL]\n\t7 : fwd_pkt_len_std [NUMERICAL]\n\t6 : bwd_pkt_len_min [NUMERICAL]\n\t5 : subflow_fwd_pkts [NUMERICAL]\n\t4 : subflow_bwd_pkts [NUMERICAL]\n\t4 : ack_flag_cnt [NUMERICAL]\n\t3 : fwd_act_data_pkts [NUMERICAL]\n\t2 : tot_bwd_pkts [NUMERICAL]\n\t2 : psh_flag_cnt [NUMERICAL]\n\t2 : pkt_len_min [NUMERICAL]\n\t1 : protocol [NUMERICAL]\n\nAttribute in nodes with depth <= 3:\n\t285 : fwd_seg_size_min [NUMERICAL]\n\t198 : init_fwd_win_byts [NUMERICAL]\n\t135 : dst_port [NUMERICAL]\n\t102 : bwd_iat_max [NUMERICAL]\n\t98 : flow_iat_min [NUMERICAL]\n\t98 : bwd_iat_mean [NUMERICAL]\n\t91 : fwd_pkts/s [NUMERICAL]\n\t84 : flow_pkts/s [NUMERICAL]\n\t79 : bwd_pkts/s [NUMERICAL]\n\t77 : flow_iat_std [NUMERICAL]\n\t75 : fwd_header_len [NUMERICAL]\n\t70 : flow_iat_mean [NUMERICAL]\n\t70 : flow_iat_max [NUMERICAL]\n\t68 : fwd_seg_size_avg [NUMERICAL]\n\t67 : fwd_iat_tot [NUMERICAL]\n\t65 : fwd_iat_mean [NUMERICAL]\n\t64 : fwd_iat_min [NUMERICAL]\n\t64 : fwd_iat_max [NUMERICAL]\n\t63 : flow_byts/s [NUMERICAL]\n\t63 : bwd_iat_min [NUMERICAL]\n\t59 : fwd_pkt_len_mean [NUMERICAL]\n\t59 : flow_duration [NUMERICAL]\n\t52 : fwd_pkt_len_max [NUMERICAL]\n\t51 : totlen_bwd_pkts [NUMERICAL]\n\t48 : init_bwd_win_byts [NUMERICAL]\n\t47 : fwd_pkt_len_min [NUMERICAL]\n\t46 : subflow_bwd_byts [NUMERICAL]\n\t45 : bwd_header_len [NUMERICAL]\n\t44 : fwd_iat_std [NUMERICAL]\n\t43 : bwd_pkt_len_mean [NUMERICAL]\n\t43 : bwd_iat_std [NUMERICAL]\n\t39 : pkt_len_var [NUMERICAL]\n\t39 : pkt_len_std [NUMERICAL]\n\t38 : totlen_fwd_pkts [NUMERICAL]\n\t37 : pkt_size_avg [NUMERICAL]\n\t37 : bwd_seg_size_avg [NUMERICAL]\n\t37 : bwd_pkt_len_max [NUMERICAL]\n\t34 : fwd_psh_flags [NUMERICAL]\n\t32 : pkt_len_max [NUMERICAL]\n\t30 : subflow_fwd_byts [NUMERICAL]\n\t28 : pkt_len_mean [NUMERICAL]\n\t28 : active_mean [NUMERICAL]\n\t27 : bwd_iat_tot [NUMERICAL]\n\t25 : fin_flag_cnt [NUMERICAL]\n\t25 : active_max [NUMERICAL]\n\t24 : tot_fwd_pkts [NUMERICAL]\n\t24 : syn_flag_cnt [NUMERICAL]\n\t23 : bwd_pkt_len_std [NUMERICAL]\n\t22 : idle_std [NUMERICAL]\n\t22 : active_min [NUMERICAL]\n\t20 : fwd_pkt_len_std [NUMERICAL]\n\t19 : subflow_fwd_pkts [NUMERICAL]\n\t19 : idle_mean [NUMERICAL]\n\t17 : ack_flag_cnt [NUMERICAL]\n\t16 : subflow_bwd_pkts [NUMERICAL]\n\t16 : idle_min [NUMERICAL]\n\t16 : idle_max [NUMERICAL]\n\t12 : down/up_ratio [NUMERICAL]\n\t11 : tot_bwd_pkts [NUMERICAL]\n\t10 : active_std [NUMERICAL]\n\t8 : psh_flag_cnt [NUMERICAL]\n\t8 : fwd_act_data_pkts [NUMERICAL]\n\t8 : bwd_pkt_len_min [NUMERICAL]\n\t4 : urg_flag_cnt [NUMERICAL]\n\t4 : pkt_len_min [NUMERICAL]\n\t3 : timestamp [CATEGORICAL]\n\t1 : protocol [NUMERICAL]\n\nAttribute in nodes with depth <= 5:\n\t511 : dst_port [NUMERICAL]\n\t490 : init_fwd_win_byts [NUMERICAL]\n\t433 : fwd_seg_size_min [NUMERICAL]\n\t230 : flow_iat_min [NUMERICAL]\n\t219 : fwd_pkts/s [NUMERICAL]\n\t204 : flow_pkts/s [NUMERICAL]\n\t178 : flow_iat_max [NUMERICAL]\n\t164 : fwd_iat_mean [NUMERICAL]\n\t162 : flow_duration [NUMERICAL]\n\t160 : fwd_iat_tot [NUMERICAL]\n\t160 : fwd_iat_max [NUMERICAL]\n\t156 : fwd_iat_min [NUMERICAL]\n\t149 : bwd_pkts/s [NUMERICAL]\n\t148 : flow_iat_mean [NUMERICAL]\n\t144 : flow_byts/s [NUMERICAL]\n\t143 : fwd_header_len [NUMERICAL]\n\t137 : fwd_seg_size_avg [NUMERICAL]\n\t131 : flow_iat_std [NUMERICAL]\n\t131 : bwd_iat_mean [NUMERICAL]\n\t126 : fwd_pkt_len_mean [NUMERICAL]\n\t126 : fwd_pkt_len_max [NUMERICAL]\n\t121 : bwd_iat_max [NUMERICAL]\n\t106 : init_bwd_win_byts [NUMERICAL]\n\t94 : fin_flag_cnt [NUMERICAL]\n\t93 : pkt_len_std [NUMERICAL]\n\t91 : fwd_pkt_len_min [NUMERICAL]\n\t89 : pkt_size_avg [NUMERICAL]\n\t89 : bwd_header_len [NUMERICAL]\n\t88 : pkt_len_var [NUMERICAL]\n\t86 : totlen_bwd_pkts [NUMERICAL]\n\t86 : fwd_iat_std [NUMERICAL]\n\t84 : totlen_fwd_pkts [NUMERICAL]\n\t83 : subflow_fwd_byts [NUMERICAL]\n\t81 : pkt_len_mean [NUMERICAL]\n\t79 : pkt_len_max [NUMERICAL]\n\t76 : subflow_bwd_byts [NUMERICAL]\n\t76 : bwd_iat_min [NUMERICAL]\n\t69 : bwd_pkt_len_mean [NUMERICAL]\n\t64 : ack_flag_cnt [NUMERICAL]\n\t62 : fwd_pkt_len_std [NUMERICAL]\n\t62 : bwd_seg_size_avg [NUMERICAL]\n\t60 : bwd_iat_std [NUMERICAL]\n\t57 : bwd_pkt_len_max [NUMERICAL]\n\t56 : syn_flag_cnt [NUMERICAL]\n\t54 : fwd_psh_flags [NUMERICAL]\n\t54 : bwd_pkt_len_std [NUMERICAL]\n\t45 : bwd_iat_tot [NUMERICAL]\n\t41 : subflow_bwd_pkts [NUMERICAL]\n\t40 : subflow_fwd_pkts [NUMERICAL]\n\t38 : tot_fwd_pkts [NUMERICAL]\n\t35 : active_mean [NUMERICAL]\n\t34 : idle_max [NUMERICAL]\n\t30 : tot_bwd_pkts [NUMERICAL]\n\t30 : active_min [NUMERICAL]\n\t29 : active_max [NUMERICAL]\n\t28 : psh_flag_cnt [NUMERICAL]\n\t26 : idle_mean [NUMERICAL]\n\t25 : idle_std [NUMERICAL]\n\t22 : idle_min [NUMERICAL]\n\t22 : fwd_act_data_pkts [NUMERICAL]\n\t22 : down/up_ratio [NUMERICAL]\n\t19 : urg_flag_cnt [NUMERICAL]\n\t17 : timestamp [CATEGORICAL]\n\t14 : active_std [NUMERICAL]\n\t11 : bwd_pkt_len_min [NUMERICAL]\n\t8 : pkt_len_min [NUMERICAL]\n\t2 : protocol [NUMERICAL]\n\nCondition type in nodes:\n\t13297 : HigherCondition\n\t99 : ContainsCondition\n\t12 : ContainsBitmapCondition\nCondition type in nodes with depth <= 0:\n\t300 : HigherCondition\nCondition type in nodes with depth <= 1:\n\t900 : HigherCondition\nCondition type in nodes with depth <= 2:\n\t1911 : HigherCondition\nCondition type in nodes with depth <= 3:\n\t3213 : HigherCondition\n\t3 : ContainsBitmapCondition\nCondition type in nodes with depth <= 5:\n\t6783 : HigherCondition\n\t9 : ContainsCondition\n\t8 : ContainsBitmapCondition\nNode format: NOT_SET\n\nTraining OOB:\n\ttrees: 1, Out-of-bag evaluation: accuracy:0.999958 logloss:0.00152823\n\ttrees: 11, Out-of-bag evaluation: accuracy:0.999974 logloss:0.000371098\n\ttrees: 21, Out-of-bag evaluation: accuracy:0.999984 logloss:0.000116897\n\ttrees: 31, Out-of-bag evaluation: accuracy:0.999984 logloss:6.43326e-05\n\ttrees: 41, Out-of-bag evaluation: accuracy:0.999986 logloss:6.26781e-05\n\ttrees: 51, Out-of-bag evaluation: accuracy:0.999987 logloss:6.16098e-05\n\ttrees: 61, Out-of-bag evaluation: accuracy:0.999987 logloss:5.90725e-05\n\ttrees: 71, Out-of-bag evaluation: accuracy:0.999989 logloss:5.90699e-05\n\ttrees: 81, Out-of-bag evaluation: accuracy:0.999987 logloss:5.93677e-05\n\ttrees: 91, Out-of-bag evaluation: accuracy:0.999989 logloss:5.82467e-05\n\ttrees: 101, Out-of-bag evaluation: accuracy:0.999989 logloss:5.72201e-05\n\ttrees: 111, Out-of-bag evaluation: accuracy:0.999991 logloss:5.76986e-05\n\ttrees: 121, Out-of-bag evaluation: accuracy:0.99999 logloss:5.72194e-05\n\ttrees: 131, Out-of-bag evaluation: accuracy:0.99999 logloss:5.82669e-05\n\ttrees: 141, Out-of-bag evaluation: accuracy:0.999989 logloss:5.85682e-05\n\ttrees: 151, Out-of-bag evaluation: accuracy:0.99999 logloss:5.92311e-05\n\ttrees: 161, Out-of-bag evaluation: accuracy:0.99999 logloss:5.92355e-05\n\ttrees: 171, Out-of-bag evaluation: accuracy:0.999989 logloss:6.00446e-05\n\ttrees: 181, Out-of-bag evaluation: accuracy:0.999991 logloss:6.05264e-05\n\ttrees: 191, Out-of-bag evaluation: accuracy:0.999986 logloss:6.01335e-05\n\ttrees: 201, Out-of-bag evaluation: accuracy:0.999984 logloss:6.08181e-05\n\ttrees: 211, Out-of-bag evaluation: accuracy:0.999987 logloss:6.05704e-05\n\ttrees: 221, Out-of-bag evaluation: accuracy:0.999987 logloss:6.02536e-05\n\ttrees: 231, Out-of-bag evaluation: accuracy:0.999989 logloss:5.98425e-05\n\ttrees: 241, Out-of-bag evaluation: accuracy:0.999987 logloss:5.97918e-05\n\ttrees: 251, Out-of-bag evaluation: accuracy:0.99999 logloss:5.97172e-05\n\ttrees: 261, Out-of-bag evaluation: accuracy:0.99999 logloss:5.98936e-05\n\ttrees: 271, Out-of-bag evaluation: accuracy:0.999989 logloss:6.01438e-05\n\ttrees: 281, Out-of-bag evaluation: accuracy:0.999989 logloss:6.02035e-05\n\ttrees: 291, Out-of-bag evaluation: accuracy:0.999989 logloss:6.03442e-05\n\ttrees: 300, Out-of-bag evaluation: accuracy:0.999989 logloss:5.98876e-05\n\n"
     ]
    }
   ],
   "source": [
    "# Erstellen einer Bilanz für das trainierte Modell\n",
    "model.summary()"
   ]
  },
  {
   "cell_type": "code",
   "execution_count": 24,
   "metadata": {},
   "outputs": [
    {
     "output_type": "execute_result",
     "data": {
      "text/plain": [
       "{'NUM_AS_ROOT': [(\"bwd_iat_max\" (1; #8), 44.0),\n",
       "  (\"bwd_iat_mean\" (1; #9), 33.0),\n",
       "  (\"bwd_iat_min\" (1; #10), 32.0),\n",
       "  (\"fwd_seg_size_min\" (1; #51), 31.0),\n",
       "  (\"bwd_iat_std\" (1; #11), 25.0),\n",
       "  (\"init_fwd_win_byts\" (1; #58), 23.0),\n",
       "  (\"flow_iat_std\" (1; #32), 20.0),\n",
       "  (\"active_max\" (1; #1), 14.0),\n",
       "  (\"active_mean\" (1; #2), 14.0),\n",
       "  (\"idle_std\" (1; #56), 13.0),\n",
       "  (\"active_min\" (1; #3), 11.0),\n",
       "  (\"active_std\" (1; #4), 6.0),\n",
       "  (\"flow_iat_mean\" (1; #30), 5.0),\n",
       "  (\"fwd_iat_max\" (1; #38), 5.0),\n",
       "  (\"idle_mean\" (1; #54), 4.0),\n",
       "  (\"flow_pkts/s\" (1; #33), 4.0),\n",
       "  (\"fwd_iat_mean\" (1; #39), 4.0),\n",
       "  (\"subflow_bwd_byts\" (1; #68), 3.0),\n",
       "  (\"idle_max\" (1; #53), 2.0),\n",
       "  (\"fwd_header_len\" (1; #37), 1.0),\n",
       "  (\"fwd_pkt_len_mean\" (1; #44), 1.0),\n",
       "  (\"subflow_fwd_byts\" (1; #70), 1.0),\n",
       "  (\"totlen_fwd_pkts\" (1; #77), 1.0),\n",
       "  (\"flow_iat_max\" (1; #29), 1.0),\n",
       "  (\"bwd_iat_tot\" (1; #12), 1.0),\n",
       "  (\"flow_duration\" (1; #28), 1.0)]}"
      ]
     },
     "metadata": {},
     "execution_count": 24
    }
   ],
   "source": [
    "# Erstellen der Feature Importance Kriterien aus Sicht des TensorFlow Modells\n",
    "model.make_inspector().variable_importances()"
   ]
  }
 ]
}