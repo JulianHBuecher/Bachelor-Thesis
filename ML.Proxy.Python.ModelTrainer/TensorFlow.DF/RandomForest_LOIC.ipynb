{
 "metadata": {
  "language_info": {
   "codemirror_mode": {
    "name": "ipython",
    "version": 3
   },
   "file_extension": ".py",
   "mimetype": "text/x-python",
   "name": "python",
   "nbconvert_exporter": "python",
   "pygments_lexer": "ipython3",
   "version": "3.8.5"
  },
  "orig_nbformat": 4,
  "kernelspec": {
   "name": "ml.proxy.python.modeltrainer",
   "display_name": "Python 3.8.5 64-bit"
  },
  "interpreter": {
   "hash": "31f2aee4e71d21fbe5cf8b01ff0e069b9275f58929596ceb00d14d90e3e16cd6"
  }
 },
 "nbformat": 4,
 "nbformat_minor": 2,
 "cells": [
  {
   "cell_type": "code",
   "execution_count": 38,
   "metadata": {},
   "outputs": [],
   "source": [
    "\n",
    "###############################################################################\n",
    "# Random Forest Classification Model (TensorFlow)                             #\n",
    "# For LOIC Dataset                                                            #\n",
    "# Based on the Implementation of:                                             #\n",
    "# https://www.tensorflow.org/decision_forests/tutorials/beginner_colab        #\n",
    "###############################################################################\n"
   ]
  },
  {
   "cell_type": "code",
   "execution_count": 39,
   "metadata": {},
   "outputs": [
    {
     "output_type": "stream",
     "name": "stdout",
     "text": [
      "Requirement already satisfied: numpy==1.19.2 in /home/julianbuecher/Projects/Bachelor-Thesis/ML.Proxy.Python.ModelTrainer/lib/python3.8/site-packages (1.19.2)\n",
      "Requirement already satisfied: six==1.15.0 in /home/julianbuecher/Projects/Bachelor-Thesis/ML.Proxy.Python.ModelTrainer/lib/python3.8/site-packages (1.15.0)\n",
      "Requirement already satisfied: wheel==0.35 in /home/julianbuecher/Projects/Bachelor-Thesis/ML.Proxy.Python.ModelTrainer/lib/python3.8/site-packages (0.35.0)\n",
      "Requirement already satisfied: packaging>=20.2 in /home/julianbuecher/Projects/Bachelor-Thesis/ML.Proxy.Python.ModelTrainer/lib/python3.8/site-packages (from wheel==0.35) (20.9)\n",
      "Requirement already satisfied: pyparsing>=2.0.2 in /home/julianbuecher/Projects/Bachelor-Thesis/ML.Proxy.Python.ModelTrainer/lib/python3.8/site-packages (from packaging>=20.2->wheel==0.35) (2.4.7)\n",
      "Requirement already satisfied: tensorflow_decision_forests in /home/julianbuecher/Projects/Bachelor-Thesis/ML.Proxy.Python.ModelTrainer/lib/python3.8/site-packages (0.1.7)\n",
      "Requirement already satisfied: wheel in /home/julianbuecher/Projects/Bachelor-Thesis/ML.Proxy.Python.ModelTrainer/lib/python3.8/site-packages (from tensorflow_decision_forests) (0.35.0)\n",
      "Requirement already satisfied: pandas in /home/julianbuecher/Projects/Bachelor-Thesis/ML.Proxy.Python.ModelTrainer/lib/python3.8/site-packages (from tensorflow_decision_forests) (1.2.5)\n",
      "Requirement already satisfied: absl-py in /home/julianbuecher/Projects/Bachelor-Thesis/ML.Proxy.Python.ModelTrainer/lib/python3.8/site-packages (from tensorflow_decision_forests) (0.13.0)\n",
      "Requirement already satisfied: six in /home/julianbuecher/Projects/Bachelor-Thesis/ML.Proxy.Python.ModelTrainer/lib/python3.8/site-packages (from tensorflow_decision_forests) (1.15.0)\n",
      "Requirement already satisfied: numpy in /home/julianbuecher/Projects/Bachelor-Thesis/ML.Proxy.Python.ModelTrainer/lib/python3.8/site-packages (from tensorflow_decision_forests) (1.19.2)\n",
      "Requirement already satisfied: tensorflow~=2.5 in /home/julianbuecher/Projects/Bachelor-Thesis/ML.Proxy.Python.ModelTrainer/lib/python3.8/site-packages (from tensorflow_decision_forests) (2.5.0)\n",
      "Requirement already satisfied: packaging>=20.2 in /home/julianbuecher/Projects/Bachelor-Thesis/ML.Proxy.Python.ModelTrainer/lib/python3.8/site-packages (from wheel->tensorflow_decision_forests) (20.9)\n",
      "Requirement already satisfied: python-dateutil>=2.7.3 in /home/julianbuecher/Projects/Bachelor-Thesis/ML.Proxy.Python.ModelTrainer/lib/python3.8/site-packages (from pandas->tensorflow_decision_forests) (2.8.1)\n",
      "Requirement already satisfied: pytz>=2017.3 in /home/julianbuecher/Projects/Bachelor-Thesis/ML.Proxy.Python.ModelTrainer/lib/python3.8/site-packages (from pandas->tensorflow_decision_forests) (2021.1)\n",
      "Requirement already satisfied: h5py~=3.1.0 in /home/julianbuecher/Projects/Bachelor-Thesis/ML.Proxy.Python.ModelTrainer/lib/python3.8/site-packages (from tensorflow~=2.5->tensorflow_decision_forests) (3.1.0)\n",
      "Requirement already satisfied: termcolor~=1.1.0 in /home/julianbuecher/Projects/Bachelor-Thesis/ML.Proxy.Python.ModelTrainer/lib/python3.8/site-packages (from tensorflow~=2.5->tensorflow_decision_forests) (1.1.0)\n",
      "Requirement already satisfied: keras-nightly~=2.5.0.dev in /home/julianbuecher/Projects/Bachelor-Thesis/ML.Proxy.Python.ModelTrainer/lib/python3.8/site-packages (from tensorflow~=2.5->tensorflow_decision_forests) (2.5.0.dev2021032900)\n",
      "Requirement already satisfied: flatbuffers~=1.12.0 in /home/julianbuecher/Projects/Bachelor-Thesis/ML.Proxy.Python.ModelTrainer/lib/python3.8/site-packages (from tensorflow~=2.5->tensorflow_decision_forests) (1.12)\n",
      "Requirement already satisfied: tensorboard~=2.5 in /home/julianbuecher/Projects/Bachelor-Thesis/ML.Proxy.Python.ModelTrainer/lib/python3.8/site-packages (from tensorflow~=2.5->tensorflow_decision_forests) (2.5.0)\n",
      "Requirement already satisfied: keras-preprocessing~=1.1.2 in /home/julianbuecher/Projects/Bachelor-Thesis/ML.Proxy.Python.ModelTrainer/lib/python3.8/site-packages (from tensorflow~=2.5->tensorflow_decision_forests) (1.1.2)\n",
      "Requirement already satisfied: astunparse~=1.6.3 in /home/julianbuecher/Projects/Bachelor-Thesis/ML.Proxy.Python.ModelTrainer/lib/python3.8/site-packages (from tensorflow~=2.5->tensorflow_decision_forests) (1.6.3)\n",
      "Requirement already satisfied: google-pasta~=0.2 in /home/julianbuecher/Projects/Bachelor-Thesis/ML.Proxy.Python.ModelTrainer/lib/python3.8/site-packages (from tensorflow~=2.5->tensorflow_decision_forests) (0.2.0)\n",
      "Requirement already satisfied: wrapt~=1.12.1 in /home/julianbuecher/Projects/Bachelor-Thesis/ML.Proxy.Python.ModelTrainer/lib/python3.8/site-packages (from tensorflow~=2.5->tensorflow_decision_forests) (1.12.1)\n",
      "Requirement already satisfied: grpcio~=1.34.0 in /home/julianbuecher/Projects/Bachelor-Thesis/ML.Proxy.Python.ModelTrainer/lib/python3.8/site-packages (from tensorflow~=2.5->tensorflow_decision_forests) (1.34.1)\n",
      "Requirement already satisfied: typing-extensions~=3.7.4 in /home/julianbuecher/Projects/Bachelor-Thesis/ML.Proxy.Python.ModelTrainer/lib/python3.8/site-packages (from tensorflow~=2.5->tensorflow_decision_forests) (3.7.4.3)\n",
      "Requirement already satisfied: opt-einsum~=3.3.0 in /home/julianbuecher/Projects/Bachelor-Thesis/ML.Proxy.Python.ModelTrainer/lib/python3.8/site-packages (from tensorflow~=2.5->tensorflow_decision_forests) (3.3.0)\n",
      "Requirement already satisfied: tensorflow-estimator<2.6.0,>=2.5.0rc0 in /home/julianbuecher/Projects/Bachelor-Thesis/ML.Proxy.Python.ModelTrainer/lib/python3.8/site-packages (from tensorflow~=2.5->tensorflow_decision_forests) (2.5.0)\n",
      "Requirement already satisfied: protobuf>=3.9.2 in /home/julianbuecher/Projects/Bachelor-Thesis/ML.Proxy.Python.ModelTrainer/lib/python3.8/site-packages (from tensorflow~=2.5->tensorflow_decision_forests) (3.17.3)\n",
      "Requirement already satisfied: gast==0.4.0 in /home/julianbuecher/Projects/Bachelor-Thesis/ML.Proxy.Python.ModelTrainer/lib/python3.8/site-packages (from tensorflow~=2.5->tensorflow_decision_forests) (0.4.0)\n",
      "Requirement already satisfied: pyparsing>=2.0.2 in /home/julianbuecher/Projects/Bachelor-Thesis/ML.Proxy.Python.ModelTrainer/lib/python3.8/site-packages (from packaging>=20.2->wheel->tensorflow_decision_forests) (2.4.7)\n",
      "Requirement already satisfied: markdown>=2.6.8 in /home/julianbuecher/Projects/Bachelor-Thesis/ML.Proxy.Python.ModelTrainer/lib/python3.8/site-packages (from tensorboard~=2.5->tensorflow~=2.5->tensorflow_decision_forests) (3.3.4)\n",
      "Requirement already satisfied: tensorboard-data-server<0.7.0,>=0.6.0 in /home/julianbuecher/Projects/Bachelor-Thesis/ML.Proxy.Python.ModelTrainer/lib/python3.8/site-packages (from tensorboard~=2.5->tensorflow~=2.5->tensorflow_decision_forests) (0.6.1)\n",
      "Requirement already satisfied: tensorboard-plugin-wit>=1.6.0 in /home/julianbuecher/Projects/Bachelor-Thesis/ML.Proxy.Python.ModelTrainer/lib/python3.8/site-packages (from tensorboard~=2.5->tensorflow~=2.5->tensorflow_decision_forests) (1.8.0)\n",
      "Requirement already satisfied: setuptools>=41.0.0 in /home/julianbuecher/Projects/Bachelor-Thesis/ML.Proxy.Python.ModelTrainer/lib/python3.8/site-packages (from tensorboard~=2.5->tensorflow~=2.5->tensorflow_decision_forests) (44.0.0)\n",
      "Requirement already satisfied: google-auth<2,>=1.6.3 in /home/julianbuecher/Projects/Bachelor-Thesis/ML.Proxy.Python.ModelTrainer/lib/python3.8/site-packages (from tensorboard~=2.5->tensorflow~=2.5->tensorflow_decision_forests) (1.32.0)\n",
      "Requirement already satisfied: werkzeug>=0.11.15 in /home/julianbuecher/Projects/Bachelor-Thesis/ML.Proxy.Python.ModelTrainer/lib/python3.8/site-packages (from tensorboard~=2.5->tensorflow~=2.5->tensorflow_decision_forests) (2.0.1)\n",
      "Requirement already satisfied: google-auth-oauthlib<0.5,>=0.4.1 in /home/julianbuecher/Projects/Bachelor-Thesis/ML.Proxy.Python.ModelTrainer/lib/python3.8/site-packages (from tensorboard~=2.5->tensorflow~=2.5->tensorflow_decision_forests) (0.4.4)\n",
      "Requirement already satisfied: requests<3,>=2.21.0 in /home/julianbuecher/Projects/Bachelor-Thesis/ML.Proxy.Python.ModelTrainer/lib/python3.8/site-packages (from tensorboard~=2.5->tensorflow~=2.5->tensorflow_decision_forests) (2.25.1)\n",
      "Requirement already satisfied: rsa<5,>=3.1.4; python_version >= \"3.6\" in /home/julianbuecher/Projects/Bachelor-Thesis/ML.Proxy.Python.ModelTrainer/lib/python3.8/site-packages (from google-auth<2,>=1.6.3->tensorboard~=2.5->tensorflow~=2.5->tensorflow_decision_forests) (4.7.2)\n",
      "Requirement already satisfied: pyasn1-modules>=0.2.1 in /home/julianbuecher/Projects/Bachelor-Thesis/ML.Proxy.Python.ModelTrainer/lib/python3.8/site-packages (from google-auth<2,>=1.6.3->tensorboard~=2.5->tensorflow~=2.5->tensorflow_decision_forests) (0.2.8)\n",
      "Requirement already satisfied: cachetools<5.0,>=2.0.0 in /home/julianbuecher/Projects/Bachelor-Thesis/ML.Proxy.Python.ModelTrainer/lib/python3.8/site-packages (from google-auth<2,>=1.6.3->tensorboard~=2.5->tensorflow~=2.5->tensorflow_decision_forests) (4.2.2)\n",
      "Requirement already satisfied: requests-oauthlib>=0.7.0 in /home/julianbuecher/Projects/Bachelor-Thesis/ML.Proxy.Python.ModelTrainer/lib/python3.8/site-packages (from google-auth-oauthlib<0.5,>=0.4.1->tensorboard~=2.5->tensorflow~=2.5->tensorflow_decision_forests) (1.3.0)\n",
      "Requirement already satisfied: certifi>=2017.4.17 in /home/julianbuecher/Projects/Bachelor-Thesis/ML.Proxy.Python.ModelTrainer/lib/python3.8/site-packages (from requests<3,>=2.21.0->tensorboard~=2.5->tensorflow~=2.5->tensorflow_decision_forests) (2021.5.30)\n",
      "Requirement already satisfied: idna<3,>=2.5 in /home/julianbuecher/Projects/Bachelor-Thesis/ML.Proxy.Python.ModelTrainer/lib/python3.8/site-packages (from requests<3,>=2.21.0->tensorboard~=2.5->tensorflow~=2.5->tensorflow_decision_forests) (2.10)\n",
      "Requirement already satisfied: urllib3<1.27,>=1.21.1 in /home/julianbuecher/Projects/Bachelor-Thesis/ML.Proxy.Python.ModelTrainer/lib/python3.8/site-packages (from requests<3,>=2.21.0->tensorboard~=2.5->tensorflow~=2.5->tensorflow_decision_forests) (1.26.6)\n",
      "Requirement already satisfied: chardet<5,>=3.0.2 in /home/julianbuecher/Projects/Bachelor-Thesis/ML.Proxy.Python.ModelTrainer/lib/python3.8/site-packages (from requests<3,>=2.21.0->tensorboard~=2.5->tensorflow~=2.5->tensorflow_decision_forests) (4.0.0)\n",
      "Requirement already satisfied: pyasn1>=0.1.3 in /home/julianbuecher/Projects/Bachelor-Thesis/ML.Proxy.Python.ModelTrainer/lib/python3.8/site-packages (from rsa<5,>=3.1.4; python_version >= \"3.6\"->google-auth<2,>=1.6.3->tensorboard~=2.5->tensorflow~=2.5->tensorflow_decision_forests) (0.4.8)\n",
      "Requirement already satisfied: oauthlib>=3.0.0 in /home/julianbuecher/Projects/Bachelor-Thesis/ML.Proxy.Python.ModelTrainer/lib/python3.8/site-packages (from requests-oauthlib>=0.7.0->google-auth-oauthlib<0.5,>=0.4.1->tensorboard~=2.5->tensorflow~=2.5->tensorflow_decision_forests) (3.1.1)\n",
      "Requirement already satisfied: pandas in /home/julianbuecher/Projects/Bachelor-Thesis/ML.Proxy.Python.ModelTrainer/lib/python3.8/site-packages (1.2.5)\n",
      "Requirement already satisfied: python-dateutil>=2.7.3 in /home/julianbuecher/Projects/Bachelor-Thesis/ML.Proxy.Python.ModelTrainer/lib/python3.8/site-packages (from pandas) (2.8.1)\n",
      "Requirement already satisfied: pytz>=2017.3 in /home/julianbuecher/Projects/Bachelor-Thesis/ML.Proxy.Python.ModelTrainer/lib/python3.8/site-packages (from pandas) (2021.1)\n",
      "Requirement already satisfied: numpy>=1.16.5 in /home/julianbuecher/Projects/Bachelor-Thesis/ML.Proxy.Python.ModelTrainer/lib/python3.8/site-packages (from pandas) (1.19.2)\n",
      "Requirement already satisfied: six>=1.5 in /home/julianbuecher/Projects/Bachelor-Thesis/ML.Proxy.Python.ModelTrainer/lib/python3.8/site-packages (from python-dateutil>=2.7.3->pandas) (1.15.0)\n",
      "Requirement already satisfied: wurlitzer in /home/julianbuecher/Projects/Bachelor-Thesis/ML.Proxy.Python.ModelTrainer/lib/python3.8/site-packages (2.1.0)\n",
      "Requirement already satisfied: matplotlib in /home/julianbuecher/Projects/Bachelor-Thesis/ML.Proxy.Python.ModelTrainer/lib/python3.8/site-packages (3.4.2)\n",
      "Requirement already satisfied: pillow>=6.2.0 in /home/julianbuecher/Projects/Bachelor-Thesis/ML.Proxy.Python.ModelTrainer/lib/python3.8/site-packages (from matplotlib) (8.2.0)\n",
      "Requirement already satisfied: pyparsing>=2.2.1 in /home/julianbuecher/Projects/Bachelor-Thesis/ML.Proxy.Python.ModelTrainer/lib/python3.8/site-packages (from matplotlib) (2.4.7)\n",
      "Requirement already satisfied: cycler>=0.10 in /home/julianbuecher/Projects/Bachelor-Thesis/ML.Proxy.Python.ModelTrainer/lib/python3.8/site-packages (from matplotlib) (0.10.0)\n",
      "Requirement already satisfied: numpy>=1.16 in /home/julianbuecher/Projects/Bachelor-Thesis/ML.Proxy.Python.ModelTrainer/lib/python3.8/site-packages (from matplotlib) (1.19.2)\n",
      "Requirement already satisfied: python-dateutil>=2.7 in /home/julianbuecher/Projects/Bachelor-Thesis/ML.Proxy.Python.ModelTrainer/lib/python3.8/site-packages (from matplotlib) (2.8.1)\n",
      "Requirement already satisfied: kiwisolver>=1.0.1 in /home/julianbuecher/Projects/Bachelor-Thesis/ML.Proxy.Python.ModelTrainer/lib/python3.8/site-packages (from matplotlib) (1.3.1)\n",
      "Requirement already satisfied: six in /home/julianbuecher/Projects/Bachelor-Thesis/ML.Proxy.Python.ModelTrainer/lib/python3.8/site-packages (from cycler>=0.10->matplotlib) (1.15.0)\n",
      "Requirement already satisfied: onnxruntime in /home/julianbuecher/Projects/Bachelor-Thesis/ML.Proxy.Python.ModelTrainer/lib/python3.8/site-packages (1.8.0)\n",
      "Requirement already satisfied: protobuf in /home/julianbuecher/Projects/Bachelor-Thesis/ML.Proxy.Python.ModelTrainer/lib/python3.8/site-packages (from onnxruntime) (3.17.3)\n",
      "Requirement already satisfied: numpy>=1.16.6 in /home/julianbuecher/Projects/Bachelor-Thesis/ML.Proxy.Python.ModelTrainer/lib/python3.8/site-packages (from onnxruntime) (1.19.2)\n",
      "Requirement already satisfied: flatbuffers in /home/julianbuecher/Projects/Bachelor-Thesis/ML.Proxy.Python.ModelTrainer/lib/python3.8/site-packages (from onnxruntime) (1.12)\n",
      "Requirement already satisfied: six>=1.9 in /home/julianbuecher/Projects/Bachelor-Thesis/ML.Proxy.Python.ModelTrainer/lib/python3.8/site-packages (from protobuf->onnxruntime) (1.15.0)\n",
      "Requirement already satisfied: keras2onnx in /home/julianbuecher/Projects/Bachelor-Thesis/ML.Proxy.Python.ModelTrainer/lib/python3.8/site-packages (1.7.0)\n",
      "Requirement already satisfied: numpy in /home/julianbuecher/Projects/Bachelor-Thesis/ML.Proxy.Python.ModelTrainer/lib/python3.8/site-packages (from keras2onnx) (1.19.2)\n",
      "Requirement already satisfied: protobuf in /home/julianbuecher/Projects/Bachelor-Thesis/ML.Proxy.Python.ModelTrainer/lib/python3.8/site-packages (from keras2onnx) (3.17.3)\n",
      "Requirement already satisfied: fire in /home/julianbuecher/Projects/Bachelor-Thesis/ML.Proxy.Python.ModelTrainer/lib/python3.8/site-packages (from keras2onnx) (0.4.0)\n",
      "Requirement already satisfied: requests in /home/julianbuecher/Projects/Bachelor-Thesis/ML.Proxy.Python.ModelTrainer/lib/python3.8/site-packages (from keras2onnx) (2.25.1)\n",
      "Requirement already satisfied: onnx in /home/julianbuecher/Projects/Bachelor-Thesis/ML.Proxy.Python.ModelTrainer/lib/python3.8/site-packages (from keras2onnx) (1.9.0)\n",
      "Requirement already satisfied: onnxconverter-common>=1.7.0 in /home/julianbuecher/Projects/Bachelor-Thesis/ML.Proxy.Python.ModelTrainer/lib/python3.8/site-packages (from keras2onnx) (1.8.1)\n",
      "Requirement already satisfied: six>=1.9 in /home/julianbuecher/Projects/Bachelor-Thesis/ML.Proxy.Python.ModelTrainer/lib/python3.8/site-packages (from protobuf->keras2onnx) (1.15.0)\n",
      "Requirement already satisfied: termcolor in /home/julianbuecher/Projects/Bachelor-Thesis/ML.Proxy.Python.ModelTrainer/lib/python3.8/site-packages (from fire->keras2onnx) (1.1.0)\n",
      "Requirement already satisfied: urllib3<1.27,>=1.21.1 in /home/julianbuecher/Projects/Bachelor-Thesis/ML.Proxy.Python.ModelTrainer/lib/python3.8/site-packages (from requests->keras2onnx) (1.26.6)\n",
      "Requirement already satisfied: chardet<5,>=3.0.2 in /home/julianbuecher/Projects/Bachelor-Thesis/ML.Proxy.Python.ModelTrainer/lib/python3.8/site-packages (from requests->keras2onnx) (4.0.0)\n",
      "Requirement already satisfied: idna<3,>=2.5 in /home/julianbuecher/Projects/Bachelor-Thesis/ML.Proxy.Python.ModelTrainer/lib/python3.8/site-packages (from requests->keras2onnx) (2.10)\n",
      "Requirement already satisfied: certifi>=2017.4.17 in /home/julianbuecher/Projects/Bachelor-Thesis/ML.Proxy.Python.ModelTrainer/lib/python3.8/site-packages (from requests->keras2onnx) (2021.5.30)\n",
      "Requirement already satisfied: typing-extensions>=3.6.2.1 in /home/julianbuecher/Projects/Bachelor-Thesis/ML.Proxy.Python.ModelTrainer/lib/python3.8/site-packages (from onnx->keras2onnx) (3.7.4.3)\n"
     ]
    }
   ],
   "source": [
    "# Installieren aller benötigten Pakete\n",
    "!pip install numpy==1.19.2\n",
    "!pip install six==1.15.0\n",
    "!pip install wheel==0.35\n",
    "!pip install tensorflow_decision_forests\n",
    "!pip install pandas\n",
    "!pip install wurlitzer\n",
    "!pip install matplotlib\n",
    "!pip install onnxruntime\n",
    "!pip install keras2onnx"
   ]
  },
  {
   "cell_type": "code",
   "execution_count": 40,
   "metadata": {},
   "outputs": [],
   "source": [
    "# Laden der benötigten Python Pakete\n",
    "import os\n",
    "# os.environ[\"TF_KERAS\"]='1'\n",
    "import pandas as pd\n",
    "import numpy as np\n",
    "import tensorflow_decision_forests as tfdf\n",
    "import tensorflow as tf\n",
    "from wurlitzer import sys_pipes\n",
    "import matplotlib.pyplot as plt\n",
    "import onnx\n",
    "import keras2onnx as k2o"
   ]
  },
  {
   "cell_type": "code",
   "execution_count": 41,
   "metadata": {},
   "outputs": [
    {
     "output_type": "stream",
     "name": "stdout",
     "text": [
      "Found TensorFlow Decision Forests v0.1.7\n"
     ]
    }
   ],
   "source": [
    "# Prüfung der installierten TensorFlow Decision Forests Version\n",
    "print(f\"Found TensorFlow Decision Forests v{tfdf.__version__}\")"
   ]
  },
  {
   "cell_type": "code",
   "execution_count": 42,
   "metadata": {},
   "outputs": [],
   "source": [
    "# Laden der Netzwerk Traffic Daten für den LOIC Angriff\n",
    "data_LOIC = pd.read_csv('../Data/Tuesday-20-02-2018_LOIC-Attack.csv')\n",
    "# Umbenennen der Spalten für bessere Kompatibiltät mit TensorFlow\n",
    "data_LOIC.rename(columns={\n",
    "    'Bwd Pkt Len Std':'bwd_pkt_len_std',\n",
    "    'Pkt Size Avg':'pkt_size_avg',\n",
    "    'Flow Duration':'flow_duration',\n",
    "    'Flow IAT Std':'flow_iat_std',\n",
    "    'Label':'label'}, \n",
    "    inplace=True)"
   ]
  },
  {
   "cell_type": "code",
   "execution_count": 43,
   "metadata": {},
   "outputs": [],
   "source": [
    "# Festlegen der Label-Spalte innerhalb des Datasets\n",
    "label = 'label'"
   ]
  },
  {
   "cell_type": "code",
   "execution_count": 44,
   "metadata": {},
   "outputs": [
    {
     "output_type": "stream",
     "name": "stdout",
     "text": [
      "5565192 examples in training, 2383556 examples for testing.\n"
     ]
    }
   ],
   "source": [
    "# Aufteilen des Datasets in Training- und Test-Daten\n",
    "def split_dataset(dataset,  test_ratio=0.30):\n",
    "    \"\"\"Splits a panda dataframe in two dataframes.\"\"\"\n",
    "    test_indices = np.random.rand(len(dataset)) < test_ratio\n",
    "    return dataset[~test_indices], dataset[test_indices]\n",
    "\n",
    "training_data_LOIC, testing_data_LOIC = split_dataset(data_LOIC)\n",
    "\n",
    "print(\"{} examples in training, {} examples for testing.\".format(\n",
    "    len(training_data_LOIC), len(testing_data_LOIC)))"
   ]
  },
  {
   "cell_type": "code",
   "execution_count": 45,
   "metadata": {},
   "outputs": [
    {
     "output_type": "stream",
     "name": "stdout",
     "text": [
      "Converting Panda Dataframe into TensorFlow Dataset...\n"
     ]
    }
   ],
   "source": [
    "# Konvertieren des Panda Dataframes in ein TensorFlow Dataset\n",
    "print(\"Converting Panda Dataframe into TensorFlow Dataset...\")\n",
    "training_dataset_LOIC = tfdf.keras.pd_dataframe_to_tf_dataset(training_data_LOIC, label=label)\n",
    "testing_dataset_LOIC = tfdf.keras.pd_dataframe_to_tf_dataset(testing_data_LOIC, label=label)"
   ]
  },
  {
   "cell_type": "code",
   "execution_count": 46,
   "metadata": {},
   "outputs": [],
   "source": [
    "# Erstellen des Random Forest Modells\n",
    "model = tfdf.keras.RandomForestModel()\n",
    "model.compile(metrics=[\"accuracy\"])"
   ]
  },
  {
   "cell_type": "code",
   "execution_count": 47,
   "metadata": {},
   "outputs": [
    {
     "output_type": "stream",
     "name": "stdout",
     "text": [
      "Training the Model...\n",
      "86957/86957 [==============================] - 73s 833us/step\n",
      "[INFO kernel.cc:746] Start Yggdrasil model training\n",
      "[INFO kernel.cc:747] Collect training examples\n",
      "[INFO kernel.cc:392] Number of batches: 86957\n",
      "[INFO kernel.cc:393] Number of examples: 5565192\n",
      "[INFO kernel.cc:769] Dataset:\n",
      "Number of records: 5565192\n",
      "Number of columns: 5\n",
      "\n",
      "Number of columns by type:\n",
      "\tNUMERICAL: 4 (80%)\n",
      "\tCATEGORICAL: 1 (20%)\n",
      "\n",
      "Columns:\n",
      "\n",
      "NUMERICAL: 4 (80%)\n",
      "\t0: \"bwd_pkt_len_std\" NUMERICAL mean:142.4 min:0 max:20469.6 sd:217.746\n",
      "\t1: \"flow_duration\" NUMERICAL mean:1.35374e+07 min:0 max:1.2e+08 sd:3.24438e+07\n",
      "\t2: \"flow_iat_std\" NUMERICAL mean:1.13545e+06 min:0 max:8.48081e+07 sd:3.80227e+06\n",
      "\t3: \"pkt_size_avg\" NUMERICAL mean:94.1061 min:0 max:8225.8 sd:106.205\n",
      "\n",
      "CATEGORICAL: 1 (20%)\n",
      "\t4: \"__LABEL\" CATEGORICAL integerized vocab-size:3 no-ood-item\n",
      "\n",
      "Terminology:\n",
      "\tnas: Number of non-available (i.e. missing) values.\n",
      "\tood: Out of dictionary.\n",
      "\tmanually-defined: Attribute which type is manually defined by the user i.e. the type was not automatically inferred.\n",
      "\ttokenized: The attribute value is obtained through tokenization.\n",
      "\thas-dict: The attribute is attached to a string dictionary e.g. a categorical attribute stored as a string.\n",
      "\tvocab-size: Number of unique values.\n",
      "\n",
      "[INFO kernel.cc:772] Configure learner\n",
      "[INFO kernel.cc:797] Training config:\n",
      "learner: \"RANDOM_FOREST\"\n",
      "features: \"bwd_pkt_len_std\"\n",
      "features: \"flow_duration\"\n",
      "features: \"flow_iat_std\"\n",
      "features: \"pkt_size_avg\"\n",
      "label: \"__LABEL\"\n",
      "task: CLASSIFICATION\n",
      "[yggdrasil_decision_forests.model.random_forest.proto.random_forest_config] {\n",
      "  num_trees: 300\n",
      "  decision_tree {\n",
      "    max_depth: 16\n",
      "    min_examples: 5\n",
      "    in_split_min_examples_check: true\n",
      "    missing_value_policy: GLOBAL_IMPUTATION\n",
      "    allow_na_conditions: false\n",
      "    categorical_set_greedy_forward {\n",
      "      sampling: 0.1\n",
      "      max_num_items: -1\n",
      "      min_item_frequency: 1\n",
      "    }\n",
      "    growing_strategy_local {\n",
      "    }\n",
      "    categorical {\n",
      "      cart {\n",
      "      }\n",
      "    }\n",
      "    num_candidate_attributes_ratio: -1\n",
      "    axis_aligned_split {\n",
      "    }\n",
      "    internal {\n",
      "      sorting_strategy: PRESORTED\n",
      "    }\n",
      "  }\n",
      "  winner_take_all_inference: true\n",
      "  compute_oob_performances: true\n",
      "  compute_oob_variable_importances: false\n",
      "  adapt_bootstrap_size_ratio_for_maximum_training_duration: false\n",
      "}\n",
      "\n",
      "[INFO kernel.cc:800] Deployment config:\n",
      "\n",
      "[INFO kernel.cc:837] Train model\n",
      "[INFO random_forest.cc:303] Training random forest on 5565192 example(s) and 4 feature(s).\n",
      "[INFO random_forest.cc:578] Training of tree  1/300 (tree index:2) done accuracy:0.996984 logloss:0.108703\n",
      "[INFO random_forest.cc:578] Training of tree  11/300 (tree index:9) done accuracy:0.997088 logloss:0.0898228\n",
      "[INFO random_forest.cc:578] Training of tree  19/300 (tree index:19) done accuracy:0.997105 logloss:0.0851756\n",
      "[INFO random_forest.cc:578] Training of tree  29/300 (tree index:29) done accuracy:0.997113 logloss:0.0812797\n",
      "[INFO random_forest.cc:578] Training of tree  37/300 (tree index:37) done accuracy:0.997113 logloss:0.0795389\n",
      "[INFO random_forest.cc:578] Training of tree  47/300 (tree index:46) done accuracy:0.997118 logloss:0.0778509\n",
      "[INFO random_forest.cc:578] Training of tree  55/300 (tree index:54) done accuracy:0.997113 logloss:0.0767058\n",
      "[INFO random_forest.cc:578] Training of tree  65/300 (tree index:64) done accuracy:0.997115 logloss:0.0752676\n",
      "[INFO random_forest.cc:578] Training of tree  73/300 (tree index:72) done accuracy:0.997115 logloss:0.0745434\n",
      "[INFO random_forest.cc:578] Training of tree  83/300 (tree index:82) done accuracy:0.997116 logloss:0.0736428\n",
      "[INFO random_forest.cc:578] Training of tree  91/300 (tree index:90) done accuracy:0.997112 logloss:0.0729741\n",
      "[INFO random_forest.cc:578] Training of tree  99/300 (tree index:99) done accuracy:0.99711 logloss:0.0723139\n",
      "[INFO random_forest.cc:578] Training of tree  107/300 (tree index:106) done accuracy:0.99711 logloss:0.0718316\n",
      "[INFO random_forest.cc:578] Training of tree  116/300 (tree index:115) done accuracy:0.997113 logloss:0.0709375\n",
      "[INFO random_forest.cc:578] Training of tree  124/300 (tree index:123) done accuracy:0.99711 logloss:0.07053\n",
      "[INFO random_forest.cc:578] Training of tree  133/300 (tree index:130) done accuracy:0.99711 logloss:0.0699864\n",
      "[INFO random_forest.cc:578] Training of tree  141/300 (tree index:140) done accuracy:0.997108 logloss:0.0694699\n",
      "[INFO random_forest.cc:578] Training of tree  148/300 (tree index:147) done accuracy:0.997109 logloss:0.0691229\n",
      "[INFO random_forest.cc:578] Training of tree  157/300 (tree index:156) done accuracy:0.997107 logloss:0.0687518\n",
      "[INFO random_forest.cc:578] Training of tree  166/300 (tree index:165) done accuracy:0.997107 logloss:0.0683366\n",
      "[INFO random_forest.cc:578] Training of tree  175/300 (tree index:174) done accuracy:0.997109 logloss:0.0680178\n",
      "[INFO random_forest.cc:578] Training of tree  184/300 (tree index:184) done accuracy:0.997109 logloss:0.0676068\n",
      "[INFO random_forest.cc:578] Training of tree  194/300 (tree index:192) done accuracy:0.997107 logloss:0.0671352\n",
      "[INFO random_forest.cc:578] Training of tree  201/300 (tree index:200) done accuracy:0.997108 logloss:0.0668059\n",
      "[INFO random_forest.cc:578] Training of tree  208/300 (tree index:208) done accuracy:0.99711 logloss:0.0665099\n",
      "[INFO random_forest.cc:578] Training of tree  218/300 (tree index:217) done accuracy:0.997107 logloss:0.06618\n",
      "[INFO random_forest.cc:578] Training of tree  225/300 (tree index:224) done accuracy:0.997107 logloss:0.0659819\n",
      "[INFO random_forest.cc:578] Training of tree  234/300 (tree index:232) done accuracy:0.997107 logloss:0.0656627\n",
      "[INFO random_forest.cc:578] Training of tree  243/300 (tree index:242) done accuracy:0.997111 logloss:0.0654126\n",
      "[INFO random_forest.cc:578] Training of tree  252/300 (tree index:253) done accuracy:0.997112 logloss:0.0651231\n",
      "[INFO random_forest.cc:578] Training of tree  261/300 (tree index:260) done accuracy:0.997112 logloss:0.0648948\n",
      "[INFO random_forest.cc:578] Training of tree  270/300 (tree index:269) done accuracy:0.997111 logloss:0.0647267\n",
      "[INFO random_forest.cc:578] Training of tree  278/300 (tree index:278) done accuracy:0.997111 logloss:0.0645637\n",
      "[INFO random_forest.cc:578] Training of tree  288/300 (tree index:287) done accuracy:0.997113 logloss:0.0642322\n",
      "[INFO random_forest.cc:578] Training of tree  295/300 (tree index:294) done accuracy:0.997111 logloss:0.064033\n",
      "[INFO random_forest.cc:578] Training of tree  300/300 (tree index:299) done accuracy:0.997112 logloss:0.0639348\n",
      "[INFO random_forest.cc:645] Final OOB metrics: accuracy:0.997112 logloss:0.0639348\n",
      "[INFO kernel.cc:856] Export model in log directory: /tmp/tmpraei2wh4\n",
      "[INFO kernel.cc:864] Save model in resources\n",
      "[INFO kernel.cc:960] Loading model from path\n",
      "[INFO decision_forest.cc:590] Model loaded with 300 root(s), 586268 node(s), and 4 input feature(s).\n",
      "[INFO abstract_model.cc:973] Engine \"RandomForestOptPred\" built\n",
      "[INFO kernel.cc:820] Use fast generic engine\n"
     ]
    }
   ],
   "source": [
    "# Trainieren des Modells\n",
    "print(\"Training the Model...\")\n",
    "with sys_pipes():\n",
    "    model.fit(x=training_dataset_LOIC)"
   ]
  },
  {
   "cell_type": "code",
   "execution_count": 48,
   "metadata": {},
   "outputs": [
    {
     "output_type": "stream",
     "name": "stdout",
     "text": [
      "Evaluating the Model...\n",
      "37244/37244 [==============================] - 90s 2ms/step - loss: 0.0000e+00 - accuracy: 0.9971\n",
      "\n",
      "loss: 0.0000\n",
      "accuracy: 0.9971\n"
     ]
    }
   ],
   "source": [
    "# Evaluieren des trainierten Modells\n",
    "print(\"Evaluating the Model...\")\n",
    "evaluation = model.evaluate(testing_dataset_LOIC, return_dict=True)\n",
    "print()\n",
    "for name, value in evaluation.items():\n",
    "    print(f\"{name}: {value:.4f}\")\n"
   ]
  },
  {
   "cell_type": "code",
   "execution_count": 49,
   "metadata": {},
   "outputs": [
    {
     "output_type": "stream",
     "name": "stdout",
     "text": [
      "INFO:tensorflow:Assets written to: ../Data/Models/loic_model/assets\n",
      "INFO:tensorflow:Assets written to: ../Data/Models/loic_model/assets\n"
     ]
    }
   ],
   "source": [
    "data_path = \"../Data\"\n",
    "model_path = \"Models\"\n",
    "onnx_path = \"ONNX_Models\"\n",
    "model_name = \"loic_model\"\n",
    "\n",
    "# Trainiertes Modell für die spätere Verwendung abspeichern\n",
    "model.save(os.path.join(data_path,model_path,model_name),overwrite=True)\n",
    "\n",
    "# Konvertieren in das ONNX Modell\n",
    "# onnx_model = k2o.convert_keras(model,df_model_name)\n",
    "# onnx.save_model(onnx_model,os.path.join(data_path,onnx_path,model_name + \".onnx\"))\n",
    "\n"
   ]
  },
  {
   "cell_type": "code",
   "execution_count": 50,
   "metadata": {},
   "outputs": [
    {
     "output_type": "execute_result",
     "data": {
      "text/plain": [
       "'\\n<script src=\"https://d3js.org/d3.v6.min.js\"></script>\\n<div id=\"tree_plot_ad86c3d8b8ba497b9498b329f4bb4379\"></div>\\n<script>\\n/*\\n * Copyright 2021 Google LLC.\\n * Licensed under the Apache License, Version 2.0 (the \"License\");\\n * you may not use this file except in compliance with the License.\\n * You may obtain a copy of the License at\\n *\\n *     https://www.apache.org/licenses/LICENSE-2.0\\n *\\n * Unless required by applicable law or agreed to in writing, software\\n * distributed under the License is distributed on an \"AS IS\" BASIS,\\n * WITHOUT WARRANTIES OR CONDITIONS OF ANY KIND, either express or implied.\\n * See the License for the specific language governing permissions and\\n * limitations under the License.\\n */\\n\\n/**\\n *  Plotting of decision trees generated by TF-DF.\\n *\\n *  A tree is a recursive structure of node objects.\\n *  A node contains one or more of the following components:\\n *\\n *    - A value: Representing the output of the node. If the node is not a leaf,\\n *      the value is only present for analysis i.e. it is not used for\\n *      predictions.\\n *\\n *    - A condition : For non-leaf nodes, the condition (also known as split)\\n *      defines a binary test to branch to the positive or negative child.\\n *\\n *    - An explanation: Generally a plot showing the relation between the label\\n *      and the condition to give insights about the effect of the condition.\\n *\\n *    - Two children : For non-leaf nodes, the children nodes. The first\\n *      children (i.e. \"node.children[0]\") is the negative children (drawn in\\n *      red). The second children is the positive one (drawn in green).\\n *\\n */\\n\\n/**\\n * Plots a single decision tree into a DOM element.\\n * @param {!options} options Dictionary of configurations.\\n * @param {!tree} raw_tree Recursive tree structure.\\n * @param {string} canvas_id Id of the output dom element.\\n */\\nfunction display_tree(options, raw_tree, canvas_id) {\\n  console.log(options);\\n\\n  // Determine the node placement.\\n  const tree_struct = d3.tree().nodeSize(\\n      [options.node_y_offset, options.node_x_offset])(d3.hierarchy(raw_tree));\\n\\n  // Boundaries of the node placement.\\n  let x_min = Infinity;\\n  let x_max = -x_min;\\n  let y_min = Infinity;\\n  let y_max = -x_min;\\n\\n  tree_struct.each(d => {\\n    if (d.x > x_max) x_max = d.x;\\n    if (d.x < x_min) x_min = d.x;\\n    if (d.y > y_max) y_max = d.y;\\n    if (d.y < y_min) y_min = d.y;\\n  });\\n\\n  // Size of the plot.\\n  const width = y_max - y_min + options.node_x_size + options.margin * 2;\\n  const height = x_max - x_min + options.node_y_size + options.margin * 2 +\\n      options.node_y_offset - options.node_y_size;\\n\\n  const plot = d3.select(canvas_id);\\n\\n  // Tool tip\\n  options.tooltip = plot.append(\\'div\\')\\n                        .attr(\\'width\\', 100)\\n                        .attr(\\'height\\', 100)\\n                        .style(\\'padding\\', \\'4px\\')\\n                        .style(\\'background\\', \\'#fff\\')\\n                        .style(\\'box-shadow\\', \\'4px 4px 0px rgba(0,0,0,0.1)\\')\\n                        .style(\\'border\\', \\'1px solid black\\')\\n                        .style(\\'font-family\\', \\'sans-serif\\')\\n                        .style(\\'font-size\\', options.font_size)\\n                        .style(\\'position\\', \\'absolute\\')\\n                        .style(\\'z-index\\', \\'10\\')\\n                        .attr(\\'pointer-events\\', \\'none\\')\\n                        .style(\\'display\\', \\'none\\');\\n\\n  // Create canvas\\n  const svg = plot.append(\\'svg\\').attr(\\'width\\', width).attr(\\'height\\', height);\\n  const graph =\\n      svg.style(\\'overflow\\', \\'visible\\')\\n          .append(\\'g\\')\\n          .attr(\\'font-family\\', \\'sans-serif\\')\\n          .attr(\\'font-size\\', options.font_size)\\n          .attr(\\n              \\'transform\\',\\n              () => `translate(${options.margin},${\\n                  - x_min + options.node_y_offset / 2 + options.margin})`);\\n\\n  // Plot bounding box.\\n  if (options.show_plot_bounding_box) {\\n    svg.append(\\'rect\\')\\n        .attr(\\'width\\', width)\\n        .attr(\\'height\\', height)\\n        .attr(\\'fill\\', \\'none\\')\\n        .attr(\\'stroke-width\\', 1.0)\\n        .attr(\\'stroke\\', \\'black\\');\\n  }\\n\\n  // Draw the edges.\\n  display_edges(options, graph, tree_struct);\\n\\n  // Draw the nodes.\\n  display_nodes(options, graph, tree_struct);\\n}\\n\\n/**\\n * Draw the nodes of the tree.\\n * @param {!options} options Dictionary of configurations.\\n * @param {!graph} graph D3 search handle containing the graph.\\n * @param {!tree_struct} tree_struct Structure of the tree (node placement,\\n *     data, etc.).\\n */\\nfunction display_nodes(options, graph, tree_struct) {\\n  const nodes = graph.append(\\'g\\')\\n                    .selectAll(\\'g\\')\\n                    .data(tree_struct.descendants())\\n                    .join(\\'g\\')\\n                    .attr(\\'transform\\', d => `translate(${d.y},${d.x})`);\\n\\n  nodes.append(\\'rect\\')\\n      .attr(\\'x\\', 0.5)\\n      .attr(\\'y\\', 0.5)\\n      .attr(\\'width\\', options.node_x_size)\\n      .attr(\\'height\\', options.node_y_size)\\n      .attr(\\'stroke\\', \\'lightgrey\\')\\n      .attr(\\'stroke-width\\', 1)\\n      .attr(\\'fill\\', \\'white\\')\\n      .attr(\\'y\\', -options.node_y_size / 2);\\n\\n  // Brackets on the right of condition nodes without children.\\n  non_leaf_node_without_children =\\n      nodes.filter(node => node.data.condition != null && node.children == null)\\n          .append(\\'g\\')\\n          .attr(\\'transform\\', `translate(${options.node_x_size},0)`);\\n\\n  non_leaf_node_without_children.append(\\'path\\')\\n      .attr(\\'d\\', \\'M0,0 C 10,0 0,10 10,10\\')\\n      .attr(\\'fill\\', \\'none\\')\\n      .attr(\\'stroke-width\\', 1.0)\\n      .attr(\\'stroke\\', \\'#F00\\');\\n\\n  non_leaf_node_without_children.append(\\'path\\')\\n      .attr(\\'d\\', \\'M0,0 C 10,0 0,-10 10,-10\\')\\n      .attr(\\'fill\\', \\'none\\')\\n      .attr(\\'stroke-width\\', 1.0)\\n      .attr(\\'stroke\\', \\'#0F0\\');\\n\\n  const node_content = nodes.append(\\'g\\').attr(\\n      \\'transform\\',\\n      `translate(0,${options.node_padding - options.node_y_size / 2})`);\\n\\n  node_content.append(node => create_node_element(options, node));\\n}\\n\\n/**\\n * Creates the D3 content for a single node.\\n * @param {!options} options Dictionary of configurations.\\n * @param {!node} node Node to draw.\\n * @return {!d3} D3 content.\\n */\\nfunction create_node_element(options, node) {\\n  // Output accumulator.\\n  let output = {\\n    // Content to draw.\\n    content: d3.create(\\'svg:g\\'),\\n    // Vertical offset to the next element to draw.\\n    vertical_offset: 0\\n  };\\n\\n  // Conditions.\\n  if (node.data.condition != null) {\\n    display_condition(options, node.data.condition, output);\\n  }\\n\\n  // Values.\\n  if (node.data.value != null) {\\n    display_value(options, node.data.value, output);\\n  }\\n\\n  // Explanations.\\n  if (node.data.explanation != null) {\\n    display_explanation(options, node.data.explanation, output);\\n  }\\n\\n  return output.content.node();\\n}\\n\\n\\n/**\\n * Adds a single line of text inside of a node.\\n * @param {!options} options Dictionary of configurations.\\n * @param {string} text Text to display.\\n * @param {!output} output Output display accumulator.\\n */\\nfunction display_node_text(options, text, output) {\\n  output.content.append(\\'text\\')\\n      .attr(\\'x\\', options.node_padding)\\n      .attr(\\'y\\', output.vertical_offset)\\n      .attr(\\'alignment-baseline\\', \\'hanging\\')\\n      .text(text);\\n  output.vertical_offset += 10;\\n}\\n\\n/**\\n * Adds a single line of text inside of a node with a tooltip.\\n * @param {!options} options Dictionary of configurations.\\n * @param {string} text Text to display.\\n * @param {string} tooltip Text in the Tooltip.\\n * @param {!output} output Output display accumulator.\\n */\\nfunction display_node_text_with_tooltip(options, text, tooltip, output) {\\n  const item = output.content.append(\\'text\\')\\n                   .attr(\\'x\\', options.node_padding)\\n                   .attr(\\'alignment-baseline\\', \\'hanging\\')\\n                   .text(text);\\n\\n  add_tooltip(options, item, () => tooltip);\\n  output.vertical_offset += 10;\\n}\\n\\n/**\\n * Adds a tooltip to a dom element.\\n * @param {!options} options Dictionary of configurations.\\n * @param {!dom} target Dom element to equip with a tooltip.\\n * @param {!func} get_content Generates the html content of the tooltip.\\n */\\nfunction add_tooltip(options, target, get_content) {\\n  function show(d) {\\n    options.tooltip.style(\\'display\\', \\'block\\');\\n    options.tooltip.html(get_content());\\n  }\\n\\n  function hide(d) {\\n    options.tooltip.style(\\'display\\', \\'none\\');\\n  }\\n\\n  function move(d) {\\n    options.tooltip.style(\\'display\\', \\'block\\');\\n    options.tooltip.style(\\'left\\', (d.pageX + 5) + \\'px\\');\\n    options.tooltip.style(\\'top\\', d.pageY + \\'px\\');\\n  }\\n\\n  target.on(\\'mouseover\\', show);\\n  target.on(\\'mouseout\\', hide);\\n  target.on(\\'mousemove\\', move);\\n}\\n\\n/**\\n * Adds a condition inside of a node.\\n * @param {!options} options Dictionary of configurations.\\n * @param {!condition} condition Condition to display.\\n * @param {!output} output Output display accumulator.\\n */\\nfunction display_condition(options, condition, output) {\\n  threshold_format = d3.format(\\'r\\');\\n\\n  if (condition.type === \\'IS_MISSING\\') {\\n    display_node_text(options, `${condition.attribute} is missing`, output);\\n    return;\\n  }\\n\\n  if (condition.type === \\'IS_TRUE\\') {\\n    display_node_text(options, `${condition.attribute} is true`, output);\\n    return;\\n  }\\n\\n  if (condition.type === \\'NUMERICAL_IS_HIGHER_THAN\\') {\\n    format = d3.format(\\'r\\');\\n    display_node_text(\\n        options,\\n        `${condition.attribute} >= ${threshold_format(condition.threshold)}`,\\n        output);\\n    return;\\n  }\\n\\n  if (condition.type === \\'CATEGORICAL_IS_IN\\') {\\n    display_node_text_with_tooltip(\\n        options, `${condition.attribute} in [...]`,\\n        `${condition.attribute} in [${condition.mask}]`, output);\\n    return;\\n  }\\n\\n  if (condition.type === \\'CATEGORICAL_SET_CONTAINS\\') {\\n    display_node_text_with_tooltip(\\n        options, `${condition.attribute} intersect [...]`,\\n        `${condition.attribute} intersect [${condition.mask}]`, output);\\n    return;\\n  }\\n\\n  if (condition.type === \\'NUMERICAL_SPARSE_OBLIQUE\\') {\\n    display_node_text_with_tooltip(\\n        options, `Sparse oblique split...`,\\n        `[${condition.attributes}]*[${condition.weights}]>=${\\n            threshold_format(condition.threshold)}`,\\n        output);\\n    return;\\n  }\\n\\n  display_node_text(\\n      options, `Non supported condition ${condition.type}`, output);\\n}\\n\\n/**\\n * Adds a value inside of a node.\\n * @param {!options} options Dictionary of configurations.\\n * @param {!value} value Value to display.\\n * @param {!output} output Output display accumulator.\\n */\\nfunction display_value(options, value, output) {\\n  if (value.type === \\'PROBABILITY\\') {\\n    const left_margin = 0;\\n    const right_margin = 50;\\n    const plot_width = options.node_x_size - options.node_padding * 2 -\\n        left_margin - right_margin;\\n\\n    let cusum = Array.from(d3.cumsum(value.distribution));\\n    cusum.unshift(0);\\n    const distribution_plot = output.content.append(\\'g\\').attr(\\n        \\'transform\\', `translate(0,${output.vertical_offset + 0.5})`);\\n\\n    distribution_plot.selectAll(\\'rect\\')\\n        .data(value.distribution)\\n        .join(\\'rect\\')\\n        .attr(\\'height\\', 10)\\n        .attr(\\n            \\'x\\',\\n            (d, i) =>\\n                (cusum[i] * plot_width + left_margin + options.node_padding))\\n        .attr(\\'width\\', (d, i) => d * plot_width)\\n        .style(\\'fill\\', (d, i) => d3.schemeSet1[i]);\\n\\n    const num_examples =\\n        output.content.append(\\'g\\')\\n            .attr(\\'transform\\', `translate(0,${output.vertical_offset})`)\\n            .append(\\'text\\')\\n            .attr(\\'x\\', options.node_x_size - options.node_padding)\\n            .attr(\\'alignment-baseline\\', \\'hanging\\')\\n            .attr(\\'text-anchor\\', \\'end\\')\\n            .text(`(${value.num_examples})`);\\n\\n    const distribution_details = d3.create(\\'ul\\');\\n    distribution_details.selectAll(\\'li\\')\\n        .data(value.distribution)\\n        .join(\\'li\\')\\n        .append(\\'span\\')\\n        .text(\\n            (d, i) =>\\n                \\'class \\' + i + \\': \\' + d3.format(\\'.3%\\')(value.distribution[i]));\\n\\n    add_tooltip(options, distribution_plot, () => distribution_details.html());\\n    add_tooltip(options, num_examples, () => \\'Number of examples\\');\\n\\n    output.vertical_offset += 10;\\n    return;\\n  }\\n\\n  if (value.type === \\'REGRESSION\\') {\\n    display_node_text(\\n        options,\\n        \\'value: \\' + d3.format(\\'r\\')(value.value) + ` (` +\\n            d3.format(\\'.6\\')(value.num_examples) + `)`,\\n        output);\\n    return;\\n  }\\n\\n  display_node_text(options, `Non supported value ${value.type}`, output);\\n}\\n\\n/**\\n * Adds an explanation inside of a node.\\n * @param {!options} options Dictionary of configurations.\\n * @param {!explanation} explanation Explanation to display.\\n * @param {!output} output Output display accumulator.\\n */\\nfunction display_explanation(options, explanation, output) {\\n  // Margin before the explanation.\\n  output.vertical_offset += 10;\\n\\n  display_node_text(\\n      options, `Non supported explanation ${explanation.type}`, output);\\n}\\n\\n\\n/**\\n * Draw the edges of the tree.\\n * @param {!options} options Dictionary of configurations.\\n * @param {!graph} graph D3 search handle containing the graph.\\n * @param {!tree_struct} tree_struct Structure of the tree (node placement,\\n *     data, etc.).\\n */\\nfunction display_edges(options, graph, tree_struct) {\\n  // Draw an edge between a parent and a child node with a bezier.\\n  function draw_single_edge(d) {\\n    return \\'M\\' + (d.source.y + options.node_x_size) + \\',\\' + d.source.x + \\' C\\' +\\n        (d.source.y + options.node_x_size + options.edge_rounding) + \\',\\' +\\n        d.source.x + \\' \\' + (d.target.y - options.edge_rounding) + \\',\\' +\\n        d.target.x + \\' \\' + d.target.y + \\',\\' + d.target.x;\\n  }\\n\\n  graph.append(\\'g\\')\\n      .attr(\\'fill\\', \\'none\\')\\n      .attr(\\'stroke-width\\', 1.2)\\n      .selectAll(\\'path\\')\\n      .data(tree_struct.links())\\n      .join(\\'path\\')\\n      .attr(\\'d\\', draw_single_edge)\\n      .attr(\\n          \\'stroke\\', d => (d.target === d.source.children[0]) ? \\'#0F0\\' : \\'#F00\\');\\n}\\n\\ndisplay_tree({\"margin\": 10, \"node_x_size\": 160, \"node_y_size\": 28, \"node_x_offset\": 180, \"node_y_offset\": 33, \"font_size\": 10, \"edge_rounding\": 20, \"node_padding\": 2, \"show_plot_bounding_box\": false}, {\"value\": {\"type\": \"PROBABILITY\", \"distribution\": [0.927539067834497, 0.072460932165503], \"num_examples\": 5565192.0}, \"condition\": {\"type\": \"NUMERICAL_IS_HIGHER_THAN\", \"attribute\": \"bwd_pkt_len_std\", \"threshold\": 481.995361328125}, \"children\": [{\"value\": {\"type\": \"PROBABILITY\", \"distribution\": [0.6928326510381012, 0.30716734896189873], \"num_examples\": 661737.0}, \"condition\": {\"type\": \"NUMERICAL_IS_HIGHER_THAN\", \"attribute\": \"bwd_pkt_len_std\", \"threshold\": 482.0030212402344}, \"children\": [{\"value\": {\"type\": \"PROBABILITY\", \"distribution\": [1.0, 0.0], \"num_examples\": 458470.0}}, {\"value\": {\"type\": \"PROBABILITY\", \"distribution\": [1.4758913153635367e-05, 0.9999852410868464], \"num_examples\": 203267.0}, \"condition\": {\"type\": \"NUMERICAL_IS_HIGHER_THAN\", \"attribute\": \"flow_iat_std\", \"threshold\": 798255.1875}, \"children\": [{\"value\": {\"type\": \"PROBABILITY\", \"distribution\": [0.6, 0.4], \"num_examples\": 5.0}}, {\"value\": {\"type\": \"PROBABILITY\", \"distribution\": [0.0, 1.0], \"num_examples\": 203262.0}}]}]}, {\"value\": {\"type\": \"PROBABILITY\", \"distribution\": [0.959213452555392, 0.04078654744460793], \"num_examples\": 4903455.0}, \"condition\": {\"type\": \"NUMERICAL_IS_HIGHER_THAN\", \"attribute\": \"flow_duration\", \"threshold\": 6012082.5}, \"children\": [{\"value\": {\"type\": \"PROBABILITY\", \"distribution\": [0.7797676589112654, 0.22023234108873457], \"num_examples\": 778941.0}, \"condition\": {\"type\": \"NUMERICAL_IS_HIGHER_THAN\", \"attribute\": \"flow_iat_std\", \"threshold\": 2.1014931201934814}, \"children\": [{\"value\": {\"type\": \"PROBABILITY\", \"distribution\": [0.9988169612109131, 0.0011830387890868724], \"num_examples\": 493644.0}, \"condition\": {\"type\": \"NUMERICAL_IS_HIGHER_THAN\", \"attribute\": \"flow_iat_std\", \"threshold\": 66992.890625}}, {\"value\": {\"type\": \"PROBABILITY\", \"distribution\": [0.4007507965383443, 0.5992492034616558], \"num_examples\": 285297.0}, \"condition\": {\"type\": \"NUMERICAL_IS_HIGHER_THAN\", \"attribute\": \"flow_duration\", \"threshold\": 50766992.0}}]}, {\"value\": {\"type\": \"PROBABILITY\", \"distribution\": [0.9931029449772749, 0.006897055022725101], \"num_examples\": 4124514.0}, \"condition\": {\"type\": \"NUMERICAL_IS_HIGHER_THAN\", \"attribute\": \"pkt_size_avg\", \"threshold\": 0.6614583730697632}, \"children\": [{\"value\": {\"type\": \"PROBABILITY\", \"distribution\": [0.9999977725981847, 2.2274018153324795e-06], \"num_examples\": 3142675.0}, \"condition\": {\"type\": \"NUMERICAL_IS_HIGHER_THAN\", \"attribute\": \"flow_duration\", \"threshold\": 456440.5}}, {\"value\": {\"type\": \"PROBABILITY\", \"distribution\": [0.9710339475209275, 0.028966052479072434], \"num_examples\": 981839.0}, \"condition\": {\"type\": \"NUMERICAL_IS_HIGHER_THAN\", \"attribute\": \"flow_duration\", \"threshold\": 371752.5}}]}]}]}, \"#tree_plot_ad86c3d8b8ba497b9498b329f4bb4379\")\\n</script>\\n'"
      ]
     },
     "metadata": {},
     "execution_count": 50
    }
   ],
   "source": [
    "# Plotten des ersten Baumes innerhalb des Decision Forests\n",
    "with open('../Data/Models/LOIC_Model_Tree.html', 'w') as f:\n",
    "    f.write(tfdf.model_plotter.plot_model(model, tree_idx=0, max_depth=3))\n",
    "tfdf.model_plotter.plot_model(model, tree_idx=0, max_depth=3)\n"
   ]
  },
  {
   "cell_type": "code",
   "execution_count": 51,
   "metadata": {},
   "outputs": [
    {
     "output_type": "stream",
     "name": "stdout",
     "text": [
      "Model: \"random_forest_model_2\"\n_________________________________________________________________\nLayer (type)                 Output Shape              Param #   \n=================================================================\nTotal params: 1\nTrainable params: 0\nNon-trainable params: 1\n_________________________________________________________________\nType: \"RANDOM_FOREST\"\nTask: CLASSIFICATION\nLabel: \"__LABEL\"\n\nInput Features (4):\n\tbwd_pkt_len_std\n\tflow_duration\n\tflow_iat_std\n\tpkt_size_avg\n\nNo weights\n\nVariable Importance: NUM_NODES:\n    1.   \"flow_duration\" 285691.000000 ################\n    2.    \"pkt_size_avg\" 3430.000000 \n    3.    \"flow_iat_std\" 2718.000000 \n    4. \"bwd_pkt_len_std\" 1145.000000 \n\nVariable Importance: NUM_AS_ROOT:\n    1.   \"flow_duration\" 234.000000 ################\n    2. \"bwd_pkt_len_std\" 66.000000 \n\nVariable Importance: SUM_SCORE:\n    1.   \"flow_duration\" 159002490.749388 ################\n    2.    \"pkt_size_avg\" 137233041.642846 ############\n    3.    \"flow_iat_std\" 69001430.202241 ##\n    4. \"bwd_pkt_len_std\" 55517544.016287 \n\nVariable Importance: MEAN_MIN_DEPTH:\n    1.         \"__LABEL\" 14.037804 ################\n    2. \"bwd_pkt_len_std\"  7.742834 ########\n    3.    \"flow_iat_std\"  3.205292 ###\n    4.    \"pkt_size_avg\"  2.031479 #\n    5.   \"flow_duration\"  0.390593 \n\n\n\nWinner take all: true\nOut-of-bag evaluation: accuracy:0.997112 logloss:0.0639348\nNumber of trees: 300\nTotal number of nodes: 586268\n\nNumber of nodes by tree:\nCount: 300 Average: 1954.23 StdDev: 286.042\nMin: 1037 Max: 2735 Ignored: 0\n----------------------------------------------\n[ 1037, 1121)  1   0.33%   0.33%\n[ 1121, 1206)  1   0.33%   0.67%\n[ 1206, 1291)  1   0.33%   1.00%\n[ 1291, 1376)  5   1.67%   2.67% #\n[ 1376, 1461)  9   3.00%   5.67% ##\n[ 1461, 1546) 14   4.67%  10.33% ###\n[ 1546, 1631) 10   3.33%  13.67% ##\n[ 1631, 1716) 18   6.00%  19.67% ####\n[ 1716, 1801) 26   8.67%  28.33% #####\n[ 1801, 1886) 26   8.67%  37.00% #####\n[ 1886, 1971) 29   9.67%  46.67% ######\n[ 1971, 2056) 39  13.00%  59.67% ########\n[ 2056, 2141) 50  16.67%  76.33% ##########\n[ 2141, 2226) 32  10.67%  87.00% ######\n[ 2226, 2311) 20   6.67%  93.67% ####\n[ 2311, 2396)  6   2.00%  95.67% #\n[ 2396, 2481)  1   0.33%  96.00%\n[ 2481, 2566)  3   1.00%  97.00% #\n[ 2566, 2651)  4   1.33%  98.33% #\n[ 2651, 2735]  5   1.67% 100.00% #\n\nDepth by leafs:\nCount: 293284 Average: 14.0391 StdDev: 1.83405\nMin: 2 Max: 15 Ignored: 0\n----------------------------------------------\n[  2,  3)    271   0.09%   0.09%\n[  3,  4)    448   0.15%   0.25%\n[  4,  5)   1070   0.36%   0.61%\n[  5,  6)   1370   0.47%   1.08%\n[  6,  7)   1320   0.45%   1.53%\n[  7,  8)   1624   0.55%   2.08%\n[  8,  9)   1468   0.50%   2.58%\n[  9, 10)   2325   0.79%   3.37%\n[ 10, 11)   3702   1.26%   4.64%\n[ 11, 12)   7692   2.62%   7.26%\n[ 12, 13)  15549   5.30%  12.56% #\n[ 13, 14)  28034   9.56%  22.12% ##\n[ 14, 15)  46357  15.81%  37.93% ###\n[ 15, 15] 182054  62.07% 100.00% ##########\n\nNumber of training obs by leaf:\nCount: 293284 Average: 5692.63 StdDev: 89597\nMin: 5 Max: 3303393 Ignored: 0\n----------------------------------------------\n[       5,  165174) 291677  99.45%  99.45% ##########\n[  165174,  330343)    435   0.15%  99.60%\n[  330343,  495513)    178   0.06%  99.66%\n[  495513,  660682)    198   0.07%  99.73%\n[  660682,  825852)    311   0.11%  99.83%\n[  825852,  991021)      8   0.00%  99.84%\n[  991021, 1156191)    177   0.06%  99.90%\n[ 1156191, 1321360)      0   0.00%  99.90%\n[ 1321360, 1486530)      0   0.00%  99.90%\n[ 1486530, 1651699)      4   0.00%  99.90%\n[ 1651699, 1816868)      2   0.00%  99.90%\n[ 1816868, 1982038)      0   0.00%  99.90%\n[ 1982038, 2147207)      2   0.00%  99.90%\n[ 2147207, 2312377)    145   0.05%  99.95%\n[ 2312377, 2477546)     88   0.03%  99.98%\n[ 2477546, 2642716)      2   0.00%  99.98%\n[ 2642716, 2807885)      1   0.00%  99.98%\n[ 2807885, 2973055)     15   0.01%  99.99%\n[ 2973055, 3138224)      2   0.00%  99.99%\n[ 3138224, 3303393]     39   0.01% 100.00%\n\nAttribute in nodes:\n\t285691 : flow_duration [NUMERICAL]\n\t3430 : pkt_size_avg [NUMERICAL]\n\t2718 : flow_iat_std [NUMERICAL]\n\t1145 : bwd_pkt_len_std [NUMERICAL]\n\nAttribute in nodes with depth <= 0:\n\t234 : flow_duration [NUMERICAL]\n\t66 : bwd_pkt_len_std [NUMERICAL]\n\nAttribute in nodes with depth <= 1:\n\t416 : flow_duration [NUMERICAL]\n\t246 : pkt_size_avg [NUMERICAL]\n\t181 : bwd_pkt_len_std [NUMERICAL]\n\t57 : flow_iat_std [NUMERICAL]\n\nAttribute in nodes with depth <= 2:\n\t643 : pkt_size_avg [NUMERICAL]\n\t632 : flow_duration [NUMERICAL]\n\t439 : bwd_pkt_len_std [NUMERICAL]\n\t115 : flow_iat_std [NUMERICAL]\n\nAttribute in nodes with depth <= 3:\n\t998 : pkt_size_avg [NUMERICAL]\n\t904 : flow_duration [NUMERICAL]\n\t763 : bwd_pkt_len_std [NUMERICAL]\n\t574 : flow_iat_std [NUMERICAL]\n\nAttribute in nodes with depth <= 5:\n\t2760 : flow_duration [NUMERICAL]\n\t1642 : pkt_size_avg [NUMERICAL]\n\t1640 : flow_iat_std [NUMERICAL]\n\t1077 : bwd_pkt_len_std [NUMERICAL]\n\nCondition type in nodes:\n\t292984 : HigherCondition\nCondition type in nodes with depth <= 0:\n\t300 : HigherCondition\nCondition type in nodes with depth <= 1:\n\t900 : HigherCondition\nCondition type in nodes with depth <= 2:\n\t1829 : HigherCondition\nCondition type in nodes with depth <= 3:\n\t3239 : HigherCondition\nCondition type in nodes with depth <= 5:\n\t7119 : HigherCondition\nNode format: NOT_SET\n\nTraining OOB:\n\ttrees: 1, Out-of-bag evaluation: accuracy:0.996984 logloss:0.108703\n\ttrees: 11, Out-of-bag evaluation: accuracy:0.997088 logloss:0.0898228\n\ttrees: 19, Out-of-bag evaluation: accuracy:0.997105 logloss:0.0851756\n\ttrees: 29, Out-of-bag evaluation: accuracy:0.997113 logloss:0.0812797\n\ttrees: 37, Out-of-bag evaluation: accuracy:0.997113 logloss:0.0795389\n\ttrees: 47, Out-of-bag evaluation: accuracy:0.997118 logloss:0.0778509\n\ttrees: 55, Out-of-bag evaluation: accuracy:0.997113 logloss:0.0767058\n\ttrees: 65, Out-of-bag evaluation: accuracy:0.997115 logloss:0.0752676\n\ttrees: 73, Out-of-bag evaluation: accuracy:0.997115 logloss:0.0745434\n\ttrees: 83, Out-of-bag evaluation: accuracy:0.997116 logloss:0.0736428\n\ttrees: 91, Out-of-bag evaluation: accuracy:0.997112 logloss:0.0729741\n\ttrees: 99, Out-of-bag evaluation: accuracy:0.99711 logloss:0.0723139\n\ttrees: 107, Out-of-bag evaluation: accuracy:0.99711 logloss:0.0718316\n\ttrees: 116, Out-of-bag evaluation: accuracy:0.997113 logloss:0.0709375\n\ttrees: 124, Out-of-bag evaluation: accuracy:0.99711 logloss:0.07053\n\ttrees: 133, Out-of-bag evaluation: accuracy:0.99711 logloss:0.0699864\n\ttrees: 141, Out-of-bag evaluation: accuracy:0.997108 logloss:0.0694699\n\ttrees: 148, Out-of-bag evaluation: accuracy:0.997109 logloss:0.0691229\n\ttrees: 157, Out-of-bag evaluation: accuracy:0.997107 logloss:0.0687518\n\ttrees: 166, Out-of-bag evaluation: accuracy:0.997107 logloss:0.0683366\n\ttrees: 175, Out-of-bag evaluation: accuracy:0.997109 logloss:0.0680178\n\ttrees: 184, Out-of-bag evaluation: accuracy:0.997109 logloss:0.0676068\n\ttrees: 194, Out-of-bag evaluation: accuracy:0.997107 logloss:0.0671352\n\ttrees: 201, Out-of-bag evaluation: accuracy:0.997108 logloss:0.0668059\n\ttrees: 208, Out-of-bag evaluation: accuracy:0.99711 logloss:0.0665099\n\ttrees: 218, Out-of-bag evaluation: accuracy:0.997107 logloss:0.06618\n\ttrees: 225, Out-of-bag evaluation: accuracy:0.997107 logloss:0.0659819\n\ttrees: 234, Out-of-bag evaluation: accuracy:0.997107 logloss:0.0656627\n\ttrees: 243, Out-of-bag evaluation: accuracy:0.997111 logloss:0.0654126\n\ttrees: 252, Out-of-bag evaluation: accuracy:0.997112 logloss:0.0651231\n\ttrees: 261, Out-of-bag evaluation: accuracy:0.997112 logloss:0.0648948\n\ttrees: 270, Out-of-bag evaluation: accuracy:0.997111 logloss:0.0647267\n\ttrees: 278, Out-of-bag evaluation: accuracy:0.997111 logloss:0.0645637\n\ttrees: 288, Out-of-bag evaluation: accuracy:0.997113 logloss:0.0642322\n\ttrees: 295, Out-of-bag evaluation: accuracy:0.997111 logloss:0.064033\n\ttrees: 300, Out-of-bag evaluation: accuracy:0.997112 logloss:0.0639348\n\n"
     ]
    }
   ],
   "source": [
    "# Erstellen einer Bilanz für das trainierte Modell\n",
    "model.summary()"
   ]
  },
  {
   "cell_type": "code",
   "execution_count": 52,
   "metadata": {},
   "outputs": [
    {
     "output_type": "display_data",
     "data": {
      "text/plain": "<Figure size 864x288 with 0 Axes>"
     },
     "metadata": {}
    }
   ],
   "source": [
    "# Erstellen von Grafiken für die Effizienz des Trainings\n",
    "logs = model.make_inspector().training_logs()\n",
    "plt.figure(figsize=(12,4))\n",
    "\n",
    "plt.subplot(1,2,1)\n",
    "plt.plot([log.num_trees for log in logs], [log.evaluation.accuracy for log in logs])\n",
    "plt.xlabel(\"Number of trees\")\n",
    "plt.ylabel(\"Accuracy (out-of-bag)\")\n",
    "\n",
    "plt.subplot(1,2,2)\n",
    "plt.plot([log.num_trees for log in logs], [log.evaluation.loss for log in logs])\n",
    "plt.xlabel(\"Number of trees\")\n",
    "plt.ylabel(\"Logloss (out-of-bag)\")\n",
    "\n",
    "plt.savefig('../Data/Visualized/LOIC_Model.png')\n",
    "plt.clf()"
   ]
  }
 ]
}